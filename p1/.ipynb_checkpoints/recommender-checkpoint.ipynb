{
 "cells": [
  {
   "cell_type": "code",
   "execution_count": 1,
   "metadata": {
    "ExecuteTime": {
     "end_time": "2016-12-27T11:11:22.079194",
     "start_time": "2016-12-27T11:11:21.978952"
    },
    "collapsed": false
   },
   "outputs": [
    {
     "data": {
      "image/png": "[encoded data removed]",
      "text/plain": [
       "<IPython.core.display.Image object>"
      ]
     },
     "execution_count": 1,
     "metadata": {},
     "output_type": "execute_result"
    }
   ],
   "source": [
    "import pygraphviz as sgv\n",
    "import graphviz as gv\n",
    "from IPython.display import Image\n",
    "\n",
    "def draw(dot):\n",
    "    return Image(sgv.AGraph(dot).draw(format='png', prog='dot'))\n",
    "\n",
    "g1 = \"\"\"digraph top {\n",
    "   user_logs -> learning -> save_models -> ranking ;\n",
    "}\"\"\"\n",
    "draw(g1)"
   ]
  },
  {
   "cell_type": "code",
   "execution_count": 2,
   "metadata": {
    "ExecuteTime": {
     "end_time": "2016-12-27T11:11:22.090523",
     "start_time": "2016-12-27T11:11:22.083065"
    },
    "collapsed": false
   },
   "outputs": [],
   "source": [
    "import functools\n",
    "graph = functools.partial(gv.Graph, format='svg')\n",
    "digraph = functools.partial(gv.Digraph, format='svg')"
   ]
  },
  {
   "cell_type": "code",
   "execution_count": 3,
   "metadata": {
    "ExecuteTime": {
     "end_time": "2016-12-27T11:11:22.099929",
     "start_time": "2016-12-27T11:11:22.094847"
    },
    "collapsed": true
   },
   "outputs": [],
   "source": [
    "g5 = graph()"
   ]
  },
  {
   "cell_type": "code",
   "execution_count": 4,
   "metadata": {
    "ExecuteTime": {
     "end_time": "2016-12-27T11:11:22.127031",
     "start_time": "2016-12-27T11:11:22.103355"
    },
    "collapsed": true
   },
   "outputs": [],
   "source": [
    "styles = {\n",
    "    'graph': {\n",
    "        'label': 'Overview of Recommendation System',\n",
    "        'fontsize': '16',\n",
    "        'fontcolor': 'white',\n",
    "        'bgcolor': '#333333',\n",
    "        'rankdir': 'BT',\n",
    "    },\n",
    "    'nodes': {\n",
    "        'fontname': 'Helvetica',\n",
    "        'shape': 'hexagon',\n",
    "        'fontcolor': 'white',\n",
    "        'color': 'white',\n",
    "        'style': 'filled',\n",
    "        'fillcolor': '#006699',\n",
    "    },\n",
    "    'edges': {\n",
    "        'style': 'dashed',\n",
    "        'color': 'white',\n",
    "        'arrowhead': 'open',\n",
    "        'fontname': 'Courier',\n",
    "        'fontsize': '12',\n",
    "        'fontcolor': 'white',\n",
    "    }\n",
    "}"
   ]
  },
  {
   "cell_type": "code",
   "execution_count": 5,
   "metadata": {
    "ExecuteTime": {
     "end_time": "2016-12-27T11:11:22.149327",
     "start_time": "2016-12-27T11:11:22.132969"
    },
    "collapsed": true
   },
   "outputs": [],
   "source": [
    "def add_nodes(graph, nodes):\n",
    "    for n in nodes:\n",
    "        if isinstance(n, tuple):\n",
    "            graph.node(n[0], **n[1])\n",
    "        else:\n",
    "            graph.node(n)\n",
    "    return graph\n",
    "\n",
    "def add_edges(graph, edges):\n",
    "    for e in edges:\n",
    "        if isinstance(e[0], tuple):\n",
    "            graph.edge(*e[0], **e[1])\n",
    "        else:\n",
    "            graph.edge(*e)\n",
    "    return graph"
   ]
  },
  {
   "cell_type": "code",
   "execution_count": 6,
   "metadata": {
    "ExecuteTime": {
     "end_time": "2016-12-27T11:11:22.163573",
     "start_time": "2016-12-27T11:11:22.152730"
    },
    "collapsed": false
   },
   "outputs": [],
   "source": [
    "g5=add_edges(\n",
    "    add_nodes(digraph(), [('A', {'label': 'User Logs'}), ('B', {'label': 'Learning'}),\n",
    "                          ('C', {'label': 'Models'}),('D', {'label': 'Ranking, predicted(100)'})]),\n",
    "    [('A', 'B'), ('B', 'C'), ('C', 'D')]\n",
    ")\n",
    "\n",
    "#.render('img/g5')"
   ]
  },
  {
   "cell_type": "code",
   "execution_count": 7,
   "metadata": {
    "ExecuteTime": {
     "end_time": "2016-12-27T11:11:22.185596",
     "start_time": "2016-12-27T11:11:22.170522"
    },
    "collapsed": true
   },
   "outputs": [],
   "source": [
    "def apply_styles(graph, styles):\n",
    "    graph.graph_attr.update(\n",
    "        ('graph' in styles and styles['graph']) or {}\n",
    "    )\n",
    "    graph.node_attr.update(\n",
    "        ('nodes' in styles and styles['nodes']) or {}\n",
    "    )\n",
    "    graph.edge_attr.update(\n",
    "        ('edges' in styles and styles['edges']) or {}\n",
    "    )\n",
    "    return graph"
   ]
  },
  {
   "cell_type": "code",
   "execution_count": 8,
   "metadata": {
    "ExecuteTime": {
     "end_time": "2016-12-27T11:11:22.243976",
     "start_time": "2016-12-27T11:11:22.190694"
    },
    "collapsed": false
   },
   "outputs": [
    {
     "data": {
      "text/plain": [
       "'img/g5.svg'"
      ]
     },
     "execution_count": 8,
     "metadata": {},
     "output_type": "execute_result"
    }
   ],
   "source": [
    "g5 = apply_styles(g5, styles)\n",
    "g5.render('img/g5')"
   ]
  },
  {
   "cell_type": "code",
   "execution_count": 9,
   "metadata": {
    "ExecuteTime": {
     "end_time": "2016-12-27T11:19:58.932898",
     "start_time": "2016-12-27T11:19:58.921876"
    },
    "collapsed": true
   },
   "outputs": [],
   "source": [
    "from IPython.display import display, Image, SVG, Math, YouTubeVideo"
   ]
  },
  {
   "cell_type": "code",
   "execution_count": 12,
   "metadata": {
    "ExecuteTime": {
     "end_time": "2016-12-27T11:20:57.566711",
     "start_time": "2016-12-27T11:20:57.517266"
    },
    "collapsed": false
   },
   "outputs": [],
   "source": [
    "i = SVG(filename='img/g5.svg')"
   ]
  },
  {
   "cell_type": "code",
   "execution_count": 13,
   "metadata": {
    "ExecuteTime": {
     "end_time": "2016-12-27T11:20:59.412585",
     "start_time": "2016-12-27T11:20:59.395225"
    },
    "collapsed": false
   },
   "outputs": [
    {
     "data": {
      "image/svg+xml": [
       "<svg height=\"286pt\" viewBox=\"0.00 0.00 272.00 286.00\" width=\"272pt\" xmlns=\"http://www.w3.org/2000/svg\" xmlns:xlink=\"http://www.w3.org/1999/xlink\">\n",
       "<g class=\"graph\" id=\"graph0\" transform=\"scale(1 1) rotate(0) translate(4 282)\">\n",
       "<title>%3</title>\n",
       "<polygon fill=\"#333333\" points=\"-4,4 -4,-282 268,-282 268,4 -4,4\" stroke=\"none\"/>\n",
       "<text fill=\"white\" font-family=\"Times,serif\" font-size=\"16.00\" text-anchor=\"middle\" x=\"132\" y=\"-9.2\">Overview of Recommendation System</text>\n",
       "<!-- A -->\n",
       "<g class=\"node\" id=\"node1\"><title>A</title>\n",
       "<polygon fill=\"#006699\" points=\"190.576,-44 161.288,-62 102.712,-62 73.4237,-44 102.712,-26 161.288,-26 190.576,-44\" stroke=\"white\"/>\n",
       "<text fill=\"white\" font-family=\"Helvetica,sans-Serif\" font-size=\"14.00\" text-anchor=\"middle\" x=\"132\" y=\"-40.3\">User Logs</text>\n",
       "</g>\n",
       "<!-- B -->\n",
       "<g class=\"node\" id=\"node2\"><title>B</title>\n",
       "<polygon fill=\"#006699\" points=\"183.568,-116 157.784,-134 106.216,-134 80.4317,-116 106.216,-98 157.784,-98 183.568,-116\" stroke=\"white\"/>\n",
       "<text fill=\"white\" font-family=\"Helvetica,sans-Serif\" font-size=\"14.00\" text-anchor=\"middle\" x=\"132\" y=\"-112.3\">Learning</text>\n",
       "</g>\n",
       "<!-- A&#45;&gt;B -->\n",
       "<g class=\"edge\" id=\"edge1\"><title>A-&gt;B</title>\n",
       "<path d=\"M132,-62.3034C132,-70.0173 132,-79.2875 132,-87.8876\" fill=\"none\" stroke=\"white\" stroke-dasharray=\"5,2\"/>\n",
       "<polygon fill=\"white\" points=\"132,-97.8957 127.5,-87.8956 132,-92.8957 132,-87.8957 132,-87.8957 132,-87.8957 132,-92.8957 136.5,-87.8957 132,-97.8957 132,-97.8957\" stroke=\"white\"/>\n",
       "</g>\n",
       "<!-- C -->\n",
       "<g class=\"node\" id=\"node3\"><title>C</title>\n",
       "<polygon fill=\"#006699\" points=\"177.561,-188 154.78,-206 109.22,-206 86.4393,-188 109.22,-170 154.78,-170 177.561,-188\" stroke=\"white\"/>\n",
       "<text fill=\"white\" font-family=\"Helvetica,sans-Serif\" font-size=\"14.00\" text-anchor=\"middle\" x=\"132\" y=\"-184.3\">Models</text>\n",
       "</g>\n",
       "<!-- B&#45;&gt;C -->\n",
       "<g class=\"edge\" id=\"edge2\"><title>B-&gt;C</title>\n",
       "<path d=\"M132,-134.303C132,-142.017 132,-151.288 132,-159.888\" fill=\"none\" stroke=\"white\" stroke-dasharray=\"5,2\"/>\n",
       "<polygon fill=\"white\" points=\"132,-169.896 127.5,-159.896 132,-164.896 132,-159.896 132,-159.896 132,-159.896 132,-164.896 136.5,-159.896 132,-169.896 132,-169.896\" stroke=\"white\"/>\n",
       "</g>\n",
       "<!-- D -->\n",
       "<g class=\"node\" id=\"node4\"><title>D</title>\n",
       "<polygon fill=\"#006699\" points=\"252.658,-260 192.329,-278 71.6712,-278 11.3424,-260 71.6712,-242 192.329,-242 252.658,-260\" stroke=\"white\"/>\n",
       "<text fill=\"white\" font-family=\"Helvetica,sans-Serif\" font-size=\"14.00\" text-anchor=\"middle\" x=\"132\" y=\"-256.3\">Ranking, predicted(100)</text>\n",
       "</g>\n",
       "<!-- C&#45;&gt;D -->\n",
       "<g class=\"edge\" id=\"edge3\"><title>C-&gt;D</title>\n",
       "<path d=\"M132,-206.303C132,-214.017 132,-223.288 132,-231.888\" fill=\"none\" stroke=\"white\" stroke-dasharray=\"5,2\"/>\n",
       "<polygon fill=\"white\" points=\"132,-241.896 127.5,-231.896 132,-236.896 132,-231.896 132,-231.896 132,-231.896 132,-236.896 136.5,-231.896 132,-241.896 132,-241.896\" stroke=\"white\"/>\n",
       "</g>\n",
       "</g>\n",
       "</svg>"
      ],
      "text/plain": [
       "<IPython.core.display.SVG object>"
      ]
     },
     "metadata": {},
     "output_type": "display_data"
    }
   ],
   "source": [
    "display(i)"
   ]
  },
  {
   "cell_type": "code",
   "execution_count": null,
   "metadata": {
    "collapsed": true
   },
   "outputs": [],
   "source": []
  }
 ],
 "metadata": {
  "hide_input": false,
  "kernelspec": {
   "display_name": "Python [tensorflow]",
   "language": "python",
   "name": "Python [tensorflow]"
  },
  "language_info": {
   "codemirror_mode": {
    "name": "ipython",
    "version": 2
   },
   "file_extension": ".py",
   "mimetype": "text/x-python",
   "name": "python",
   "nbconvert_exporter": "python",
   "pygments_lexer": "ipython2",
   "version": "2.7.12"
  },
  "toc": {
   "toc_cell": false,
   "toc_number_sections": true,
   "toc_threshold": 6,
   "toc_window_display": false
  }
 },
 "nbformat": 4,
 "nbformat_minor": 0
}
