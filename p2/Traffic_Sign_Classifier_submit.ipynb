{
 "cells": [
  {
   "cell_type": "markdown",
   "metadata": {
    "deletable": true,
    "editable": true
   },
   "source": [
    "# Self-Driving Car Engineer Nanodegree\n",
    "\n",
    "## Deep Learning\n",
    "\n",
    "## Project: Build a Traffic Sign Recognition Classifier\n",
    "\n",
    "In this notebook, a template is provided for you to implement your functionality in stages, which is required to successfully complete this project. If additional code is required that cannot be included in the notebook, be sure that the Python code is successfully imported and included in your submission if necessary. \n",
    "\n",
    "> **Note**: Once you have completed all of the code implementations, you need to finalize your work by exporting the iPython Notebook as an HTML document. Before exporting the notebook to html, all of the code cells need to have been run so that reviewers can see the final implementation and output. You can then export the notebook by using the menu above and navigating to  \\n\",\n",
    "    \"**File -> Download as -> HTML (.html)**. Include the finished document along with this notebook as your submission. \n",
    "\n",
    "In addition to implementing code, there is a writeup to complete. The writeup should be completed in a separate file, which can be either a markdown file or a pdf document. There is a [write up template](https://github.com/udacity/CarND-Traffic-Sign-Classifier-Project/blob/master/writeup_template.md) that can be used to guide the writing process. Completing the code template and writeup template will cover all of the [rubric points](https://review.udacity.com/#!/rubrics/481/view) for this project.\n",
    "\n",
    "The [rubric](https://review.udacity.com/#!/rubrics/481/view) contains \"Stand Out Suggestions\" for enhancing the project beyond the minimum requirements. The stand out suggestions are optional. If you decide to pursue the \"stand out suggestions\", you can include the code in this Ipython notebook and also discuss the results in the writeup file.\n",
    "\n",
    "\n",
    ">**Note:** Code and Markdown cells can be executed using the **Shift + Enter** keyboard shortcut. In addition, Markdown cells can be edited by typically double-clicking the cell to enter edit mode."
   ]
  },
  {
   "cell_type": "markdown",
   "metadata": {
    "deletable": true,
    "editable": true
   },
   "source": [
    "---\n",
    "## Step 0: Load The Data"
   ]
  },
  {
   "cell_type": "code",
   "execution_count": 3,
   "metadata": {
    "collapsed": false,
    "deletable": true,
    "editable": true
   },
   "outputs": [],
   "source": [
    "# Visualizations will be shown in the notebook.\n",
    "%matplotlib inline\n",
    "\n",
    "import os\n",
    "from datetime import datetime \n",
    "import collections\n",
    "import random\n",
    "import pickle\n",
    "from collections import Counter\n",
    "import operator\n",
    "\n",
    "\n",
    "import math\n",
    "\n",
    "import numpy as np\n",
    "from numpy import genfromtxt\n",
    "import numpy.ma as ma\n",
    "import pandas as pd\n",
    "\n",
    "import tensorflow as tf\n",
    "from tensorflow.python.tools.inspect_checkpoint import print_tensors_in_checkpoint_file\n",
    "\n",
    "\n",
    "from sklearn.model_selection import train_test_split\n",
    "from sklearn.preprocessing import LabelBinarizer\n",
    "from sklearn.utils import shuffle\n",
    "from skimage import exposure\n",
    "\n",
    "import matplotlib.pyplot as plt\n",
    "from matplotlib.pyplot import figure, imshow, axis\n",
    "from matplotlib.image import imread\n",
    "import matplotlib.image as mpimg\n",
    "import matplotlib.gridspec as gridspec\n",
    "from mpl_toolkits.axes_grid1 import ImageGrid\n",
    "\n",
    "\n",
    "import cv2\n",
    "\n",
    "from PIL import Image"
   ]
  },
  {
   "cell_type": "markdown",
   "metadata": {
    "deletable": true,
    "editable": true
   },
   "source": [
    "helper functions\n",
    "- show_image(image, cmap=None)\n",
    "- load_pickle(filename, directory='.')\n",
    "- list_to_numpy(list_data)\n",
    "- make_indexer(labels)\n",
    "- slice_few_image(data, indexer, cutoff=200)\n",
    "- make_fake_images(images_list, labels_list, copy_no=10)\n",
    "- get_random_image(data, label)\n",
    "- get_random_images(data, label, sample_no = 89)\n",
    "- convert_gray_with_adapthist(X, y = None)\n",
    "- transform_image_test(img,ang_range,shear_range,trans_range)\n",
    "- split_data(data, label, split = 0.3)\n",
    "- load_resized_images_in_directory(width,height,dirname)\n",
    "- resize_image(image, width, height)\n",
    "- load_images_in_directory"
   ]
  },
  {
   "cell_type": "code",
   "execution_count": 4,
   "metadata": {
    "collapsed": false,
    "deletable": true,
    "editable": true
   },
   "outputs": [],
   "source": [
    "def show_image(image, cmap=None):\n",
    "    \n",
    "    if(cmap == 'gray'):\n",
    "        plt.figure(figsize=(5,5))\n",
    "        plt.imshow(image, cmap='gray')\n",
    "    \n",
    "    else:\n",
    "        plt.figure(figsize=(5,5))\n",
    "        plt.imshow(image)\n",
    "        \n",
    "def load_pickle(filename, directory='.'):   \n",
    "    with open(filename, 'rb') as f:\n",
    "         data = pickle.load(f)\n",
    "    return data\n",
    "\n",
    "            \n",
    "def list_to_numpy(list_data):\n",
    "    \n",
    "    return np.array(list_data)\n",
    "\n",
    "\n",
    "def make_indexer(labels):\n",
    "    \n",
    "    indexer = []\n",
    "    new_data = [] \n",
    "    new_labels = []\n",
    "    \n",
    "    x = collections.Counter(labels)\n",
    "\n",
    "    value = 0\n",
    "\n",
    "    for k, v in sorted(x.items()):\n",
    "#        print(k)\n",
    "#        print(v)\n",
    "        value += v\n",
    "        indexer.append(value)\n",
    "        \n",
    "    return indexer\n",
    "\n",
    "def slice_few_image(data, indexer, cutoff=200):\n",
    "     \n",
    "    new_data = [] \n",
    "    new_labels = []\n",
    "\n",
    "    for i in range (len(indexer)-1):\n",
    "        \n",
    "        if(i ==0 and (indexer[0] < cutoff)):\n",
    "            \n",
    "            for step in range(indexer[0]):\n",
    "                new_labels.append(i)\n",
    "                new_data.append(data[step])\n",
    "        \n",
    "        if(indexer[i+1] - indexer[i] < cutoff):\n",
    "            \n",
    "            for step in range(indexer[i+1] - indexer[i]):\n",
    "            \n",
    "                new_labels.append(i+1)\n",
    "                new_data.append(data[indexer[i]+step])\n",
    "                   \n",
    "    return new_data, new_labels\n",
    "\n",
    "def make_fake_images(images_list, labels_list, copy_no=10):\n",
    "    \n",
    "    X_train_fake = []\n",
    "    y_train_fake = []\n",
    "    copy_no = copy_no\n",
    "    \n",
    "    for copy in range(copy_no):\n",
    "        for index, image in  enumerate(images_list):\n",
    "            image = transform_image_test(image,10,5,5)\n",
    "            image =  image.reshape(image.shape + (1,)) \n",
    "            X_train_fake.append(image)\n",
    "            y_train_fake.append(labels_list[index])\n",
    "    return X_train_fake, y_train_fake\n",
    "\n",
    "\n",
    "\n",
    "def get_random_image(data, label):\n",
    "   \n",
    "    random_size = len(data)\n",
    "    \n",
    "    maybe_image = random.randint(0,random_size)\n",
    "          \n",
    "    return data[maybe_image]\n",
    "\n",
    "def get_random_images(data, label, sample_no = 89):\n",
    "    \n",
    "    sample_locs = []\n",
    "    sample_labels = []\n",
    "    \n",
    "    images = []\n",
    "    \n",
    "    for i in range(sample_no):\n",
    "        \n",
    "        image =  get_random_image(data, label)\n",
    "        images.append(image)\n",
    "        \n",
    "    return images\n",
    "\n",
    "\n",
    "def convert_gray_with_adapthist(X, y = None):\n",
    "    #Convert to grayscale, e.g. single Y channel\n",
    "    X = 0.299 * X[:, :, :, 0] + 0.587 * X[:, :, :, 1] + 0.114 * X[:, :, :, 2]\n",
    "    #Scale features to be in [0, 1]\n",
    "    X = (X / 255.).astype(np.float32)\n",
    "    \n",
    " \n",
    "      \n",
    "    # Apply localized histogram localization  \n",
    "    for i in range(X.shape[0]):\n",
    "        X[i] = exposure.equalize_adapthist(X[i])\n",
    "        \n",
    "    print(\"y is %s\" % y)\n",
    "        \n",
    "    if y is not None:  \n",
    "        # Convert to one-hot encoding. Convert back with `y = y.nonzero()[1]`\n",
    "        y = np.eye(43)[y]\n",
    "        # Shuffle the data\n",
    "        X, y = shuffle(X, y)\n",
    "\n",
    "    # Add a single grayscale channel\n",
    "    X = X.reshape(X.shape + (1,)) \n",
    "    return X, y\n",
    "\n",
    "def transform_image_test(img,ang_range,shear_range,trans_range):\n",
    "    '''\n",
    "    This function transforms images to generate new images.\n",
    "    The function takes in following arguments,\n",
    "    1- Image\n",
    "    2- ang_range: Range of angles for rotation\n",
    "    3- shear_range: Range of values to apply affine transform to\n",
    "    4- trans_range: Range of values to apply translations over. \n",
    "    \n",
    "    A Random uniform distribution is used to generate different parameters for transformation\n",
    "    \n",
    "    '''\n",
    "    # Rotation\n",
    "\n",
    "    ang_rot = np.random.uniform(ang_range)-ang_range/2\n",
    "    rows,cols,ch = img.shape    \n",
    "    Rot_M = cv2.getRotationMatrix2D((cols/2,rows/2),ang_rot,1)\n",
    "\n",
    "    # Translation\n",
    "    tr_x = trans_range*np.random.uniform()-trans_range/2\n",
    "    tr_y = trans_range*np.random.uniform()-trans_range/2\n",
    "    Trans_M = np.float32([[1,0,tr_x],[0,1,tr_y]])\n",
    "\n",
    "    # Shear\n",
    "    pts1 = np.float32([[5,5],[20,5],[5,20]])\n",
    "\n",
    "    pt1 = 5+shear_range*np.random.uniform()-shear_range/2\n",
    "    pt2 = 20+shear_range*np.random.uniform()-shear_range/2\n",
    "    \n",
    "    # Brightness \n",
    "    \n",
    "    pts2 = np.float32([[pt1,5],[pt2,pt1],[5,pt2]])\n",
    "\n",
    "    shear_M = cv2.getAffineTransform(pts1,pts2)\n",
    "        \n",
    "    img = cv2.warpAffine(img,Rot_M,(cols,rows))\n",
    "    img = cv2.warpAffine(img,Trans_M,(cols,rows))\n",
    "    img = cv2.warpAffine(img,shear_M,(cols,rows))\n",
    "    \n",
    "#    img = augment_brightness_camera_images(img)\n",
    "    \n",
    "    return img\n",
    "\n",
    "\n",
    "def split_data(data, label, split = 0.3):\n",
    "    \n",
    "    X_train, X_valid, y_train, y_valid = train_test_split(\n",
    "    data,\n",
    "    label,\n",
    "    test_size=split,\n",
    "    random_state=832289)\n",
    "    \n",
    "    return X_train, X_valid, y_train, y_valid\n",
    "\n",
    "\n",
    "\n",
    "\n",
    "\n",
    "def load_resized_images_in_directory(width,height,dirname):\n",
    "    \n",
    "    image_list = os.listdir(dirname)\n",
    "\n",
    "    y_data = np.array(image_list)\n",
    "    y_data2 = np.char.rstrip(y_data,'.jpg')\n",
    "    y_web = y_data2.astype(np.uint8)\n",
    "    \n",
    "    X_web = np.array([cv2.resize(np.array(mpimg.imread(imagedir + fname)),(32,32)) \n",
    "                  for fname in image_list])\n",
    "    \n",
    "    return X_web, y_web\n",
    "    \n",
    "\n",
    "def resize_image(image, width, height):\n",
    "    \n",
    "    return cv2.resize(np.array(image),(width,height))\n",
    "\n",
    "def load_images_in_directory(dirname):\n",
    "    \n",
    "    image_list = os.listdir(dirname)\n",
    "\n",
    "    y_data = np.array(image_list)\n",
    "    y_data2 = np.char.rstrip(y_data,'.jpg')\n",
    "    y_web = y_data2.astype(np.uint8)\n",
    "\n",
    "#    print(y_train[:5])\n",
    "\n",
    "#    print(y_web[:])\n",
    "    \n",
    "    X_web = np.array([mpimg.imread(imagedir + fname) for fname in image_list])\n",
    "    \n",
    "    return X_web, y_web"
   ]
  },
  {
   "cell_type": "code",
   "execution_count": 5,
   "metadata": {
    "collapsed": false,
    "deletable": true,
    "editable": true
   },
   "outputs": [
    {
     "name": "stderr",
     "output_type": "stream",
     "text": [
      "/root/miniconda3/envs/carnd-term1/lib/python3.5/site-packages/skimage/util/dtype.py:110: UserWarning: Possible precision loss when converting from float32 to uint16\n",
      "  \"%s to %s\" % (dtypeobj_in, dtypeobj))\n"
     ]
    },
    {
     "name": "stdout",
     "output_type": "stream",
     "text": [
      "y is None\n"
     ]
    }
   ],
   "source": [
    "X_train_original = load_pickle('train.p')\n",
    "data = X_train_original['features']\n",
    "X_train_gray,_ = convert_gray_with_adapthist(data)"
   ]
  },
  {
   "cell_type": "code",
   "execution_count": 6,
   "metadata": {
    "collapsed": false,
    "deletable": true,
    "editable": true
   },
   "outputs": [
    {
     "name": "stdout",
     "output_type": "stream",
     "text": [
      "0\n"
     ]
    }
   ],
   "source": [
    "y_train_gray = X_train_original['labels']\n",
    "print(y_train_gray[10])"
   ]
  },
  {
   "cell_type": "code",
   "execution_count": 7,
   "metadata": {
    "collapsed": false,
    "deletable": true,
    "editable": true
   },
   "outputs": [
    {
     "name": "stderr",
     "output_type": "stream",
     "text": [
      "/root/miniconda3/envs/carnd-term1/lib/python3.5/site-packages/skimage/util/dtype.py:110: UserWarning: Possible precision loss when converting from float32 to uint16\n",
      "  \"%s to %s\" % (dtypeobj_in, dtypeobj))\n"
     ]
    },
    {
     "name": "stdout",
     "output_type": "stream",
     "text": [
      "y is None\n"
     ]
    }
   ],
   "source": [
    "test = load_pickle('test.p')\n",
    "data_test = test['features']\n",
    "y_test = test['labels']\n",
    "\n",
    "X_test,_ = convert_gray_with_adapthist(data_test)"
   ]
  },
  {
   "cell_type": "markdown",
   "metadata": {
    "deletable": true,
    "editable": true
   },
   "source": [
    "---\n",
    "\n",
    "## Step 1: Dataset Summary & Exploration\n",
    "\n",
    "The pickled data is a dictionary with 4 key/value pairs:\n",
    "\n",
    "- `'features'` is a 4D array containing raw pixel data of the traffic sign images, (num examples, width, height, channels).\n",
    "- `'labels'` is a 1D array containing the label/class id of the traffic sign. The file `signnames.csv` contains id -> name mappings for each id.\n",
    "- `'sizes'` is a list containing tuples, (width, height) representing the the original width and height the image.\n",
    "- `'coords'` is a list containing tuples, (x1, y1, x2, y2) representing coordinates of a bounding box around the sign in the image. **THESE COORDINATES ASSUME THE ORIGINAL IMAGE. THE PICKLED DATA CONTAINS RESIZED VERSIONS (32 by 32) OF THESE IMAGES**\n",
    "\n",
    "Complete the basic data summary below. Use python, numpy and/or pandas methods to calculate the data summary rather than hard coding the results. For example, the [pandas shape method](http://pandas.pydata.org/pandas-docs/stable/generated/pandas.DataFrame.shape.html) might be useful for calculating some of the summary results. "
   ]
  },
  {
   "cell_type": "markdown",
   "metadata": {
    "deletable": true,
    "editable": true
   },
   "source": [
    "### Provide a Basic Summary of the Data Set Using Python, Numpy and/or Pandas"
   ]
  },
  {
   "cell_type": "code",
   "execution_count": 8,
   "metadata": {
    "collapsed": false,
    "deletable": true,
    "editable": true
   },
   "outputs": [
    {
     "name": "stdout",
     "output_type": "stream",
     "text": [
      "Number of training examples = 39209\n",
      "Number of testing examples = 12630\n",
      "Image data shape = (32, 32, 3)\n",
      "number of classes  43\n"
     ]
    }
   ],
   "source": [
    "#### Replace each question mark with the appropriate value. \n",
    "### Use python, pandas or numpy methods rather than hard coding the results\n",
    "\n",
    "# TODO: Number of training examples\n",
    "n_train = len(data)\n",
    "\n",
    "# TODO: Number of testing examples.\n",
    "n_test = len(data_test)\n",
    "\n",
    "# TODO: What's the shape of an traffic sign image?\n",
    "image_shape = data.shape[1:4]\n",
    "\n",
    "# TODO: How many unique classes/labels there are in the dataset.\n",
    "n_classes = np.unique(X_train_original['labels']).size\n",
    "\n",
    "print(\"Number of training examples =\", n_train)\n",
    "print(\"Number of testing examples =\", n_test)\n",
    "print(\"Image data shape =\", image_shape)\n",
    "print(\"number of classes \", n_classes)\n",
    "#print(\"coords_train =\", coords_train)\n",
    "#print(\"size_train =\", size_train)"
   ]
  },
  {
   "cell_type": "markdown",
   "metadata": {
    "deletable": true,
    "editable": true
   },
   "source": [
    "### Include an exploratory visualization of the dataset"
   ]
  },
  {
   "cell_type": "markdown",
   "metadata": {
    "deletable": true,
    "editable": true
   },
   "source": [
    "Visualize the German Traffic Signs Dataset using the pickled file(s). This is open ended, suggestions include: plotting traffic sign images, plotting the count of each sign, etc.\n",
    "\n",
    "The [Matplotlib](http://matplotlib.org/) [examples](http://matplotlib.org/examples/index.html) and [gallery](http://matplotlib.org/gallery.html) pages are a great resource for doing visualizations in Python.\n",
    "\n",
    "**NOTE:** It's recommended you start with something simple first. If you wish to do more, come back to it after you've completed the rest of the sections."
   ]
  },
  {
   "cell_type": "code",
   "execution_count": 9,
   "metadata": {
    "collapsed": false,
    "deletable": true,
    "editable": true
   },
   "outputs": [
    {
     "data": {
      "text/html": [
       "<div>\n",
       "<table border=\"1\" class=\"dataframe\">\n",
       "  <thead>\n",
       "    <tr style=\"text-align: right;\">\n",
       "      <th></th>\n",
       "      <th>ClassId</th>\n",
       "      <th>SignName</th>\n",
       "    </tr>\n",
       "  </thead>\n",
       "  <tbody>\n",
       "    <tr>\n",
       "      <th>0</th>\n",
       "      <td>0</td>\n",
       "      <td>Speed limit (20km/h)</td>\n",
       "    </tr>\n",
       "    <tr>\n",
       "      <th>1</th>\n",
       "      <td>1</td>\n",
       "      <td>Speed limit (30km/h)</td>\n",
       "    </tr>\n",
       "    <tr>\n",
       "      <th>2</th>\n",
       "      <td>2</td>\n",
       "      <td>Speed limit (50km/h)</td>\n",
       "    </tr>\n",
       "    <tr>\n",
       "      <th>3</th>\n",
       "      <td>3</td>\n",
       "      <td>Speed limit (60km/h)</td>\n",
       "    </tr>\n",
       "    <tr>\n",
       "      <th>4</th>\n",
       "      <td>4</td>\n",
       "      <td>Speed limit (70km/h)</td>\n",
       "    </tr>\n",
       "    <tr>\n",
       "      <th>5</th>\n",
       "      <td>5</td>\n",
       "      <td>Speed limit (80km/h)</td>\n",
       "    </tr>\n",
       "    <tr>\n",
       "      <th>6</th>\n",
       "      <td>6</td>\n",
       "      <td>End of speed limit (80km/h)</td>\n",
       "    </tr>\n",
       "    <tr>\n",
       "      <th>7</th>\n",
       "      <td>7</td>\n",
       "      <td>Speed limit (100km/h)</td>\n",
       "    </tr>\n",
       "    <tr>\n",
       "      <th>8</th>\n",
       "      <td>8</td>\n",
       "      <td>Speed limit (120km/h)</td>\n",
       "    </tr>\n",
       "    <tr>\n",
       "      <th>9</th>\n",
       "      <td>9</td>\n",
       "      <td>No passing</td>\n",
       "    </tr>\n",
       "    <tr>\n",
       "      <th>10</th>\n",
       "      <td>10</td>\n",
       "      <td>No passing for vehicles over 3.5 metric tons</td>\n",
       "    </tr>\n",
       "    <tr>\n",
       "      <th>11</th>\n",
       "      <td>11</td>\n",
       "      <td>Right-of-way at the next intersection</td>\n",
       "    </tr>\n",
       "    <tr>\n",
       "      <th>12</th>\n",
       "      <td>12</td>\n",
       "      <td>Priority road</td>\n",
       "    </tr>\n",
       "    <tr>\n",
       "      <th>13</th>\n",
       "      <td>13</td>\n",
       "      <td>Yield</td>\n",
       "    </tr>\n",
       "    <tr>\n",
       "      <th>14</th>\n",
       "      <td>14</td>\n",
       "      <td>Stop</td>\n",
       "    </tr>\n",
       "    <tr>\n",
       "      <th>15</th>\n",
       "      <td>15</td>\n",
       "      <td>No vehicles</td>\n",
       "    </tr>\n",
       "    <tr>\n",
       "      <th>16</th>\n",
       "      <td>16</td>\n",
       "      <td>Vehicles over 3.5 metric tons prohibited</td>\n",
       "    </tr>\n",
       "    <tr>\n",
       "      <th>17</th>\n",
       "      <td>17</td>\n",
       "      <td>No entry</td>\n",
       "    </tr>\n",
       "    <tr>\n",
       "      <th>18</th>\n",
       "      <td>18</td>\n",
       "      <td>General caution</td>\n",
       "    </tr>\n",
       "    <tr>\n",
       "      <th>19</th>\n",
       "      <td>19</td>\n",
       "      <td>Dangerous curve to the left</td>\n",
       "    </tr>\n",
       "    <tr>\n",
       "      <th>20</th>\n",
       "      <td>20</td>\n",
       "      <td>Dangerous curve to the right</td>\n",
       "    </tr>\n",
       "    <tr>\n",
       "      <th>21</th>\n",
       "      <td>21</td>\n",
       "      <td>Double curve</td>\n",
       "    </tr>\n",
       "    <tr>\n",
       "      <th>22</th>\n",
       "      <td>22</td>\n",
       "      <td>Bumpy road</td>\n",
       "    </tr>\n",
       "    <tr>\n",
       "      <th>23</th>\n",
       "      <td>23</td>\n",
       "      <td>Slippery road</td>\n",
       "    </tr>\n",
       "    <tr>\n",
       "      <th>24</th>\n",
       "      <td>24</td>\n",
       "      <td>Road narrows on the right</td>\n",
       "    </tr>\n",
       "    <tr>\n",
       "      <th>25</th>\n",
       "      <td>25</td>\n",
       "      <td>Road work</td>\n",
       "    </tr>\n",
       "    <tr>\n",
       "      <th>26</th>\n",
       "      <td>26</td>\n",
       "      <td>Traffic signals</td>\n",
       "    </tr>\n",
       "    <tr>\n",
       "      <th>27</th>\n",
       "      <td>27</td>\n",
       "      <td>Pedestrians</td>\n",
       "    </tr>\n",
       "    <tr>\n",
       "      <th>28</th>\n",
       "      <td>28</td>\n",
       "      <td>Children crossing</td>\n",
       "    </tr>\n",
       "    <tr>\n",
       "      <th>29</th>\n",
       "      <td>29</td>\n",
       "      <td>Bicycles crossing</td>\n",
       "    </tr>\n",
       "    <tr>\n",
       "      <th>30</th>\n",
       "      <td>30</td>\n",
       "      <td>Beware of ice/snow</td>\n",
       "    </tr>\n",
       "    <tr>\n",
       "      <th>31</th>\n",
       "      <td>31</td>\n",
       "      <td>Wild animals crossing</td>\n",
       "    </tr>\n",
       "    <tr>\n",
       "      <th>32</th>\n",
       "      <td>32</td>\n",
       "      <td>End of all speed and passing limits</td>\n",
       "    </tr>\n",
       "    <tr>\n",
       "      <th>33</th>\n",
       "      <td>33</td>\n",
       "      <td>Turn right ahead</td>\n",
       "    </tr>\n",
       "    <tr>\n",
       "      <th>34</th>\n",
       "      <td>34</td>\n",
       "      <td>Turn left ahead</td>\n",
       "    </tr>\n",
       "    <tr>\n",
       "      <th>35</th>\n",
       "      <td>35</td>\n",
       "      <td>Ahead only</td>\n",
       "    </tr>\n",
       "    <tr>\n",
       "      <th>36</th>\n",
       "      <td>36</td>\n",
       "      <td>Go straight or right</td>\n",
       "    </tr>\n",
       "    <tr>\n",
       "      <th>37</th>\n",
       "      <td>37</td>\n",
       "      <td>Go straight or left</td>\n",
       "    </tr>\n",
       "    <tr>\n",
       "      <th>38</th>\n",
       "      <td>38</td>\n",
       "      <td>Keep right</td>\n",
       "    </tr>\n",
       "    <tr>\n",
       "      <th>39</th>\n",
       "      <td>39</td>\n",
       "      <td>Keep left</td>\n",
       "    </tr>\n",
       "    <tr>\n",
       "      <th>40</th>\n",
       "      <td>40</td>\n",
       "      <td>Roundabout mandatory</td>\n",
       "    </tr>\n",
       "    <tr>\n",
       "      <th>41</th>\n",
       "      <td>41</td>\n",
       "      <td>End of no passing</td>\n",
       "    </tr>\n",
       "    <tr>\n",
       "      <th>42</th>\n",
       "      <td>42</td>\n",
       "      <td>End of no passing by vehicles over 3.5 metric ...</td>\n",
       "    </tr>\n",
       "  </tbody>\n",
       "</table>\n",
       "</div>"
      ],
      "text/plain": [
       "    ClassId                                           SignName\n",
       "0         0                               Speed limit (20km/h)\n",
       "1         1                               Speed limit (30km/h)\n",
       "2         2                               Speed limit (50km/h)\n",
       "3         3                               Speed limit (60km/h)\n",
       "4         4                               Speed limit (70km/h)\n",
       "5         5                               Speed limit (80km/h)\n",
       "6         6                        End of speed limit (80km/h)\n",
       "7         7                              Speed limit (100km/h)\n",
       "8         8                              Speed limit (120km/h)\n",
       "9         9                                         No passing\n",
       "10       10       No passing for vehicles over 3.5 metric tons\n",
       "11       11              Right-of-way at the next intersection\n",
       "12       12                                      Priority road\n",
       "13       13                                              Yield\n",
       "14       14                                               Stop\n",
       "15       15                                        No vehicles\n",
       "16       16           Vehicles over 3.5 metric tons prohibited\n",
       "17       17                                           No entry\n",
       "18       18                                    General caution\n",
       "19       19                        Dangerous curve to the left\n",
       "20       20                       Dangerous curve to the right\n",
       "21       21                                       Double curve\n",
       "22       22                                         Bumpy road\n",
       "23       23                                      Slippery road\n",
       "24       24                          Road narrows on the right\n",
       "25       25                                          Road work\n",
       "26       26                                    Traffic signals\n",
       "27       27                                        Pedestrians\n",
       "28       28                                  Children crossing\n",
       "29       29                                  Bicycles crossing\n",
       "30       30                                 Beware of ice/snow\n",
       "31       31                              Wild animals crossing\n",
       "32       32                End of all speed and passing limits\n",
       "33       33                                   Turn right ahead\n",
       "34       34                                    Turn left ahead\n",
       "35       35                                         Ahead only\n",
       "36       36                               Go straight or right\n",
       "37       37                                Go straight or left\n",
       "38       38                                         Keep right\n",
       "39       39                                          Keep left\n",
       "40       40                               Roundabout mandatory\n",
       "41       41                                  End of no passing\n",
       "42       42  End of no passing by vehicles over 3.5 metric ..."
      ]
     },
     "execution_count": 9,
     "metadata": {},
     "output_type": "execute_result"
    }
   ],
   "source": [
    "traffic_signs = pd.read_csv(\"signnames.csv\")\n",
    "traffic_signs"
   ]
  },
  {
   "cell_type": "code",
   "execution_count": 10,
   "metadata": {
    "collapsed": false,
    "deletable": true,
    "editable": true
   },
   "outputs": [
    {
     "data": {
      "text/plain": [
       "array([[<matplotlib.axes._subplots.AxesSubplot object at 0x7f50cf826e80>]], dtype=object)"
      ]
     },
     "execution_count": 10,
     "metadata": {},
     "output_type": "execute_result"
    },
    {
     "data": {
      "image/png": "[encoded data removed]",
      "text/plain": [
       "<matplotlib.figure.Figure at 0x7f50cf826358>"
      ]
     },
     "metadata": {},
     "output_type": "display_data"
    }
   ],
   "source": [
    "distribution =pd.DataFrame({\"Traffic Sign Distribution\":X_train_original['labels']})\n",
    "distribution.hist(layout=(1,1),bins=100, figsize=(12,5))  "
   ]
  },
  {
   "cell_type": "code",
   "execution_count": 11,
   "metadata": {
    "collapsed": false,
    "deletable": true,
    "editable": true
   },
   "outputs": [
    {
     "data": {
      "image/png": "[encoded data removed]",
      "text/plain": [
       "<matplotlib.figure.Figure at 0x7f50cf6fefd0>"
      ]
     },
     "metadata": {},
     "output_type": "display_data"
    },
    {
     "name": "stdout",
     "output_type": "stream",
     "text": [
      "[]\n",
      "[]\n"
     ]
    }
   ],
   "source": [
    "sample_locs = []\n",
    "sample_labels = []\n",
    "random_size = n_train\n",
    "\n",
    "fig = plt.figure(1, (10., 10.))\n",
    "grid = ImageGrid(fig, 111,  # similar to subplot(111)\n",
    "                 nrows_ncols=(8, 5),  # creates 2x2 grid of axes\n",
    "                 axes_pad=0.1,  # pad between axes in inch.\n",
    "                  )\n",
    "\n",
    "for i in range(40):\n",
    "    maybe_image = get_random_image(X_train_original['features'],X_train_original['labels'])\n",
    "#    grid[i].imshow(maybe_image) \n",
    "#    X_normalized = normalize_grayscale(maybe_image, scale=0.6)\n",
    "    grid[i].imshow(maybe_image) \n",
    "     # The AxesGrid object work as a list of axes.\n",
    "\n",
    "plt.show()\n",
    "\n",
    "print(sample_locs)\n",
    "print(sample_labels)"
   ]
  },
  {
   "cell_type": "markdown",
   "metadata": {
    "deletable": true,
    "editable": true
   },
   "source": [
    "----\n",
    "\n",
    "## Step 2: Design and Test a Model Architecture\n",
    "\n",
    "Design and implement a deep learning model that learns to recognize traffic signs. Train and test your model on the [German Traffic Sign Dataset](http://benchmark.ini.rub.de/?section=gtsrb&subsection=dataset).\n",
    "\n",
    "There are various aspects to consider when thinking about this problem:\n",
    "\n",
    "- Neural network architecture\n",
    "- Play around preprocessing techniques (normalization, rgb to grayscale, etc)\n",
    "- Number of examples per label (some have more than others).\n",
    "- Generate fake data.\n",
    "\n",
    "Here is an example of a [published baseline model on this problem](http://yann.lecun.com/exdb/publis/pdf/sermanet-ijcnn-11.pdf). It's not required to be familiar with the approach used in the paper but, it's good practice to try to read papers like these.\n",
    "\n",
    "**NOTE:** The LeNet-5 implementation shown in the [classroom](https://classroom.udacity.com/nanodegrees/nd013/parts/fbf77062-5703-404e-b60c-95b78b2f3f9e/modules/6df7ae49-c61c-4bb2-a23e-6527e69209ec/lessons/601ae704-1035-4287-8b11-e2c2716217ad/concepts/d4aca031-508f-4e0b-b493-e7b706120f81) at the end of the CNN lesson is a solid starting point. You'll have to change the number of classes and possibly the preprocessing, but aside from that it's plug and play!"
   ]
  },
  {
   "cell_type": "markdown",
   "metadata": {
    "deletable": true,
    "editable": true
   },
   "source": [
    "1. shuffling\n",
    "2. gray conversion\n",
    "3. LeNet-5 architecture from the course\n",
    "4. model layer evaluation (run each model whenever layer is added.)"
   ]
  },
  {
   "cell_type": "markdown",
   "metadata": {
    "deletable": true,
    "editable": true
   },
   "source": [
    "### Pre-process the Data Set (normalization, grayscale, etc.)"
   ]
  },
  {
   "cell_type": "markdown",
   "metadata": {
    "deletable": true,
    "editable": true
   },
   "source": [
    "Use the code cell (or multiple code cells, if necessary) to implement the first step of your project."
   ]
  },
  {
   "cell_type": "markdown",
   "metadata": {
    "deletable": true,
    "editable": true
   },
   "source": [
    "implemented during 'exploratory visualization of the dataset' above \n",
    ": def normalize_grayscale(image_data, scale=1)"
   ]
  },
  {
   "cell_type": "markdown",
   "metadata": {
    "deletable": true,
    "editable": true
   },
   "source": [
    "data normalization(convert to gray) and fake data generation."
   ]
  },
  {
   "cell_type": "code",
   "execution_count": 12,
   "metadata": {
    "collapsed": false,
    "deletable": true,
    "editable": true
   },
   "outputs": [
    {
     "data": {
      "image/png": "[encoded data removed]",
      "text/plain": [
       "<matplotlib.figure.Figure at 0x7f50cd8e76a0>"
      ]
     },
     "metadata": {},
     "output_type": "display_data"
    }
   ],
   "source": [
    "random_size = 10\n",
    "\n",
    "fig = plt.figure(1, (10., 10.))\n",
    "grid = ImageGrid(fig, 111,  # similar to subplot(111)\n",
    "                 nrows_ncols=(2, 5),  # creates 2x2 grid of axes\n",
    "                 axes_pad=0.1,  # pad between axes in inch.\n",
    "                  )\n",
    "\n",
    "for i in range(random_size):\n",
    "    maybe_image = get_random_image(X_train_gray,y_train_gray)\n",
    "    gray = maybe_image.reshape(32,32)\n",
    "    grid[i].imshow(gray,cmap=\"gray\") \n",
    "     \n",
    "plt.show()"
   ]
  },
  {
   "cell_type": "code",
   "execution_count": 13,
   "metadata": {
    "collapsed": false,
    "deletable": true,
    "editable": true
   },
   "outputs": [],
   "source": [
    "test_indexer = make_indexer(y_train_gray)\n",
    "#test_data , test_label =  slice_few_image(data, test_indexer, cutoff=400)\n",
    "test_data , test_label =  slice_few_image(X_train_gray, test_indexer, cutoff=400)"
   ]
  },
  {
   "cell_type": "code",
   "execution_count": 14,
   "metadata": {
    "collapsed": false,
    "deletable": true,
    "editable": true
   },
   "outputs": [],
   "source": [
    "fake_images, fake_labels = make_fake_images(test_data,test_label,copy_no=5)\n",
    "X_train_fake = list_to_numpy(fake_images)\n",
    "y_train_fake = list_to_numpy(fake_labels)"
   ]
  },
  {
   "cell_type": "code",
   "execution_count": 15,
   "metadata": {
    "collapsed": false,
    "deletable": true,
    "editable": true
   },
   "outputs": [
    {
     "name": "stdout",
     "output_type": "stream",
     "text": [
      "(32, 32, 1)\n",
      "0\n"
     ]
    }
   ],
   "source": [
    "print(fake_images[0].shape)\n",
    "print(fake_labels[0])"
   ]
  },
  {
   "cell_type": "code",
   "execution_count": 16,
   "metadata": {
    "collapsed": false,
    "deletable": true,
    "editable": true
   },
   "outputs": [
    {
     "name": "stdout",
     "output_type": "stream",
     "text": [
      "21300\n",
      "21300\n",
      "39209\n",
      "39209\n"
     ]
    }
   ],
   "source": [
    "print(len(fake_images))\n",
    "print(len(fake_labels))\n",
    "print(len(X_train_gray))\n",
    "print(len(y_train_gray))"
   ]
  },
  {
   "cell_type": "code",
   "execution_count": 17,
   "metadata": {
    "collapsed": false,
    "deletable": true,
    "editable": true
   },
   "outputs": [
    {
     "name": "stdout",
     "output_type": "stream",
     "text": [
      "(60509, 32, 32, 1)\n",
      "(60509,)\n"
     ]
    }
   ],
   "source": [
    "X_train_original_fake = np.concatenate((X_train_gray, X_train_fake), axis=0)\n",
    "y_train_original_fake = np.concatenate((y_train_gray, y_train_fake), axis=0)\n",
    "\n",
    "print(X_train_original_fake.shape)\n",
    "print(y_train_original_fake.shape)"
   ]
  },
  {
   "cell_type": "code",
   "execution_count": 18,
   "metadata": {
    "collapsed": false,
    "deletable": true,
    "editable": true
   },
   "outputs": [
    {
     "data": {
      "text/plain": [
       "array([[<matplotlib.axes._subplots.AxesSubplot object at 0x7f50c9374c18>]], dtype=object)"
      ]
     },
     "execution_count": 18,
     "metadata": {},
     "output_type": "execute_result"
    },
    {
     "data": {
      "image/png": "[encoded data removed]",
      "text/plain": [
       "<matplotlib.figure.Figure at 0x7f50cf826160>"
      ]
     },
     "metadata": {},
     "output_type": "display_data"
    }
   ],
   "source": [
    "distribution =pd.DataFrame({\"Traffic Sign Distribution\":y_train_original_fake})\n",
    "distribution.hist(layout=(1,1),bins=100, figsize=(12,5))  "
   ]
  },
  {
   "cell_type": "code",
   "execution_count": 19,
   "metadata": {
    "collapsed": true,
    "deletable": true,
    "editable": true
   },
   "outputs": [],
   "source": [
    "test_indexer_second = make_indexer(y_train_original_fake)\n",
    "#test_data , test_label =  slice_few_image(data, test_indexer, cutoff=400)\n",
    "test_data_second , test_label_second =  slice_few_image(X_train_original_fake, test_indexer_second, cutoff=1000)"
   ]
  },
  {
   "cell_type": "code",
   "execution_count": 20,
   "metadata": {
    "collapsed": false,
    "deletable": true,
    "editable": true
   },
   "outputs": [],
   "source": [
    "fake_images_second, fake_labels_second = make_fake_images(test_data_second,test_label_second,copy_no=3)\n",
    "X_train_fake_second = list_to_numpy(fake_images_second)\n",
    "y_train_fake_second = list_to_numpy(fake_labels_second)"
   ]
  },
  {
   "cell_type": "code",
   "execution_count": 21,
   "metadata": {
    "collapsed": false,
    "deletable": true,
    "editable": true
   },
   "outputs": [
    {
     "name": "stdout",
     "output_type": "stream",
     "text": [
      "18717\n",
      "18717\n",
      "60509\n",
      "60509\n"
     ]
    }
   ],
   "source": [
    "print(len(fake_images_second))\n",
    "print(len(fake_labels_second))\n",
    "print(len(X_train_original_fake))\n",
    "print(len(y_train_original_fake))"
   ]
  },
  {
   "cell_type": "code",
   "execution_count": 22,
   "metadata": {
    "collapsed": false,
    "deletable": true,
    "editable": true
   },
   "outputs": [
    {
     "name": "stdout",
     "output_type": "stream",
     "text": [
      "(79226, 32, 32, 1)\n",
      "(79226,)\n"
     ]
    }
   ],
   "source": [
    "X_train_original_fake_second = np.concatenate((X_train_original_fake, X_train_fake_second), axis=0)\n",
    "y_train_original_fake_second = np.concatenate((y_train_original_fake, y_train_fake_second), axis=0)\n",
    "\n",
    "print(X_train_original_fake_second.shape)\n",
    "print(y_train_original_fake_second.shape)"
   ]
  },
  {
   "cell_type": "code",
   "execution_count": 23,
   "metadata": {
    "collapsed": false,
    "deletable": true,
    "editable": true
   },
   "outputs": [
    {
     "data": {
      "text/plain": [
       "array([[<matplotlib.axes._subplots.AxesSubplot object at 0x7f50c8fd67b8>]], dtype=object)"
      ]
     },
     "execution_count": 23,
     "metadata": {},
     "output_type": "execute_result"
    },
    {
     "data": {
      "image/png": "[encoded data removed]",
      "text/plain": [
       "<matplotlib.figure.Figure at 0x7f50c8e2f7f0>"
      ]
     },
     "metadata": {},
     "output_type": "display_data"
    }
   ],
   "source": [
    "distribution =pd.DataFrame({\"Traffic Sign Distribution\":y_train_original_fake_second})\n",
    "distribution.hist(layout=(1,1),bins=100, figsize=(12,5))  "
   ]
  },
  {
   "cell_type": "markdown",
   "metadata": {
    "deletable": true,
    "editable": true
   },
   "source": [
    "data split and data shuffling."
   ]
  },
  {
   "cell_type": "code",
   "execution_count": 24,
   "metadata": {
    "collapsed": true,
    "deletable": true,
    "editable": true
   },
   "outputs": [],
   "source": [
    "X_train_plus, X_valid_plus, y_train_plus, y_valid_plus = split_data(X_train_original_fake_second,y_train_original_fake_second,split = 0.3)"
   ]
  },
  {
   "cell_type": "code",
   "execution_count": 25,
   "metadata": {
    "collapsed": false,
    "deletable": true,
    "editable": true
   },
   "outputs": [],
   "source": [
    "X_train_plus, y_train_plus = shuffle(X_train_plus,y_train_plus) \n",
    "X_test, y_test = shuffle(X_test, y_test) "
   ]
  },
  {
   "cell_type": "code",
   "execution_count": 41,
   "metadata": {
    "collapsed": true
   },
   "outputs": [],
   "source": [
    "X_train_plus, X_valid_plus, y_train_plus, y_valid_plus = split_data(X_train_original_fake,y_train_original_fake,split = 0.3)"
   ]
  },
  {
   "cell_type": "code",
   "execution_count": 42,
   "metadata": {
    "collapsed": true
   },
   "outputs": [],
   "source": [
    "X_train_plus, y_train_plus = shuffle(X_train_plus,y_train_plus) \n",
    "X_test, y_test = shuffle(X_test, y_test) "
   ]
  },
  {
   "cell_type": "markdown",
   "metadata": {
    "deletable": true,
    "editable": true
   },
   "source": [
    "### Model Architecture"
   ]
  },
  {
   "cell_type": "code",
   "execution_count": 26,
   "metadata": {
    "collapsed": false,
    "deletable": true,
    "editable": true
   },
   "outputs": [
    {
     "name": "stdout",
     "output_type": "stream",
     "text": [
      "0\n"
     ]
    }
   ],
   "source": [
    "tf.reset_default_graph()\n",
    "print(len([n.name for n in tf.get_default_graph().as_graph_def().node]))"
   ]
  },
  {
   "cell_type": "code",
   "execution_count": 27,
   "metadata": {
    "collapsed": false,
    "deletable": true,
    "editable": true
   },
   "outputs": [],
   "source": [
    "### Define your architecture here.\n",
    "### Feel free to use as many code cells as needed.\n",
    "\n",
    "from tensorflow.contrib.layers import flatten\n",
    "\n",
    "def LeNet(x):    \n",
    "    # Arguments used for tf.truncated_normal, randomly defines variables for the weights and biases for each layer\n",
    "    mu = 0\n",
    "    sigma = 0.1\n",
    "    keep_prob = 0.6\n",
    "    keep_prob_fc = 0.7\n",
    "    \n",
    "    \n",
    "    # SOLUTION: Layer 1: Convolutional. Input = 32x32x1. Output = 32x32x16.\n",
    "    conv1_W = tf.Variable(tf.truncated_normal(shape=(3, 3, 1, 16), mean = mu, stddev = sigma),name=\"w1\")\n",
    "    conv1_b = tf.Variable(tf.zeros(16),name=\"b1\")\n",
    "    conv1   = tf.nn.conv2d(x, conv1_W, strides=[1, 1, 1, 1], padding='SAME') + conv1_b\n",
    "\n",
    "    # SOLUTION: Activation.\n",
    "    conv1_relu = tf.nn.relu(conv1)\n",
    "    conv1_drop = tf.nn.dropout(conv1_relu, keep_prob)\n",
    "\n",
    "    # SOLUTION: Pooling. Input = 32x32x16. Output = 16x16x16.\n",
    "    conv1_pool = tf.nn.max_pool(conv1_drop, ksize=[1, 2, 2, 1], strides=[1, 2, 2, 1], padding='SAME')\n",
    "\n",
    "    # SOLUTION: Layer 2: Convolutional. Input = 16x16x16. Output = 16x16x32.\n",
    "    conv2_W = tf.Variable(tf.truncated_normal(shape=(3, 3, 16, 32), mean = mu, stddev = sigma),name=\"w2\")\n",
    "    conv2_b = tf.Variable(tf.zeros(32),name=\"b2\")\n",
    "    conv2   = tf.nn.conv2d(conv1_pool, conv2_W, strides=[1, 1, 1, 1], padding='SAME') + conv2_b\n",
    "    \n",
    "    # SOLUTION: Activation.\n",
    "    conv2_relu = tf.nn.relu(conv2)\n",
    "    conv2_drop = tf.nn.dropout(conv2_relu, keep_prob)\n",
    "\n",
    "    # SOLUTION: Pooling. Input = 16x16x16. Output = 8x8x32.\n",
    "    conv2_pool = tf.nn.max_pool(conv2_drop, ksize=[1, 2, 2, 1], strides=[1, 2, 2, 1], padding='SAME')\n",
    "\n",
    "    # SOLUTION: Flatten. Input = 16x16x16. Input = 8x8x32. Output = 6144.\n",
    "    #    fc0   = flatten(conv2_pool)\n",
    "    \n",
    "    conv1_pool_flat = tf.reshape( conv1_pool, [-1, 16 * 16 * 16])\n",
    "    conv2_pool_flat = tf.reshape( conv2_pool, [-1, 8 * 8 * 32])\n",
    "    fc0 = tf.concat(1,[ conv1_pool_flat , conv2_pool_flat])\n",
    "    \n",
    "    \n",
    "    # SOLUTION: Layer 3: Fully Connected. Input = 6144. Output = 1200.\n",
    "    fc1_W = tf.Variable(tf.truncated_normal(shape=(6144, 1200), mean = mu, stddev = sigma),name=\"fc1_w1\")\n",
    "    fc1_b = tf.Variable(tf.zeros(1200),name=\"fc1_b1\")\n",
    "    fc1   = tf.matmul(fc0, fc1_W) + fc1_b\n",
    "\n",
    "    # SOLUTION: Activation.\n",
    "    fc1_relu    = tf.nn.relu(fc1)\n",
    "    fc1_drop = tf.nn.dropout(fc1_relu, keep_prob_fc)\n",
    "    \n",
    "    # SOLUTION: Layer 4: Fully Connected. Input = 1200. Output = 43.\n",
    "    fc2_W  = tf.Variable(tf.truncated_normal(shape=(1200, 43), mean = mu, stddev = sigma),name=\"fc2_w2\")\n",
    "  \n",
    "    fc2_b  = tf.Variable(tf.zeros(43),name=\"fc2_b2\")\n",
    "    logits  = tf.matmul(  fc1_drop, fc2_W) + fc2_b\n",
    "\n",
    "\n",
    "    return logits"
   ]
  },
  {
   "cell_type": "code",
   "execution_count": 28,
   "metadata": {
    "collapsed": false,
    "deletable": true,
    "editable": true
   },
   "outputs": [],
   "source": [
    "x = tf.placeholder(tf.float32, (None, 32, 32, 1))\n",
    "y = tf.placeholder(tf.int32, (None))\n",
    "one_hot_y = tf.one_hot(y, 43)"
   ]
  },
  {
   "cell_type": "code",
   "execution_count": 29,
   "metadata": {
    "collapsed": false,
    "deletable": true,
    "editable": true
   },
   "outputs": [],
   "source": [
    "rate = 0.001\n",
    "\n",
    "logits = LeNet(x)\n",
    "\n",
    "cross_entropy = tf.nn.softmax_cross_entropy_with_logits(tf.nn.l2_normalize(logits, dim=0), one_hot_y)\n",
    "#loss_operation = tf.reduce_mean(tf.nn.l2_loss(cross_entropy))\n",
    "loss_operation = tf.reduce_mean((cross_entropy))\n",
    "\n",
    "#defining training operation and debugging functions\n",
    "optimizer = tf.train.AdamOptimizer(learning_rate = rate)\n",
    "\n",
    "training_operation = optimizer.minimize(loss_operation)\n",
    "correct_prediction = tf.equal(tf.argmax(logits, 1), tf.argmax(one_hot_y, 1))\n",
    "accuracy_operation = tf.reduce_mean(tf.cast(correct_prediction, tf.float32))\n",
    "topk_operation = tf.nn.top_k(tf.nn.softmax(logits), k=5)\n",
    "y_value = tf.argmax(one_hot_y, 1)\n",
    "\n",
    "\n",
    "tf.summary.scalar(\"loss\", loss_operation)\n",
    "# Create a summary to monitor accuracy tensor\n",
    "tf.summary.scalar(\"accuracy\", accuracy_operation)\n",
    "# Merge all summaries into a single op\n",
    "merged_summary_op = tf.summary.merge_all()"
   ]
  },
  {
   "cell_type": "code",
   "execution_count": 30,
   "metadata": {
    "collapsed": false,
    "deletable": true,
    "editable": true
   },
   "outputs": [],
   "source": [
    "### Train your model here.\n",
    "### Calculate and report the accuracy on the training and validation set.\n",
    "### Once a final model architecture is selected, \n",
    "### the accuracy on the test set should be calculated and reported as well.\n",
    "### Feel free to use as many code cells as needed.\n",
    "\n",
    "EPOCHS = 5\n",
    "BATCH_SIZE = 128\n",
    "\n",
    "# hyper parameters to be remained.\n",
    "\n",
    "# Initializing the variables\n",
    "init = tf.global_variables_initializer()\n",
    "\n",
    "# Calling tf.train.Saver\n",
    "saver = tf.train.Saver()"
   ]
  },
  {
   "cell_type": "code",
   "execution_count": 31,
   "metadata": {
    "collapsed": true,
    "deletable": true,
    "editable": true
   },
   "outputs": [],
   "source": [
    "# defining evaluation function \n",
    "\n",
    "def evaluate(X_data, y_data):\n",
    "    num_examples = len(X_data)\n",
    "    total_accuracy = 0\n",
    "    total_loss = 0\n",
    "    sess = tf.get_default_session()\n",
    "    for offset in range(0, num_examples, BATCH_SIZE):\n",
    "        batch_x, batch_y = X_data[offset:offset+BATCH_SIZE], y_data[offset:offset+BATCH_SIZE]\n",
    "        loss, accuracy = sess.run([loss_operation, accuracy_operation], feed_dict={x: batch_x, y: batch_y})\n",
    "        \n",
    "#       print(loss)\n",
    "        total_loss += loss\n",
    "        total_accuracy += (accuracy * len(batch_x))\n",
    "    return total_loss  , total_accuracy / num_examples\n",
    "\n",
    "def evaluate_topk(X_data, y_data):\n",
    "    num_examples = len(X_data)\n",
    "    sess = tf.get_default_session()\n",
    "    for offset in range(0, num_examples, BATCH_SIZE):\n",
    "        batch_x, batch_y = X_data[offset:offset+BATCH_SIZE], y_data[offset:offset+BATCH_SIZE]\n",
    "        topk_values, topk_indices = sess.run(topk_operation, feed_dict={x: batch_x, y: batch_y})\n",
    "       \n",
    "    return topk_values, topk_indices \n",
    "\n",
    "\n",
    "def evaluate_debugging(X_data, y_data):\n",
    "    num_examples = len(X_data)\n",
    "    total_accuracy = 0\n",
    "    total_loss = 0\n",
    "    sess = tf.get_default_session()\n",
    "    for offset in range(0, num_examples, BATCH_SIZE):\n",
    "        batch_x, batch_y = X_data[offset:offset+BATCH_SIZE], y_data[offset:offset+BATCH_SIZE]\n",
    "        loss_val, acc_val, top_k = sess.run([loss_operation,correct_prediction,topk_operation], feed_dict={x: batch_x, y: batch_y})\n",
    "        \n",
    "#       print(loss)\n",
    "#        total_loss += loss\n",
    "#        total_accuracy += (accuracy * len(batch_x))\n",
    "    return loss_val, acc_val, top_k,batch_x, batch_y"
   ]
  },
  {
   "cell_type": "markdown",
   "metadata": {
    "deletable": true,
    "editable": true
   },
   "source": [
    "### Train, Validate and Test the Model"
   ]
  },
  {
   "cell_type": "markdown",
   "metadata": {
    "deletable": true,
    "editable": true
   },
   "source": [
    "A validation set can be used to assess how well the model is performing. A low accuracy on the training and validation\n",
    "sets imply underfitting. A high accuracy on the test set but low accuracy on the validation set implies overfitting."
   ]
  },
  {
   "cell_type": "code",
   "execution_count": 46,
   "metadata": {
    "collapsed": false,
    "deletable": true,
    "editable": true
   },
   "outputs": [
    {
     "name": "stdout",
     "output_type": "stream",
     "text": [
      "Training...\n",
      "EPOCH 1 ...\n",
      "Train Loss = 3.379\n",
      "Train Accuracy = 0.922\n",
      "EPOCH 2 ...\n",
      "Train Loss = 3.308\n",
      "Train Accuracy = 0.940\n",
      "EPOCH 3 ...\n",
      "Train Loss = 3.297\n",
      "Train Accuracy = 0.948\n",
      "EPOCH 4 ...\n",
      "Train Loss = 3.258\n",
      "Train Accuracy = 0.991\n",
      "EPOCH 5 ...\n",
      "Train Loss = 3.277\n",
      "Train Accuracy = 0.957\n",
      "EPOCH 6 ...\n",
      "Train Loss = 3.237\n",
      "Train Accuracy = 0.983\n",
      "EPOCH 7 ...\n",
      "Train Loss = 3.252\n",
      "Train Accuracy = 1.000\n",
      "EPOCH 8 ...\n",
      "Train Loss = 3.239\n",
      "Train Accuracy = 1.000\n",
      "EPOCH 9 ...\n",
      "Train Loss = 3.255\n",
      "Train Accuracy = 0.983\n",
      "EPOCH 10 ...\n",
      "Train Loss = 3.227\n",
      "Train Accuracy = 0.991\n",
      "EPOCH 10 ...\n",
      "Validation Loss = 3.255\n",
      "Validation Accuracy = 1.000\n",
      "EPOCH 11 ...\n",
      "Train Loss = 3.261\n",
      "Train Accuracy = 1.000\n",
      "EPOCH 12 ...\n",
      "Train Loss = 3.269\n",
      "Train Accuracy = 1.000\n",
      "EPOCH 13 ...\n",
      "Train Loss = 3.268\n",
      "Train Accuracy = 1.000\n",
      "EPOCH 14 ...\n",
      "Train Loss = 3.247\n",
      "Train Accuracy = 1.000\n",
      "EPOCH 15 ...\n",
      "Train Loss = 3.269\n",
      "Train Accuracy = 1.000\n",
      "EPOCH 16 ...\n",
      "Train Loss = 3.257\n",
      "Train Accuracy = 1.000\n",
      "EPOCH 17 ...\n",
      "Train Loss = 3.243\n",
      "Train Accuracy = 1.000\n",
      "EPOCH 18 ...\n",
      "Train Loss = 3.247\n",
      "Train Accuracy = 1.000\n",
      "EPOCH 19 ...\n",
      "Train Loss = 3.261\n",
      "Train Accuracy = 1.000\n",
      "EPOCH 20 ...\n",
      "Train Loss = 3.268\n",
      "Train Accuracy = 1.000\n",
      "EPOCH 20 ...\n",
      "Validation Loss = 3.268\n",
      "Validation Accuracy = 1.000\n",
      "EPOCH 21 ...\n",
      "Train Loss = 3.256\n",
      "Train Accuracy = 0.992\n",
      "EPOCH 22 ...\n",
      "Train Loss = 3.252\n",
      "Train Accuracy = 1.000\n",
      "EPOCH 23 ...\n",
      "Train Loss = 3.271\n",
      "Train Accuracy = 1.000\n",
      "EPOCH 24 ...\n",
      "Train Loss = 3.264\n",
      "Train Accuracy = 0.992\n",
      "EPOCH 25 ...\n",
      "Train Loss = 3.268\n",
      "Train Accuracy = 1.000\n",
      "EPOCH 26 ...\n",
      "Train Loss = 3.243\n",
      "Train Accuracy = 1.000\n",
      "EPOCH 27 ...\n",
      "Train Loss = 3.252\n",
      "Train Accuracy = 1.000\n",
      "EPOCH 28 ...\n",
      "Train Loss = 3.257\n",
      "Train Accuracy = 1.000\n",
      "EPOCH 29 ...\n",
      "Train Loss = 3.257\n",
      "Train Accuracy = 1.000\n",
      "EPOCH 30 ...\n",
      "Train Loss = 3.248\n",
      "Train Accuracy = 1.000\n",
      "EPOCH 30 ...\n",
      "Validation Loss = 3.250\n",
      "Validation Accuracy = 0.992\n",
      "EPOCH 31 ...\n",
      "Train Loss = 3.256\n",
      "Train Accuracy = 0.992\n",
      "EPOCH 32 ...\n",
      "Train Loss = 3.258\n",
      "Train Accuracy = 1.000\n",
      "EPOCH 33 ...\n",
      "Train Loss = 3.267\n",
      "Train Accuracy = 1.000\n",
      "EPOCH 34 ...\n",
      "Train Loss = 3.234\n",
      "Train Accuracy = 1.000\n",
      "EPOCH 35 ...\n",
      "Train Loss = 3.257\n",
      "Train Accuracy = 1.000\n",
      "EPOCH 36 ...\n",
      "Train Loss = 3.240\n",
      "Train Accuracy = 1.000\n",
      "EPOCH 37 ...\n",
      "Train Loss = 3.250\n",
      "Train Accuracy = 1.000\n",
      "EPOCH 38 ...\n",
      "Train Loss = 3.243\n",
      "Train Accuracy = 1.000\n",
      "EPOCH 39 ...\n",
      "Train Loss = 3.250\n",
      "Train Accuracy = 1.000\n",
      "EPOCH 40 ...\n",
      "Train Loss = 3.253\n",
      "Train Accuracy = 0.992\n",
      "EPOCH 40 ...\n",
      "Validation Loss = 3.252\n",
      "Validation Accuracy = 0.977\n",
      "EPOCH 41 ...\n",
      "Train Loss = 3.252\n",
      "Train Accuracy = 1.000\n",
      "EPOCH 42 ...\n",
      "Train Loss = 3.252\n",
      "Train Accuracy = 1.000\n",
      "EPOCH 43 ...\n",
      "Train Loss = 3.257\n",
      "Train Accuracy = 1.000\n",
      "EPOCH 44 ...\n",
      "Train Loss = 3.255\n",
      "Train Accuracy = 1.000\n",
      "EPOCH 45 ...\n",
      "Train Loss = 3.271\n",
      "Train Accuracy = 1.000\n",
      "EPOCH 46 ...\n",
      "Train Loss = 3.247\n",
      "Train Accuracy = 1.000\n",
      "EPOCH 47 ...\n",
      "Train Loss = 3.263\n",
      "Train Accuracy = 1.000\n",
      "EPOCH 48 ...\n",
      "Train Loss = 3.262\n",
      "Train Accuracy = 1.000\n",
      "EPOCH 49 ...\n",
      "Train Loss = 3.269\n",
      "Train Accuracy = 1.000\n",
      "EPOCH 50 ...\n",
      "Train Loss = 3.235\n",
      "Train Accuracy = 1.000\n",
      "EPOCH 50 ...\n",
      "Validation Loss = 3.232\n",
      "Validation Accuracy = 0.992\n",
      "EPOCH 50 ...\n",
      "Test Loss = 3.208\n",
      "Test Accuracy = 0.988\n",
      "Model saved\n"
     ]
    }
   ],
   "source": [
    "# trainning and saving trained model\n",
    "\n",
    "debugger_images = []\n",
    "debugger_labels = []\n",
    "\n",
    "train_logs_path = 'tmp/train'\n",
    "valid_logs_path = 'tmp/valid'\n",
    "test_logs_path = 'tmp/test'\n",
    "\n",
    "EPOCHS = 50\n",
    "\n",
    "with tf.Session() as sess:\n",
    "    sess.run(init)\n",
    "    train_writer = tf.summary.FileWriter(train_logs_path, graph=tf.get_default_graph())\n",
    "    valid_writer = tf.summary.FileWriter(valid_logs_path, graph=tf.get_default_graph())\n",
    "    test_writer = tf.summary.FileWriter(test_logs_path, graph=tf.get_default_graph())\n",
    "    \n",
    "    num_examples = len(X_train_plus)\n",
    "    \n",
    "    print(\"Training...\")\n",
    "    for i in range(EPOCHS):\n",
    "        X_train, y_train = shuffle(X_train_plus, y_train_plus)\n",
    "        \n",
    "       \n",
    "        \n",
    "        for offset in range(0, num_examples, BATCH_SIZE):\n",
    "            end = offset + BATCH_SIZE\n",
    "            batch_x, batch_y = X_train[offset:end], y_train[offset:end]\n",
    "            _,loss, accuracy, summary = sess.run([training_operation, loss_operation, accuracy_operation, merged_summary_op], feed_dict={x: batch_x, y: batch_y})\n",
    "            \n",
    "            \n",
    "            summary_writer.add_summary(summary,i+1)\n",
    "#            summary_writer.flush()\n",
    "            \n",
    "        print(\"EPOCH {} ...\".format(i+1))\n",
    "        print(\"Train Loss = {:.3f}\".format(loss))\n",
    "        print(\"Train Accuracy = {:.3f}\".format(accuracy))\n",
    "             \n",
    "#        print(\"EPOCH {} ...\".format(i+1))\n",
    "#        validation_loss, validation_accuracy = evaluate(X_valid_plus, y_valid_plus)\n",
    "       \n",
    "#        print(\"Validation loss = {0:.3f}\".format(validation_loss))\n",
    "#        print(\"Validation Accuracy = {0:.3f}\".format(validation_accuracy))\n",
    "        \n",
    "#        if(i == (EPOCHS-1) ):\n",
    "        if((i+1) % 10 == 0 or i == (EPOCHS-1) ):\n",
    "        \n",
    "           \n",
    "            num_examples = len(X_valid_plus)\n",
    "            X_valid, y_valid = shuffle(X_valid_plus, y_valid_plus)\n",
    "            for offset in range(0, num_examples, BATCH_SIZE):\n",
    "                end = offset + BATCH_SIZE\n",
    "                batch_x, batch_y = X_train[offset:end], y_train[offset:end]\n",
    "            \n",
    "                loss, accuracy = sess.run([loss_operation, accuracy_operation], feed_dict={x: batch_x, y: batch_y})\n",
    " \n",
    "                valid_writer.add_summary(summary,i+1)\n",
    "#            test_loss,test_accuracy = evaluate(X_test, y_test)\n",
    "          \n",
    "            print(\"EPOCH {} ...\".format(i+1))\n",
    "            print(\"Validation Loss = {:.3f}\".format(loss))\n",
    "            print(\"Validation Accuracy = {:.3f}\".format(accuracy))\n",
    "#            print(\"Test Loss = {:.3f}\".format(test_loss))\n",
    "#            print(\"Test Accuracy = {:.3f}\".format(test_accuracy)\n",
    "        if(i == (EPOCHS-1) ):\n",
    "           \n",
    "            num_examples = len(X_test)\n",
    "            X_test, y_test = shuffle(X_test, y_test)\n",
    "            for offset in range(0, num_examples, BATCH_SIZE):\n",
    "                end = offset + BATCH_SIZE\n",
    "                batch_x, batch_y = X_test[offset:end], y_test[offset:end]\n",
    "            \n",
    "                loss, accuracy = sess.run([loss_operation, accuracy_operation], feed_dict={x: batch_x, y: batch_y})\n",
    "        \n",
    "                test_writer.add_summary(summary,i+1)\n",
    "        \n",
    "            print(\"EPOCH {} ...\".format(i+1))\n",
    "            print(\"Test Loss = {:.3f}\".format(loss))\n",
    "            print(\"Test Accuracy = {:.3f}\".format(accuracy))\n",
    "        \n",
    "    saver.save(sess, \"./lenet/model.ckpt\")\n",
    "#    tf.train.export_meta_graph(filename='./lenet/model.meta')\n",
    "   \n",
    "    print(\"Model saved\")"
   ]
  },
  {
   "cell_type": "code",
   "execution_count": 47,
   "metadata": {
    "collapsed": false,
    "deletable": true,
    "editable": true
   },
   "outputs": [
    {
     "name": "stdout",
     "output_type": "stream",
     "text": [
      "613\n"
     ]
    }
   ],
   "source": [
    "print(len([n.name for n in tf.get_default_graph().as_graph_def().node]))\n",
    "no_node_training = [n.name for n in tf.get_default_graph().as_graph_def().node]"
   ]
  },
  {
   "cell_type": "code",
   "execution_count": 48,
   "metadata": {
    "collapsed": false,
    "deletable": true,
    "editable": true
   },
   "outputs": [
    {
     "name": "stdout",
     "output_type": "stream",
     "text": [
      "b1 (DT_FLOAT) [16]\n",
      "b1/Adam (DT_FLOAT) [16]\n",
      "b1/Adam_1 (DT_FLOAT) [16]\n",
      "b2 (DT_FLOAT) [32]\n",
      "b2/Adam (DT_FLOAT) [32]\n",
      "b2/Adam_1 (DT_FLOAT) [32]\n",
      "beta1_power (DT_FLOAT) []\n",
      "beta2_power (DT_FLOAT) []\n",
      "fc1_b1 (DT_FLOAT) [1200]\n",
      "fc1_b1/Adam (DT_FLOAT) [1200]\n",
      "fc1_b1/Adam_1 (DT_FLOAT) [1200]\n",
      "fc1_w1 (DT_FLOAT) [6144,1200]\n",
      "fc1_w1/Adam (DT_FLOAT) [6144,1200]\n",
      "fc1_w1/Adam_1 (DT_FLOAT) [6144,1200]\n",
      "fc2_b2 (DT_FLOAT) [43]\n",
      "fc2_b2/Adam (DT_FLOAT) [43]\n",
      "fc2_b2/Adam_1 (DT_FLOAT) [43]\n",
      "fc2_w2 (DT_FLOAT) [1200,43]\n",
      "fc2_w2/Adam (DT_FLOAT) [1200,43]\n",
      "fc2_w2/Adam_1 (DT_FLOAT) [1200,43]\n",
      "w1 (DT_FLOAT) [3,3,1,16]\n",
      "w1/Adam (DT_FLOAT) [3,3,1,16]\n",
      "w1/Adam_1 (DT_FLOAT) [3,3,1,16]\n",
      "w2 (DT_FLOAT) [3,3,16,32]\n",
      "w2/Adam (DT_FLOAT) [3,3,16,32]\n",
      "w2/Adam_1 (DT_FLOAT) [3,3,16,32]\n",
      "\n"
     ]
    }
   ],
   "source": [
    "print_tensors_in_checkpoint_file(\"./lenet/model.ckpt\",tensor_name='')\n",
    "#print_tensors_in_checkpoint_file(file_name='./lenet/model.ckpt', tensor_name='w1')"
   ]
  },
  {
   "cell_type": "markdown",
   "metadata": {
    "deletable": true,
    "editable": true
   },
   "source": [
    "---\n",
    "\n",
    "## Step 3: Test a Model on New Images\n",
    "\n",
    "To give yourself more insight into how your model is working, download at least five pictures of German traffic signs from the web and use your model to predict the traffic sign type.\n",
    "\n",
    "You may find `signnames.csv` useful as it contains mappings from the class id (integer) to the actual sign name."
   ]
  },
  {
   "cell_type": "markdown",
   "metadata": {
    "deletable": true,
    "editable": true
   },
   "source": [
    "### Load and Output the Images"
   ]
  },
  {
   "cell_type": "code",
   "execution_count": 49,
   "metadata": {
    "collapsed": false,
    "deletable": true,
    "editable": true
   },
   "outputs": [
    {
     "name": "stdout",
     "output_type": "stream",
     "text": [
      "[11  2 38 15 40]\n"
     ]
    },
    {
     "data": {
      "image/png": "[encoded data removed]",
      "text/plain": [
       "<matplotlib.figure.Figure at 0x7f50cd5901d0>"
      ]
     },
     "metadata": {},
     "output_type": "display_data"
    },
    {
     "data": {
      "image/png": "[encoded data removed]",
      "text/plain": [
       "<matplotlib.figure.Figure at 0x7f50cf6afc50>"
      ]
     },
     "metadata": {},
     "output_type": "display_data"
    },
    {
     "data": {
      "image/png": "[encoded data removed]",
      "text/plain": [
       "<matplotlib.figure.Figure at 0x7f50ce286278>"
      ]
     },
     "metadata": {},
     "output_type": "display_data"
    },
    {
     "data": {
      "image/png": "[encoded data removed]",
      "text/plain": [
       "<matplotlib.figure.Figure at 0x7f50ce30b518>"
      ]
     },
     "metadata": {},
     "output_type": "display_data"
    },
    {
     "data": {
      "image/png": "[encoded data removed]",
      "text/plain": [
       "<matplotlib.figure.Figure at 0x7f50cd9c5710>"
      ]
     },
     "metadata": {},
     "output_type": "display_data"
    }
   ],
   "source": [
    "imagedir = \"./data/\"\n",
    "\n",
    "X_web,y_web = load_resized_images_in_directory(32,32,imagedir)\n",
    "\n",
    "print(y_web)\n",
    "\n",
    "show_image(X_web[0])\n",
    "show_image(X_web[1])\n",
    "show_image(X_web[2])\n",
    "show_image(X_web[3])\n",
    "show_image(X_web[4])"
   ]
  },
  {
   "cell_type": "markdown",
   "metadata": {
    "deletable": true,
    "editable": true
   },
   "source": [
    "### Predict the Sign Type for Each Image"
   ]
  },
  {
   "cell_type": "markdown",
   "metadata": {
    "deletable": true,
    "editable": true
   },
   "source": [
    "### Analyze Performance"
   ]
  },
  {
   "cell_type": "markdown",
   "metadata": {
    "deletable": true,
    "editable": true
   },
   "source": [
    "### Output Top 5 Softmax Probabilities For Each Image Found on the Web"
   ]
  },
  {
   "cell_type": "markdown",
   "metadata": {
    "deletable": true,
    "editable": true
   },
   "source": [
    "For each of the new images, print out the model's softmax probabilities to show the **certainty** of the model's predictions (limit the output to the top 5 probabilities for each image). [`tf.nn.top_k`](https://www.tensorflow.org/versions/r0.12/api_docs/python/nn.html#top_k) could prove helpful here. \n",
    "\n",
    "The example below demonstrates how tf.nn.top_k can be used to find the top k predictions for each image.\n",
    "\n",
    "`tf.nn.top_k` will return the values and indices (class ids) of the top k predictions. So if k=3, for each sign, it'll return the 3 largest probabilities (out of a possible 43) and the correspoding class ids.\n",
    "\n",
    "Take this numpy array as an example. The values in the array represent predictions. The array contains softmax probabilities for five candidate images with six possible classes. `tk.nn.top_k` is used to choose the three classes with the highest probability:\n",
    "\n",
    "```\n",
    "# (5, 6) array\n",
    "a = np.array([[ 0.24879643,  0.07032244,  0.12641572,  0.34763842,  0.07893497,\n",
    "         0.12789202],\n",
    "       [ 0.28086119,  0.27569815,  0.08594638,  0.0178669 ,  0.18063401,\n",
    "         0.15899337],\n",
    "       [ 0.26076848,  0.23664738,  0.08020603,  0.07001922,  0.1134371 ,\n",
    "         0.23892179],\n",
    "       [ 0.11943333,  0.29198961,  0.02605103,  0.26234032,  0.1351348 ,\n",
    "         0.16505091],\n",
    "       [ 0.09561176,  0.34396535,  0.0643941 ,  0.16240774,  0.24206137,\n",
    "         0.09155967]])\n",
    "```\n",
    "\n",
    "Running it through `sess.run(tf.nn.top_k(tf.constant(a), k=3))` produces:\n",
    "\n",
    "```\n",
    "TopKV2(values=array([[ 0.34763842,  0.24879643,  0.12789202],\n",
    "       [ 0.28086119,  0.27569815,  0.18063401],\n",
    "       [ 0.26076848,  0.23892179,  0.23664738],\n",
    "       [ 0.29198961,  0.26234032,  0.16505091],\n",
    "       [ 0.34396535,  0.24206137,  0.16240774]]), indices=array([[3, 0, 5],\n",
    "       [0, 1, 4],\n",
    "       [0, 5, 1],\n",
    "       [1, 3, 5],\n",
    "       [1, 4, 3]], dtype=int32))\n",
    "```\n",
    "\n",
    "Looking just at the first row we get `[ 0.34763842,  0.24879643,  0.12789202]`, you can confirm these are the 3 largest probabilities in `a`. You'll also notice `[3, 0, 5]` are the corresponding indices."
   ]
  },
  {
   "cell_type": "code",
   "execution_count": 50,
   "metadata": {
    "collapsed": false,
    "deletable": true,
    "editable": true
   },
   "outputs": [],
   "source": [
    "imagedir = \"./data/\"\n",
    "\n",
    "data_web,y_web = load_resized_images_in_directory(32,32,imagedir)"
   ]
  },
  {
   "cell_type": "code",
   "execution_count": 51,
   "metadata": {
    "collapsed": false,
    "deletable": true,
    "editable": true
   },
   "outputs": [
    {
     "name": "stdout",
     "output_type": "stream",
     "text": [
      "y is None\n"
     ]
    },
    {
     "name": "stderr",
     "output_type": "stream",
     "text": [
      "/root/miniconda3/envs/carnd-term1/lib/python3.5/site-packages/skimage/util/dtype.py:110: UserWarning: Possible precision loss when converting from float32 to uint16\n",
      "  \"%s to %s\" % (dtypeobj_in, dtypeobj))\n"
     ]
    }
   ],
   "source": [
    "X_web,_ = convert_gray_with_adapthist(data_web)"
   ]
  },
  {
   "cell_type": "code",
   "execution_count": 53,
   "metadata": {
    "collapsed": false,
    "deletable": true,
    "editable": true
   },
   "outputs": [
    {
     "name": "stdout",
     "output_type": "stream",
     "text": [
      "restored...\n",
      "[11  2 38 15 40]\n",
      "EPOCH 1 ...\n",
      "Test Accuracy = 0.600\n",
      "[[ 0.91588819  0.00521871  0.00446392  0.00239545  0.00220237]\n",
      " [ 0.4243829   0.05722466  0.03526757  0.02229865  0.01424   ]\n",
      " [ 0.32367954  0.08165368  0.03183318  0.0182748   0.01622326]\n",
      " [ 0.06564392  0.02966857  0.02584988  0.02566662  0.02538078]\n",
      " [ 0.09870461  0.05210906  0.03687142  0.02432634  0.02348358]]\n",
      "[[11 30 27 20 21]\n",
      " [ 2  5  8  7  0]\n",
      " [12 13  2 11 20]\n",
      " [34  5 20  2 40]\n",
      " [40 13  7 10 20]]\n"
     ]
    }
   ],
   "source": [
    "# restoring and (trainning and saving trained model) again\n",
    "\n",
    "EPOCHS_WEB = 1\n",
    "\n",
    "\n",
    "with tf.Session() as sess:\n",
    "    sess.run(init)\n",
    "    \n",
    "    saver.restore(sess, \"./lenet/model.ckpt\")\n",
    "       \n",
    "    print(\"restored...\")\n",
    "    \n",
    "    num_examples = len(X_web)\n",
    "    \n",
    "    for i in range(EPOCHS_WEB):\n",
    "\n",
    "        for offset in range(0, num_examples, BATCH_SIZE):\n",
    "            end = offset + BATCH_SIZE\n",
    "            batch_x, batch_y = X_web[offset:end], y_web[offset:end]\n",
    "            print(batch_y)\n",
    "\n",
    "        if(i == (EPOCHS_WEB-1) ):\n",
    "            test_loss, test_accuracy = evaluate(X_web, y_web)\n",
    "          \n",
    "            print(\"EPOCH {} ...\".format(i+1))\n",
    "            print(\"Test Accuracy = {:.3f}\".format(test_accuracy))\n",
    "            \n",
    "            topk_values, topk_indices = evaluate_topk(X_web, y_web)\n",
    "            print(topk_values)\n",
    "            print(topk_indices)\n"
   ]
  },
  {
   "cell_type": "markdown",
   "metadata": {
    "deletable": true,
    "editable": true
   },
   "source": [
    "> **Note**: Once you have completed all of the code implementations, you need to finalize your work by exporting the IPython Notebook as an HTML document. Before exporting the notebook to html, all of the code cells need to have been run. You can then export the notebook by using the menu above and navigating to  \\n\",\n",
    "    \"**File -> Download as -> HTML (.html)**. Include the finished document along with this notebook as your submission. "
   ]
  },
  {
   "cell_type": "code",
   "execution_count": 54,
   "metadata": {
    "collapsed": true,
    "deletable": true,
    "editable": true
   },
   "outputs": [],
   "source": [
    "no_node_web = [n.name for n in tf.get_default_graph().as_graph_def().node]"
   ]
  },
  {
   "cell_type": "code",
   "execution_count": 55,
   "metadata": {
    "collapsed": false,
    "deletable": true,
    "editable": true
   },
   "outputs": [
    {
     "data": {
      "text/plain": [
       "613"
      ]
     },
     "execution_count": 55,
     "metadata": {},
     "output_type": "execute_result"
    }
   ],
   "source": [
    "#len([i for i, j in zip( no_node_training, no_node_debugger) if i == j])\n",
    "len([i for i, j in zip( no_node_training, no_node_web) if i == j])"
   ]
  },
  {
   "cell_type": "code",
   "execution_count": null,
   "metadata": {
    "collapsed": false,
    "deletable": true,
    "editable": true
   },
   "outputs": [],
   "source": [
    "# STOP: Do not change the tests below. Your implementation should pass these tests. \n",
    "#assert X_train.shape == data['features'].shape, 'X_train has changed shape. The shape shouldn\\'t change when shuffling.'\n",
    "#assert y_train.shape == data['labels'].shape, 'y_train has changed shape. The shape shouldn\\'t change when shuffling.'\n",
    "\n",
    "assert round(X_valid.shape[0]/n_train,2) == 0.2, 'X_train not splitted'\n",
    "assert round(y_valid.shape[0]/n_train,2) == 0.2, 'y_train not splitted'\n",
    "assert not np.array_equal(X_train, data['features']), 'X_train not shuffled.'\n",
    "assert not np.array_equal(y_train, data['labels']), 'y_train not shuffled.'\n",
    "print('Tests passed.')"
   ]
  },
  {
   "cell_type": "markdown",
   "metadata": {
    "deletable": true,
    "editable": true
   },
   "source": [
    "### Project Writeup\n",
    "\n",
    "Once you have completed the code implementation, document your results in a project writeup using this [template](https://github.com/udacity/CarND-Traffic-Sign-Classifier-Project/blob/master/writeup_template.md) as a guide. The writeup can be in a markdown or pdf file. "
   ]
  }
 ],
 "metadata": {
  "anaconda-cloud": {},
  "kernelspec": {
   "display_name": "Python 3",
   "language": "python",
   "name": "python3"
  },
  "language_info": {
   "codemirror_mode": {
    "name": "ipython",
    "version": 3
   },
   "file_extension": ".py",
   "mimetype": "text/x-python",
   "name": "python",
   "nbconvert_exporter": "python",
   "pygments_lexer": "ipython3",
   "version": "3.5.2"
  },
  "widgets": {
   "state": {},
   "version": "1.1.2"
  }
 },
 "nbformat": 4,
 "nbformat_minor": 1
}
