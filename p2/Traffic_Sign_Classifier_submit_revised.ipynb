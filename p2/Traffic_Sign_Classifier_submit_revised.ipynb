{
 "cells": [
  {
   "cell_type": "markdown",
   "metadata": {
    "deletable": true,
    "editable": true
   },
   "source": [
    "# Self-Driving Car Engineer Nanodegree\n",
    "\n",
    "## Deep Learning\n",
    "\n",
    "## Project: Build a Traffic Sign Recognition Classifier\n",
    "\n",
    "In this notebook, a template is provided for you to implement your functionality in stages, which is required to successfully complete this project. If additional code is required that cannot be included in the notebook, be sure that the Python code is successfully imported and included in your submission if necessary. \n",
    "\n",
    "> **Note**: Once you have completed all of the code implementations, you need to finalize your work by exporting the iPython Notebook as an HTML document. Before exporting the notebook to html, all of the code cells need to have been run so that reviewers can see the final implementation and output. You can then export the notebook by using the menu above and navigating to  \\n\",\n",
    "    \"**File -> Download as -> HTML (.html)**. Include the finished document along with this notebook as your submission. \n",
    "\n",
    "In addition to implementing code, there is a writeup to complete. The writeup should be completed in a separate file, which can be either a markdown file or a pdf document. There is a [write up template](https://github.com/udacity/CarND-Traffic-Sign-Classifier-Project/blob/master/writeup_template.md) that can be used to guide the writing process. Completing the code template and writeup template will cover all of the [rubric points](https://review.udacity.com/#!/rubrics/481/view) for this project.\n",
    "\n",
    "The [rubric](https://review.udacity.com/#!/rubrics/481/view) contains \"Stand Out Suggestions\" for enhancing the project beyond the minimum requirements. The stand out suggestions are optional. If you decide to pursue the \"stand out suggestions\", you can include the code in this Ipython notebook and also discuss the results in the writeup file.\n",
    "\n",
    "\n",
    ">**Note:** Code and Markdown cells can be executed using the **Shift + Enter** keyboard shortcut. In addition, Markdown cells can be edited by typically double-clicking the cell to enter edit mode."
   ]
  },
  {
   "cell_type": "markdown",
   "metadata": {
    "deletable": true,
    "editable": true
   },
   "source": [
    "---\n",
    "## Step 0: Load The Data"
   ]
  },
  {
   "cell_type": "code",
   "execution_count": 1,
   "metadata": {
    "collapsed": false,
    "deletable": true,
    "editable": true
   },
   "outputs": [
    {
     "data": {
      "text/plain": [
       "\"\\n\\nfrom urllib.request import urlretrieve\\nfrom os.path import isfile\\nfrom tqdm import tqdm\\n\\nclass DLProgress(tqdm):\\n    last_block = 0\\n\\n    def hook(self, block_num=1, block_size=1, total_size=None):\\n        self.total = total_size\\n        self.update((block_num - self.last_block) * block_size)\\n        self.last_block = block_num\\n\\nif not isfile('train.p'):\\n    with DLProgress(unit='B', unit_scale=True, miniters=1, desc='Train Dataset') as pbar:\\n        urlretrieve(\\n            'https://s3.amazonaws.com/udacity-sdc/datasets/german_traffic_sign_benchmark/train.p',\\n            'train.p',\\n            pbar.hook)\\n\\nif not isfile('test.p'):\\n    with DLProgress(unit='B', unit_scale=True, miniters=1, desc='Test Dataset') as pbar:\\n        urlretrieve(\\n            'https://s3.amazonaws.com/udacity-sdc/datasets/german_traffic_sign_benchmark/test.p',\\n            'test.p',\\n            pbar.hook)\\n\\nprint('Training and Test data downloaded.')\\n\\n\""
      ]
     },
     "execution_count": 1,
     "metadata": {},
     "output_type": "execute_result"
    }
   ],
   "source": [
    "\"\"\"\n",
    "\n",
    "from urllib.request import urlretrieve\n",
    "from os.path import isfile\n",
    "from tqdm import tqdm\n",
    "\n",
    "class DLProgress(tqdm):\n",
    "    last_block = 0\n",
    "\n",
    "    def hook(self, block_num=1, block_size=1, total_size=None):\n",
    "        self.total = total_size\n",
    "        self.update((block_num - self.last_block) * block_size)\n",
    "        self.last_block = block_num\n",
    "\n",
    "if not isfile('train.p'):\n",
    "    with DLProgress(unit='B', unit_scale=True, miniters=1, desc='Train Dataset') as pbar:\n",
    "        urlretrieve(\n",
    "            'https://s3.amazonaws.com/udacity-sdc/datasets/german_traffic_sign_benchmark/train.p',\n",
    "            'train.p',\n",
    "            pbar.hook)\n",
    "\n",
    "if not isfile('test.p'):\n",
    "    with DLProgress(unit='B', unit_scale=True, miniters=1, desc='Test Dataset') as pbar:\n",
    "        urlretrieve(\n",
    "            'https://s3.amazonaws.com/udacity-sdc/datasets/german_traffic_sign_benchmark/test.p',\n",
    "            'test.p',\n",
    "            pbar.hook)\n",
    "\n",
    "print('Training and Test data downloaded.')\n",
    "\n",
    "\"\"\""
   ]
  },
  {
   "cell_type": "code",
   "execution_count": 2,
   "metadata": {
    "collapsed": false,
    "deletable": true,
    "editable": true
   },
   "outputs": [],
   "source": [
    "# Visualizations will be shown in the notebook.\n",
    "%matplotlib inline\n",
    "\n",
    "import os\n",
    "import collections\n",
    "import random\n",
    "import pickle\n",
    "import numpy as np\n",
    "import math\n",
    "import pandas as pd\n",
    "import tensorflow as tf\n",
    "\n",
    "from sklearn.model_selection import train_test_split\n",
    "from sklearn.preprocessing import LabelBinarizer\n",
    "from sklearn.utils import shuffle\n",
    "\n",
    "import matplotlib.pyplot as plt\n",
    "from matplotlib.pyplot import figure, imshow, axis\n",
    "from matplotlib.image import imread\n",
    "import matplotlib.image as mpimg\n",
    "import matplotlib.gridspec as gridspec\n",
    "from mpl_toolkits.axes_grid1 import ImageGrid\n",
    "\n",
    "import cv2\n",
    "\n",
    "from PIL import Image"
   ]
  },
  {
   "cell_type": "code",
   "execution_count": 3,
   "metadata": {
    "collapsed": false,
    "deletable": true,
    "editable": true
   },
   "outputs": [],
   "source": [
    "def show_image(image, cmap=None):\n",
    "    \n",
    "    if(cmap == 'gray'):\n",
    "        plt.figure(figsize=(5,5))\n",
    "        plt.imshow(image, cmap='gray')\n",
    "    \n",
    "    else:\n",
    "        plt.figure(figsize=(5,5))\n",
    "        plt.imshow(image)\n",
    "\n",
    "\n",
    "def augment_brightness_camera_images(image):\n",
    "    image1 = cv2.cvtColor(image,cv2.COLOR_RGB2HSV)\n",
    "    random_bright = .25+np.random.uniform()\n",
    "    #print(random_bright)\n",
    "    image1[:,:,2] = image1[:,:,2]*random_bright\n",
    "    image1 = cv2.cvtColor(image1,cv2.COLOR_HSV2RGB)\n",
    "    return image1\n",
    "\n",
    "def transform_image(img,ang_range,shear_range,trans_range):\n",
    "    '''\n",
    "    This function transforms images to generate new images.\n",
    "    The function takes in following arguments,\n",
    "    1- Image\n",
    "    2- ang_range: Range of angles for rotation\n",
    "    3- shear_range: Range of values to apply affine transform to\n",
    "    4- trans_range: Range of values to apply translations over. \n",
    "    \n",
    "    A Random uniform distribution is used to generate different parameters for transformation\n",
    "    \n",
    "    '''\n",
    "    # Rotation\n",
    "\n",
    "    ang_rot = np.random.uniform(ang_range)-ang_range/2\n",
    "    rows,cols,ch = img.shape    \n",
    "    Rot_M = cv2.getRotationMatrix2D((cols/2,rows/2),ang_rot,1)\n",
    "\n",
    "    # Translation\n",
    "    tr_x = trans_range*np.random.uniform()-trans_range/2\n",
    "    tr_y = trans_range*np.random.uniform()-trans_range/2\n",
    "    Trans_M = np.float32([[1,0,tr_x],[0,1,tr_y]])\n",
    "\n",
    "    # Shear\n",
    "    pts1 = np.float32([[5,5],[20,5],[5,20]])\n",
    "\n",
    "    pt1 = 5+shear_range*np.random.uniform()-shear_range/2\n",
    "    pt2 = 20+shear_range*np.random.uniform()-shear_range/2\n",
    "    \n",
    "    # Brightness \n",
    "    \n",
    "    pts2 = np.float32([[pt1,5],[pt2,pt1],[5,pt2]])\n",
    "\n",
    "    shear_M = cv2.getAffineTransform(pts1,pts2)\n",
    "        \n",
    "    img = cv2.warpAffine(img,Rot_M,(cols,rows))\n",
    "    img = cv2.warpAffine(img,Trans_M,(cols,rows))\n",
    "    img = cv2.warpAffine(img,shear_M,(cols,rows))\n",
    "    \n",
    "    img = augment_brightness_camera_images(img)\n",
    "    \n",
    "    return img\n",
    "\n",
    "\n",
    "def load_pickle(filename, directory='.'):   \n",
    "    with open(filename, 'rb') as f:\n",
    "         data = pickle.load(f)\n",
    "    return data\n",
    "\n",
    "\n",
    "def save_pickle(dataset, filename, keys = \"features\", directory='.'):\n",
    "\n",
    "    pickle_file = filename\n",
    "    \n",
    "    try:\n",
    "        f = open(pickle_file,'wb+')\n",
    "        save = {\n",
    "#            \"features\": X_train\n",
    "            \"features\": dataset\n",
    "    }\n",
    "  \n",
    "        pickle.dump(save, f, pickle.HIGHEST_PROTOCOL)\n",
    "        f.close()\n",
    "\n",
    "    except Exception as e:\n",
    "          print('Unable to save data to', pickle_file, ':', e)\n",
    "\n",
    "            \n",
    "def make_fakes(data,no_of_fakes):\n",
    "    \n",
    "    data_no = len(data) * no_of_fakes\n",
    "    \n",
    "    new_data = []\n",
    "           \n",
    "    for index in range(data.shape[0]):\n",
    "    \n",
    "        for fake in range(no_of_fakes):\n",
    "#           print(data[index])\n",
    "            \n",
    "            fake = transform_image(data[index],20,10,5)\n",
    "#           print(\"fake shape %s\" % str(fake.shape))\n",
    "#           print(type(fake))\n",
    "            \n",
    "            new_data.append(fake)        \n",
    "                       \n",
    "    return new_data\n",
    "\n",
    "def make_fakes_labels(data,no_of_fakes):\n",
    "    data_no = len(data)\n",
    "    \n",
    "    new_data = []\n",
    "    \n",
    "    for index in range(data.shape[0]):\n",
    "        \n",
    "        for fake in range(no_of_fakes):\n",
    "            \n",
    "            fake = data[index]\n",
    "            \n",
    "            new_data.append(fake)\n",
    "            \n",
    "    return new_data\n",
    "    \n",
    "\n",
    "def list_to_numpy(list_data):\n",
    "    \n",
    "    return np.array(list_data)\n",
    "\n",
    "\n",
    "def load_pickle_with_fakes(orignal_pickle,no_of_fakes, directory='.'):\n",
    "    \n",
    "    pickle_file = orignal_pickle\n",
    "    \n",
    "    original = load_pickle(pickle_file)\n",
    "    \n",
    "    X_train = original['features']\n",
    "    \n",
    "    fakes = make_fakes(X_train,no_of_fakes)\n",
    "    \n",
    "    X_train_norm = list_to_numpy(fakes)\n",
    "    \n",
    "    \n",
    "    save_pickle(X_train_norm,\"X_train_fake.p\")\n",
    "\n",
    "    data_norm = load_pickle('X_train_fake.p')\n",
    "    \n",
    "    # TODO: Load the label data to the variable y_train\n",
    "    y_train = original['labels']\n",
    "    \n",
    "    fakes_label = make_fakes_labels(y_train,5)\n",
    "    \n",
    "    y_train_norm = list_to_numpy(fakes_label)\n",
    "    \n",
    "    save_pickle(y_train_norm,\"y_train_fake.p\")\n",
    "\n",
    "    label_norm = load_pickle('y_train_fake.p')\n",
    "    \n",
    "    return data_norm, label_norm\n",
    "\n",
    "def split_data(data, label, split = 0.3):\n",
    "    \n",
    "    X_train, X_valid, y_train, y_valid = train_test_split(\n",
    "    data,\n",
    "    label,\n",
    "    test_size=split,\n",
    "    random_state=832289)\n",
    "    \n",
    "    return X_train, X_valid, y_train, y_valid\n",
    "\n",
    "\n",
    "def load_resized_images_in_directory(width,height,dirname):\n",
    "    \n",
    "    image_list = os.listdir(dirname)\n",
    "\n",
    "    y_data = np.array(image_list)\n",
    "    y_data2 = np.char.rstrip(y_data,'.jpg')\n",
    "    y_web = y_data2.astype(np.uint8)\n",
    "    \n",
    "    X_web = np.array([cv2.resize(np.array(mpimg.imread(imagedir + fname)),(32,32)) \n",
    "                  for fname in image_list])\n",
    "    \n",
    "    return X_web, y_web\n",
    "    \n",
    "\n",
    "def resize_image(image, width, height):\n",
    "    \n",
    "    return cv2.resize(np.array(image),(width,height))\n",
    "\n",
    "def load_images_in_directory(dirname):\n",
    "    \n",
    "    image_list = os.listdir(dirname)\n",
    "\n",
    "    y_data = np.array(image_list)\n",
    "    y_data2 = np.char.rstrip(y_data,'.jpg')\n",
    "    y_web = y_data2.astype(np.uint8)\n",
    "\n",
    "#    print(y_train[:5])\n",
    "\n",
    "#    print(y_web[:])\n",
    "    \n",
    "    X_web = np.array([mpimg.imread(imagedir + fname) for fname in image_list])\n",
    "    \n",
    "    return X_web, y_web"
   ]
  },
  {
   "cell_type": "code",
   "execution_count": 4,
   "metadata": {
    "collapsed": false,
    "deletable": true,
    "editable": true
   },
   "outputs": [
    {
     "data": {
      "text/plain": [
       "\"\\ndata = load_pickle('train.p')\\n\\n# TODO: Load the feature data to the variable X_train\\nX_train = data['features']\\n# TODO: Load the label data to the variable y_train\\ny_train = data['labels']\\n\\ntest = load_pickle('test.p')\\nX_test = test['features']\\ny_test = test['labels']\\n\\nprint('Training and Test data loaded.')\\n\""
      ]
     },
     "execution_count": 4,
     "metadata": {},
     "output_type": "execute_result"
    }
   ],
   "source": [
    "\"\"\"\n",
    "data = load_pickle('train.p')\n",
    "\n",
    "# TODO: Load the feature data to the variable X_train\n",
    "X_train = data['features']\n",
    "# TODO: Load the label data to the variable y_train\n",
    "y_train = data['labels']\n",
    "\n",
    "test = load_pickle('test.p')\n",
    "X_test = test['features']\n",
    "y_test = test['labels']\n",
    "\n",
    "print('Training and Test data loaded.')\n",
    "\"\"\""
   ]
  },
  {
   "cell_type": "code",
   "execution_count": 5,
   "metadata": {
    "collapsed": false,
    "deletable": true,
    "editable": true
   },
   "outputs": [
    {
     "data": {
      "text/plain": [
       "'\\n### Replace each question mark with the appropriate value. \\n### Use python, pandas or numpy methods rather than hard coding the results\\n\\n# TODO: Number of training examples\\nn_train = len(X_train)\\n\\n# TODO: Number of testing examples.\\nn_test = len(X_test)\\n\\n# TODO: What\\'s the shape of an traffic sign image?\\nimage_shape = X_train.shape[1:4]\\n\\n# TODO: How many unique classes/labels there are in the dataset.\\nn_classes = np.unique(y_train).size\\n\\nprint(\"Number of training examples =\", n_train)\\nprint(\"Number of testing examples =\", n_test)\\nprint(\"Image data shape =\", image_shape)\\nprint(\"number of classes \", n_classes)\\n#print(\"coords_train =\", coords_train)\\n#print(\"size_train =\", size_train)\\n'"
      ]
     },
     "execution_count": 5,
     "metadata": {},
     "output_type": "execute_result"
    }
   ],
   "source": [
    "\"\"\"\n",
    "### Replace each question mark with the appropriate value. \n",
    "### Use python, pandas or numpy methods rather than hard coding the results\n",
    "\n",
    "# TODO: Number of training examples\n",
    "n_train = len(X_train)\n",
    "\n",
    "# TODO: Number of testing examples.\n",
    "n_test = len(X_test)\n",
    "\n",
    "# TODO: What's the shape of an traffic sign image?\n",
    "image_shape = X_train.shape[1:4]\n",
    "\n",
    "# TODO: How many unique classes/labels there are in the dataset.\n",
    "n_classes = np.unique(y_train).size\n",
    "\n",
    "print(\"Number of training examples =\", n_train)\n",
    "print(\"Number of testing examples =\", n_test)\n",
    "print(\"Image data shape =\", image_shape)\n",
    "print(\"number of classes \", n_classes)\n",
    "#print(\"coords_train =\", coords_train)\n",
    "#print(\"size_train =\", size_train)\n",
    "\"\"\""
   ]
  },
  {
   "cell_type": "code",
   "execution_count": 6,
   "metadata": {
    "collapsed": false
   },
   "outputs": [
    {
     "data": {
      "text/plain": [
       "'\\nimagedir = \"./data/\"\\n\\nX_web,y_web = load_resized_images_in_directory(32,32,imagedir)\\n\\nprint(X_web.shape)\\n\\nshow_image(X_web[1])\\n\\nresize = resize_image(X_web[0],33,33) \\n\\nshow_image(resize)\\n\\n'"
      ]
     },
     "execution_count": 6,
     "metadata": {},
     "output_type": "execute_result"
    }
   ],
   "source": [
    "\"\"\"\n",
    "imagedir = \"./data/\"\n",
    "\n",
    "X_web,y_web = load_resized_images_in_directory(32,32,imagedir)\n",
    "\n",
    "print(X_web.shape)\n",
    "\n",
    "show_image(X_web[1])\n",
    "\n",
    "resize = resize_image(X_web[0],33,33) \n",
    "\n",
    "show_image(resize)\n",
    "\n",
    "\"\"\""
   ]
  },
  {
   "cell_type": "code",
   "execution_count": 7,
   "metadata": {
    "collapsed": false
   },
   "outputs": [
    {
     "data": {
      "text/plain": [
       "'\\n\\nimagedir = \"./data/\"\\n\\nX_web,y_web = load_images_in_directory(imagedir)\\n\\nprint(X_web.shape)\\n\\nshow_image(X_web[1])\\n\\nresize = resize_image(X_web[0],33,33) \\n\\nshow_image(resize)\\n\\n'"
      ]
     },
     "execution_count": 7,
     "metadata": {},
     "output_type": "execute_result"
    }
   ],
   "source": [
    "\"\"\"\n",
    "\n",
    "imagedir = \"./data/\"\n",
    "\n",
    "X_web,y_web = load_images_in_directory(imagedir)\n",
    "\n",
    "print(X_web.shape)\n",
    "\n",
    "show_image(X_web[1])\n",
    "\n",
    "resize = resize_image(X_web[0],33,33) \n",
    "\n",
    "show_image(resize)\n",
    "\n",
    "\"\"\""
   ]
  },
  {
   "cell_type": "code",
   "execution_count": 8,
   "metadata": {
    "collapsed": false
   },
   "outputs": [],
   "source": [
    "X_train_fake, y_train_fake = load_pickle_with_fakes('train.p',5)"
   ]
  },
  {
   "cell_type": "code",
   "execution_count": 9,
   "metadata": {
    "collapsed": false
   },
   "outputs": [
    {
     "name": "stdout",
     "output_type": "stream",
     "text": [
      "Number of training examples = 196045\n",
      "Number of testing examples = 12630\n",
      "Image data shape = (32, 32, 3)\n",
      "number of classes  43\n"
     ]
    }
   ],
   "source": [
    "X_train = X_train_fake['features']\n",
    "y_train = y_train_fake['features']\n",
    "\n",
    "### Replace each question mark with the appropriate value. \n",
    "### Use python, pandas or numpy methods rather than hard coding the results\n",
    "\n",
    "# TODO: Number of training examples\n",
    "n_train = len(X_train)\n",
    "\n",
    "\n",
    "test = load_pickle('test.p')\n",
    "X_test = test['features']\n",
    "y_test = test['labels']\n",
    "\n",
    "\n",
    "# TODO: Number of testing examples.\n",
    "n_test = len(X_test)\n",
    "\n",
    "# TODO: What's the shape of an traffic sign image?\n",
    "image_shape = X_train.shape[1:4]\n",
    "\n",
    "# TODO: How many unique classes/labels there are in the dataset.\n",
    "n_classes = np.unique(y_train).size\n",
    "\n",
    "print(\"Number of training examples =\", n_train)\n",
    "print(\"Number of testing examples =\", n_test)\n",
    "print(\"Image data shape =\", image_shape)\n",
    "print(\"number of classes \", n_classes)\n",
    "#print(\"coords_train =\", coords_train)\n",
    "#print(\"size_train =\", size_train)"
   ]
  },
  {
   "cell_type": "code",
   "execution_count": 10,
   "metadata": {
    "collapsed": false
   },
   "outputs": [
    {
     "name": "stdout",
     "output_type": "stream",
     "text": [
      "Number of training examples = 137231\n",
      "137231\n",
      "Number of validation examples = 58814\n",
      "58814\n"
     ]
    }
   ],
   "source": [
    "X_train, X_valid, y_train, y_valid = split_data(X_train,y_train)\n",
    "\n",
    "### Replace each question mark with the appropriate value. \n",
    "### Use python, pandas or numpy methods rather than hard coding the results\n",
    "\n",
    "# TODO: Number of training examples\n",
    "n_train = len(X_train)\n",
    "n_train_label = len(y_train)\n",
    "\n",
    "# TODO: Number of testing examples.\n",
    "n_valid = len(X_valid)\n",
    "n_valid_label = len(y_valid)\n",
    "\n",
    "\n",
    "print(\"Number of training examples =\", n_train)\n",
    "print(n_train_label )\n",
    "print(\"Number of validation examples =\", n_valid)\n",
    "print(n_valid_label)\n"
   ]
  },
  {
   "cell_type": "code",
   "execution_count": 11,
   "metadata": {
    "collapsed": false,
    "deletable": true,
    "editable": true
   },
   "outputs": [
    {
     "data": {
      "text/plain": [
       "'\\nfakes_label = make_fakes_labels(y_train,5)\\nprint(\"fake labels - image label list, %s\" % len(fakes_label))\\nprint(fakes_label[0])\\nprint(fakes_label[4])\\nprint(fakes_label[190000])\\nprint(fakes_label[190004])\\n\\ny_train_norm = list_to_numpy(fakes_label)\\nprint(\"numpy array converted from list, %s\" % str(y_train_norm.shape))\\n\\nsave_pickle(y_train_norm,\"y_train_norm.p\")\\n\\nlabel_norm = load_pickle(\\'y_train_norm.p\\')\\nprint(label_norm[\"features\"].shape)\\n'"
      ]
     },
     "execution_count": 11,
     "metadata": {},
     "output_type": "execute_result"
    }
   ],
   "source": [
    "\"\"\"\n",
    "fakes_label = make_fakes_labels(y_train,5)\n",
    "print(\"fake labels - image label list, %s\" % len(fakes_label))\n",
    "print(fakes_label[0])\n",
    "print(fakes_label[4])\n",
    "print(fakes_label[190000])\n",
    "print(fakes_label[190004])\n",
    "\n",
    "y_train_norm = list_to_numpy(fakes_label)\n",
    "print(\"numpy array converted from list, %s\" % str(y_train_norm.shape))\n",
    "\n",
    "save_pickle(y_train_norm,\"y_train_norm.p\")\n",
    "\n",
    "label_norm = load_pickle('y_train_norm.p')\n",
    "print(label_norm[\"features\"].shape)\n",
    "\"\"\""
   ]
  },
  {
   "cell_type": "code",
   "execution_count": 12,
   "metadata": {
    "collapsed": false,
    "deletable": true,
    "editable": true
   },
   "outputs": [
    {
     "data": {
      "text/plain": [
       "'\\nfakes = make_fakes(X_train,5)\\nprint(\"fakes - image list, %s\" % len(fakes))\\n\\nX_train_norm = list_to_numpy(fakes)\\nprint(\"numpy array converted from list, %s\" % str(X_train_norm.shape))\\n\\nsave_pickle(X_train_norm,\"train_norm.p\")\\n\\ndata_norm = load_pickle(\\'train_norm.p\\')\\nprint(data_norm[\"features\"].shape)\\n'"
      ]
     },
     "execution_count": 12,
     "metadata": {},
     "output_type": "execute_result"
    }
   ],
   "source": [
    "\"\"\"\n",
    "fakes = make_fakes(X_train,5)\n",
    "print(\"fakes - image list, %s\" % len(fakes))\n",
    "\n",
    "X_train_norm = list_to_numpy(fakes)\n",
    "print(\"numpy array converted from list, %s\" % str(X_train_norm.shape))\n",
    "\n",
    "save_pickle(X_train_norm,\"train_norm.p\")\n",
    "\n",
    "data_norm = load_pickle('train_norm.p')\n",
    "print(data_norm[\"features\"].shape)\n",
    "\"\"\""
   ]
  },
  {
   "cell_type": "code",
   "execution_count": 13,
   "metadata": {
    "collapsed": false,
    "deletable": true,
    "editable": true
   },
   "outputs": [
    {
     "data": {
      "text/plain": [
       "'\\nshow_image(data_norm[\"features\"][0])\\nshow_image(data_norm[\"features\"][3])\\nshow_image(data_norm[\"features\"][2])\\n'"
      ]
     },
     "execution_count": 13,
     "metadata": {},
     "output_type": "execute_result"
    }
   ],
   "source": [
    "\"\"\"\n",
    "show_image(data_norm[\"features\"][0])\n",
    "show_image(data_norm[\"features\"][3])\n",
    "show_image(data_norm[\"features\"][2])\n",
    "\"\"\""
   ]
  },
  {
   "cell_type": "code",
   "execution_count": 14,
   "metadata": {
    "collapsed": true,
    "deletable": true,
    "editable": true
   },
   "outputs": [],
   "source": [
    "### Define your architecture here.\n",
    "### Feel free to use as many code cells as needed.\n",
    "\n",
    "from tensorflow.contrib.layers import flatten\n",
    "\n",
    "def LeNet(x):    \n",
    "    # Arguments used for tf.truncated_normal, randomly defines variables for the weights and biases for each layer\n",
    "    mu = 0\n",
    "    sigma = 0.1\n",
    "    keep_prob = 0.5\n",
    "    \n",
    "    # SOLUTION: Layer 1: Convolutional. Input = 32x32x3. Output = 32x32x16.\n",
    "    conv1_W = tf.Variable(tf.truncated_normal(shape=(3, 3, 3, 8), mean = mu, stddev = sigma))\n",
    "    conv1_b = tf.Variable(tf.zeros(8))\n",
    "    conv1   = tf.nn.conv2d(x, conv1_W, strides=[1, 1, 1, 1], padding='SAME') + conv1_b\n",
    "\n",
    "    # SOLUTION: Activation.\n",
    "    conv1_relu = tf.nn.relu(conv1)\n",
    "\n",
    "    # SOLUTION: Pooling. Input = 32x32x16. Output = 16x16x16.\n",
    "    conv1_pool = tf.nn.max_pool(conv1_relu, ksize=[1, 2, 2, 1], strides=[1, 2, 2, 1], padding='SAME')\n",
    "\n",
    "    # SOLUTION: Layer 2: Convolutional. Input = 16x16x16. Output = 16x16x32.\n",
    "    conv2_W = tf.Variable(tf.truncated_normal(shape=(4, 4, 8, 16), mean = mu, stddev = sigma))\n",
    "    conv2_b = tf.Variable(tf.zeros(16))\n",
    "    conv2   = tf.nn.conv2d(conv1_pool, conv2_W, strides=[1, 1, 1, 1], padding='SAME') + conv2_b\n",
    "    \n",
    "    # SOLUTION: Activation.\n",
    "    conv2_relu = tf.nn.relu(conv2)\n",
    "\n",
    "    # SOLUTION: Pooling. Input = 16x16x32. Output = 8x8x32.\n",
    "    conv2_pool = tf.nn.max_pool(conv2_relu, ksize=[1, 2, 2, 1], strides=[1, 2, 2, 1], padding='SAME')\n",
    "\n",
    "    # SOLUTION: Flatten. Input = 8x8x32. Output = 2048.\n",
    "#    fc0   = flatten(conv2_pool)\n",
    "    \n",
    "    conv1_pool_flat = tf.reshape( conv1_pool, [-1, 16 * 16 * 8])\n",
    "    conv2_pool_flat = tf.reshape( conv2_pool, [-1, 8 * 8 * 16])\n",
    "    fc0 = tf.concat(1,[ conv1_pool_flat , conv2_pool_flat])\n",
    "    \n",
    "    \n",
    "    # SOLUTION: Layer 3: Fully Connected. Input = 2048. Output = 120.\n",
    "    # SOLUTION: Layer 3: Fully Connected. Input = 6144. Output = 120.\n",
    "     # SOLUTION: Layer 3: Fully Connected. Input = 3072. Output = 120.\n",
    "    fc1_W = tf.Variable(tf.truncated_normal(shape=(3072, 120), mean = mu, stddev = sigma))\n",
    "    fc1_b = tf.Variable(tf.zeros(120))\n",
    "    fc1   = tf.matmul(fc0, fc1_W) + fc1_b\n",
    "    \n",
    "    # SOLUTION: Activation.\n",
    "    fc1_relu    = tf.nn.relu(fc1)\n",
    "\n",
    "#    fc1_drop =  tf.nn.dropout(  fc1_relu , keep_prob)\n",
    "    \n",
    "    # SOLUTION: Layer 4: Fully Connected. Input = 120. Output = 43.\n",
    "    fc2_W  = tf.Variable(tf.truncated_normal(shape=(120, 43), mean = mu, stddev = sigma))\n",
    "    fc2_b  = tf.Variable(tf.zeros(43))\n",
    "    logits    = tf.matmul( fc1_relu, fc2_W) + fc2_b\n",
    "    \n",
    "    return logits"
   ]
  },
  {
   "cell_type": "code",
   "execution_count": 15,
   "metadata": {
    "collapsed": true,
    "deletable": true,
    "editable": true
   },
   "outputs": [],
   "source": [
    "x = tf.placeholder(tf.float32, (None, 32, 32, 3))\n",
    "y = tf.placeholder(tf.int32, (None))\n",
    "one_hot_y = tf.one_hot(y, 43)"
   ]
  },
  {
   "cell_type": "code",
   "execution_count": 16,
   "metadata": {
    "collapsed": false,
    "deletable": true,
    "editable": true
   },
   "outputs": [],
   "source": [
    "rate = 0.001\n",
    "\n",
    "logits = LeNet(x)\n",
    "\n",
    "cross_entropy = tf.nn.softmax_cross_entropy_with_logits(logits, one_hot_y)\n",
    "loss_operation = tf.reduce_mean(cross_entropy)\n",
    "optimizer = tf.train.AdamOptimizer(learning_rate = rate)\n",
    "training_operation = optimizer.minimize(loss_operation)"
   ]
  },
  {
   "cell_type": "code",
   "execution_count": 17,
   "metadata": {
    "collapsed": false,
    "deletable": true,
    "editable": true
   },
   "outputs": [],
   "source": [
    "### Train your model here.\n",
    "### Calculate and report the accuracy on the training and validation set.\n",
    "### Once a final model architecture is selected, \n",
    "### the accuracy on the test set should be calculated and reported as well.\n",
    "### Feel free to use as many code cells as needed.\n",
    "\n",
    "EPOCHS = 5\n",
    "BATCH_SIZE = 128\n",
    "# Initializing the variables\n",
    "init = tf.global_variables_initializer()"
   ]
  },
  {
   "cell_type": "code",
   "execution_count": 18,
   "metadata": {
    "collapsed": true,
    "deletable": true,
    "editable": true
   },
   "outputs": [],
   "source": [
    "correct_prediction = tf.equal(tf.argmax(logits, 1), tf.argmax(one_hot_y, 1))\n",
    "accuracy_operation = tf.reduce_mean(tf.cast(correct_prediction, tf.float32))\n",
    "topk_operation = tf.nn.top_k(logits, k=3)\n",
    "\n",
    "saver = tf.train.Saver()\n",
    "\n",
    "def evaluate(X_data, y_data):\n",
    "    num_examples = len(X_data)\n",
    "    total_accuracy = 0\n",
    "    sess = tf.get_default_session()\n",
    "    for offset in range(0, num_examples, BATCH_SIZE):\n",
    "        batch_x, batch_y = X_data[offset:offset+BATCH_SIZE], y_data[offset:offset+BATCH_SIZE]\n",
    "        accuracy = sess.run(accuracy_operation, feed_dict={x: batch_x, y: batch_y})\n",
    "        total_accuracy += (accuracy * len(batch_x))\n",
    "    return total_accuracy / num_examples\n",
    "\n",
    "\n",
    "\n",
    "def evaluate_topk(X_data, y_data):\n",
    "    num_examples = len(X_data)\n",
    "    sess = tf.get_default_session()\n",
    "    for offset in range(0, num_examples, BATCH_SIZE):\n",
    "        batch_x, batch_y = X_data[offset:offset+BATCH_SIZE], y_data[offset:offset+BATCH_SIZE]\n",
    "        topk = sess.run(topk_operation, feed_dict={x: batch_x, y: batch_y})\n",
    "       \n",
    "    return topk"
   ]
  },
  {
   "cell_type": "code",
   "execution_count": 19,
   "metadata": {
    "collapsed": false,
    "deletable": true,
    "editable": true
   },
   "outputs": [
    {
     "name": "stdout",
     "output_type": "stream",
     "text": [
      "Training...\n",
      "EPOCH 1 ...\n",
      "Validation Accuracy = 0.161\n",
      "\n",
      "EPOCH 2 ...\n",
      "Validation Accuracy = 0.266\n",
      "\n",
      "EPOCH 3 ...\n",
      "Validation Accuracy = 0.353\n",
      "\n",
      "EPOCH 4 ...\n",
      "Validation Accuracy = 0.405\n",
      "\n",
      "EPOCH 5 ...\n",
      "Validation Accuracy = 0.430\n",
      "EPOCH 5 ...\n",
      "Test Accuracy = 0.404\n",
      "\n",
      "Model saved\n"
     ]
    }
   ],
   "source": [
    "\n",
    "with tf.Session() as sess:\n",
    "    sess.run(init)\n",
    "    num_examples = len(X_train)\n",
    "    \n",
    "    print(\"Training...\")\n",
    "    for i in range(EPOCHS):\n",
    "        X_train, y_train = shuffle(X_train, y_train)\n",
    "        for offset in range(0, num_examples, BATCH_SIZE):\n",
    "            end = offset + BATCH_SIZE\n",
    "            batch_x, batch_y = X_train[offset:end], y_train[offset:end]\n",
    "            sess.run(training_operation, feed_dict={x: batch_x, y: batch_y})\n",
    "            \n",
    "        validation_accuracy = evaluate(X_valid, y_valid)\n",
    "        print(\"EPOCH {} ...\".format(i+1))\n",
    "        print(\"Validation Accuracy = {:.3f}\".format(validation_accuracy))\n",
    "        \n",
    "        if(i == (EPOCHS-1) ):\n",
    "            test_accuracy = evaluate(X_test, y_test)\n",
    "          \n",
    "            print(\"EPOCH {} ...\".format(i+1))\n",
    "            print(\"Test Accuracy = {:.3f}\".format(test_accuracy))\n",
    "        \n",
    "        print()\n",
    "        \n",
    "    saver.save(sess, \"./lenet/model.ckpt\")\n",
    "    print(\"Model saved\")"
   ]
  },
  {
   "cell_type": "markdown",
   "metadata": {
    "deletable": true,
    "editable": true
   },
   "source": [
    "---\n",
    "\n",
    "## Step 1: Dataset Summary & Exploration\n",
    "\n",
    "The pickled data is a dictionary with 4 key/value pairs:\n",
    "\n",
    "- `'features'` is a 4D array containing raw pixel data of the traffic sign images, (num examples, width, height, channels).\n",
    "- `'labels'` is a 1D array containing the label/class id of the traffic sign. The file `signnames.csv` contains id -> name mappings for each id.\n",
    "- `'sizes'` is a list containing tuples, (width, height) representing the the original width and height the image.\n",
    "- `'coords'` is a list containing tuples, (x1, y1, x2, y2) representing coordinates of a bounding box around the sign in the image. **THESE COORDINATES ASSUME THE ORIGINAL IMAGE. THE PICKLED DATA CONTAINS RESIZED VERSIONS (32 by 32) OF THESE IMAGES**\n",
    "\n",
    "Complete the basic data summary below. Use python, numpy and/or pandas methods to calculate the data summary rather than hard coding the results. For example, the [pandas shape method](http://pandas.pydata.org/pandas-docs/stable/generated/pandas.DataFrame.shape.html) might be useful for calculating some of the summary results. "
   ]
  },
  {
   "cell_type": "markdown",
   "metadata": {
    "deletable": true,
    "editable": true
   },
   "source": [
    "### Provide a Basic Summary of the Data Set Using Python, Numpy and/or Pandas"
   ]
  },
  {
   "cell_type": "markdown",
   "metadata": {
    "deletable": true,
    "editable": true
   },
   "source": [
    "### Include an exploratory visualization of the dataset"
   ]
  },
  {
   "cell_type": "code",
   "execution_count": 20,
   "metadata": {
    "collapsed": false,
    "deletable": true,
    "editable": true
   },
   "outputs": [
    {
     "name": "stdout",
     "output_type": "stream",
     "text": [
      "restored...\n",
      "Training...\n",
      "EPOCH 1 ...\n",
      "Validation Accuracy = 0.455\n",
      "\n",
      "EPOCH 2 ...\n",
      "Validation Accuracy = 0.466\n",
      "\n",
      "EPOCH 3 ...\n",
      "Validation Accuracy = 0.483\n",
      "\n",
      "EPOCH 4 ...\n",
      "Validation Accuracy = 0.490\n",
      "\n",
      "EPOCH 5 ...\n",
      "Validation Accuracy = 0.496\n",
      "EPOCH 5 ...\n",
      "Test Accuracy = 0.448\n",
      "\n"
     ]
    }
   ],
   "source": [
    "with tf.Session() as sess:\n",
    "    sess.run(init)\n",
    "    \n",
    "    saver.restore(sess, \"./lenet/model.ckpt\")\n",
    "    \n",
    "    print(\"restored...\")\n",
    "    \n",
    "    num_examples = len(X_train)\n",
    "    \n",
    "    print(\"Training...\")\n",
    "    for i in range(EPOCHS):\n",
    "        X_train, y_train = shuffle(X_train, y_train)\n",
    "        for offset in range(0, num_examples, BATCH_SIZE):\n",
    "            end = offset + BATCH_SIZE\n",
    "            batch_x, batch_y = X_train[offset:end], y_train[offset:end]\n",
    "            sess.run(training_operation, feed_dict={x: batch_x, y: batch_y})\n",
    "            \n",
    "        validation_accuracy = evaluate(X_valid, y_valid)\n",
    "        print(\"EPOCH {} ...\".format(i+1))\n",
    "        print(\"Validation Accuracy = {:.3f}\".format(validation_accuracy))\n",
    "        \n",
    "        if(i == (EPOCHS-1) ):\n",
    "            test_accuracy = evaluate(X_test, y_test)\n",
    "          \n",
    "            print(\"EPOCH {} ...\".format(i+1))\n",
    "            print(\"Test Accuracy = {:.3f}\".format(test_accuracy))\n",
    "        \n",
    "        print()"
   ]
  },
  {
   "cell_type": "code",
   "execution_count": 22,
   "metadata": {
    "collapsed": true
   },
   "outputs": [],
   "source": [
    "imagedir = \"./data/\"\n",
    "\n",
    "X_web,y_web = load_resized_images_in_directory(32,32,imagedir)"
   ]
  },
  {
   "cell_type": "code",
   "execution_count": 23,
   "metadata": {
    "collapsed": false,
    "deletable": true,
    "editable": true
   },
   "outputs": [
    {
     "name": "stdout",
     "output_type": "stream",
     "text": [
      "restored...\n",
      "Training...\n",
      "EPOCH 5 ...\n",
      "Test Accuracy = 0.800\n",
      "TopKV2(values=array([[ 59.84753799,  18.55010986,  14.38391113],\n",
      "       [ 61.96842957,  22.31358719,   9.29935837],\n",
      "       [ 40.48399734,  36.15132141,  25.51536179],\n",
      "       [ 18.56876945,  14.74957752,  14.64593506],\n",
      "       [  8.00855923,   3.80899215,   3.7106905 ]], dtype=float32), indices=array([[14, 17, 12],\n",
      "       [13, 12, 40],\n",
      "       [38, 36, 34],\n",
      "       [25, 18, 11],\n",
      "       [14, 42, 11]], dtype=int32))\n"
     ]
    }
   ],
   "source": [
    "### Run the predictions here and use the model to output the prediction for each image.\n",
    "### Calculate the accuracy for these 5 new images. \n",
    "### For example, if the model predicted 1 out of 5 signs correctly, it's 20% accurate on these new images.\n",
    "\n",
    "with tf.Session() as sess:\n",
    "    sess.run(init)\n",
    "    \n",
    "    saver.restore(sess, \"./lenet/model.ckpt\")\n",
    "    \n",
    "    print(\"restored...\")\n",
    "    \n",
    "    num_examples = len(X_web)\n",
    "    \n",
    "    print(\"Training...\")\n",
    "    for i in range(EPOCHS):\n",
    "        X_web, y_web = shuffle(X_web, y_web)\n",
    "        for offset in range(0, num_examples, BATCH_SIZE):\n",
    "            end = offset + BATCH_SIZE\n",
    "            batch_x, batch_y = X_web[offset:end], y_web[offset:end]\n",
    "            sess.run(training_operation, feed_dict={x: batch_x, y: batch_y})\n",
    "            \n",
    "#        validation_accuracy = evaluate(X_valid, y_valid)\n",
    "#        print(\"EPOCH {} ...\".format(i+1))\n",
    "#        print(\"Validation Accuracy = {:.3f}\".format(validation_accuracy))\n",
    "        \n",
    "        if(i == (EPOCHS-1) ):\n",
    "            test_accuracy = evaluate(X_web, y_web)\n",
    "          \n",
    "            print(\"EPOCH {} ...\".format(i+1))\n",
    "            print(\"Test Accuracy = {:.3f}\".format(test_accuracy))\n",
    "            \n",
    "            test = evaluate_topk(X_web, y_web)\n",
    "            print(test)\n",
    "\n",
    "sess.close()"
   ]
  },
  {
   "cell_type": "markdown",
   "metadata": {
    "deletable": true,
    "editable": true
   },
   "source": [
    "Visualize the German Traffic Signs Dataset using the pickled file(s). This is open ended, suggestions include: plotting traffic sign images, plotting the count of each sign, etc.\n",
    "\n",
    "The [Matplotlib](http://matplotlib.org/) [examples](http://matplotlib.org/examples/index.html) and [gallery](http://matplotlib.org/gallery.html) pages are a great resource for doing visualizations in Python.\n",
    "\n",
    "**NOTE:** It's recommended you start with something simple first. If you wish to do more, come back to it after you've completed the rest of the sections."
   ]
  },
  {
   "cell_type": "code",
   "execution_count": 24,
   "metadata": {
    "collapsed": false,
    "deletable": true,
    "editable": true
   },
   "outputs": [
    {
     "data": {
      "text/html": [
       "<div>\n",
       "<table border=\"1\" class=\"dataframe\">\n",
       "  <thead>\n",
       "    <tr style=\"text-align: right;\">\n",
       "      <th></th>\n",
       "      <th>ClassId</th>\n",
       "      <th>SignName</th>\n",
       "    </tr>\n",
       "  </thead>\n",
       "  <tbody>\n",
       "    <tr>\n",
       "      <th>0</th>\n",
       "      <td>0</td>\n",
       "      <td>Speed limit (20km/h)</td>\n",
       "    </tr>\n",
       "    <tr>\n",
       "      <th>1</th>\n",
       "      <td>1</td>\n",
       "      <td>Speed limit (30km/h)</td>\n",
       "    </tr>\n",
       "    <tr>\n",
       "      <th>2</th>\n",
       "      <td>2</td>\n",
       "      <td>Speed limit (50km/h)</td>\n",
       "    </tr>\n",
       "    <tr>\n",
       "      <th>3</th>\n",
       "      <td>3</td>\n",
       "      <td>Speed limit (60km/h)</td>\n",
       "    </tr>\n",
       "    <tr>\n",
       "      <th>4</th>\n",
       "      <td>4</td>\n",
       "      <td>Speed limit (70km/h)</td>\n",
       "    </tr>\n",
       "  </tbody>\n",
       "</table>\n",
       "</div>"
      ],
      "text/plain": [
       "   ClassId              SignName\n",
       "0        0  Speed limit (20km/h)\n",
       "1        1  Speed limit (30km/h)\n",
       "2        2  Speed limit (50km/h)\n",
       "3        3  Speed limit (60km/h)\n",
       "4        4  Speed limit (70km/h)"
      ]
     },
     "execution_count": 24,
     "metadata": {},
     "output_type": "execute_result"
    },
    {
     "data": {
      "image/png": "[encoded data removed]",
      "text/plain": [
       "<matplotlib.figure.Figure at 0x7ff1b5298f98>"
      ]
     },
     "metadata": {},
     "output_type": "display_data"
    }
   ],
   "source": [
    "distribution =pd.DataFrame({\"y_train_sample\":y_train})\n",
    "distribution.hist(layout=(1,1))  \n",
    "\n",
    "traffic_signs = pd.read_csv(\"signnames.csv\")\n",
    "traffic_signs[:5]"
   ]
  },
  {
   "cell_type": "code",
   "execution_count": null,
   "metadata": {
    "collapsed": false,
    "deletable": true,
    "editable": true
   },
   "outputs": [],
   "source": [
    "sample_locs = []\n",
    "sample_labels = []\n",
    "random_size = n_train\n",
    "\n",
    "\n",
    "def grayscale(img):\n",
    "    \"\"\"Applies the Grayscale transform\n",
    "    This will return an image with only one color channel\n",
    "    but NOTE: to see the returned image as grayscale\n",
    "    (assuming your grayscaled image is called 'gray')\n",
    "    you should call plt.imshow(gray, cmap='gray')\"\"\"\n",
    "\n",
    "    return cv2.cvtColor(img, cv2.COLOR_RGB2GRAY)\n",
    "\n",
    "\n",
    "\n",
    "def get_image(data, label):\n",
    "    maybe_image = random.randint(0,random_size)\n",
    "    sample_locs.append(maybe_image)\n",
    "    sample_labels.append(label[maybe_image])\n",
    "#    print('maybe_image %s: ' % maybe_image)\n",
    "#    print('label value is %s' % label[maybe_image])\n",
    "        \n",
    "    return data[maybe_image]\n",
    "\n",
    "\n",
    "fig = plt.figure(1, (10., 10.))\n",
    "grid = ImageGrid(fig, 111,  # similar to subplot(111)\n",
    "                 nrows_ncols=(8, 5),  # creates 2x2 grid of axes\n",
    "                 axes_pad=0.1,  # pad between axes in inch.\n",
    "                  )\n",
    "\n",
    "for i in range(40):\n",
    "    maybe_image = get_image(X_train, y_train)\n",
    "#    grid[i].imshow(maybe_image) \n",
    "    X_normalized = grayscale(maybe_image)\n",
    "    grid[i].imshow(X_normalized) \n",
    "     # The AxesGrid object work as a list of axes.\n",
    "\n",
    "plt.show()\n",
    "\n",
    "print(sample_locs)\n",
    "print(sample_labels)\n",
    "#X_normalized = normalize_grayscale(X_train, scale=0.6)\n",
    "#print(X_normalized.shape)\n",
    "#print(X_train.shape)"
   ]
  },
  {
   "cell_type": "code",
   "execution_count": null,
   "metadata": {
    "collapsed": false,
    "deletable": true,
    "editable": true,
    "scrolled": true
   },
   "outputs": [],
   "source": [
    "sample_locs = []\n",
    "sample_labels = []\n",
    "random_size = n_train\n",
    "\n",
    "\n",
    "def normalize_grayscale(image_data, scale=1):\n",
    "    \n",
    "    a = -0.5\n",
    "    b = 0.5\n",
    "    grayscale_min = 0\n",
    "    grayscale_max = 255\n",
    "    return a + ( ( (image_data - grayscale_min)*(b - a) )/(( grayscale_max - grayscale_min ) * scale ))\n",
    "\n",
    "\n",
    "\n",
    "def get_image(data, label):\n",
    "    maybe_image = random.randint(0,random_size)\n",
    "    sample_locs.append(maybe_image)\n",
    "    sample_labels.append(label[maybe_image])\n",
    "#    print('maybe_image %s: ' % maybe_image)\n",
    "#    print('label value is %s' % label[maybe_image])\n",
    "        \n",
    "    return data[maybe_image]\n",
    "\n",
    "\n",
    "fig = plt.figure(1, (10., 10.))\n",
    "grid = ImageGrid(fig, 111,  # similar to subplot(111)\n",
    "                 nrows_ncols=(8, 5),  # creates 2x2 grid of axes\n",
    "                 axes_pad=0.1,  # pad between axes in inch.\n",
    "                  )\n",
    "\n",
    "for i in range(40):\n",
    "    maybe_image = get_image(X_train, y_train)\n",
    "#    grid[i].imshow(maybe_image) \n",
    "    X_normalized = normalize_grayscale(maybe_image, scale=0.6)\n",
    "    grid[i].imshow(X_normalized) \n",
    "     # The AxesGrid object work as a list of axes.\n",
    "\n",
    "plt.show()\n",
    "\n",
    "print(sample_locs)\n",
    "print(sample_labels)\n",
    "#X_normalized = normalize_grayscale(X_train, scale=0.6)\n",
    "#print(X_normalized.shape)\n",
    "#print(X_train.shape)"
   ]
  },
  {
   "cell_type": "markdown",
   "metadata": {
    "deletable": true,
    "editable": true
   },
   "source": [
    "----\n",
    "\n",
    "## Step 2: Design and Test a Model Architecture\n",
    "\n",
    "Design and implement a deep learning model that learns to recognize traffic signs. Train and test your model on the [German Traffic Sign Dataset](http://benchmark.ini.rub.de/?section=gtsrb&subsection=dataset).\n",
    "\n",
    "There are various aspects to consider when thinking about this problem:\n",
    "\n",
    "- Neural network architecture\n",
    "- Play around preprocessing techniques (normalization, rgb to grayscale, etc)\n",
    "- Number of examples per label (some have more than others).\n",
    "- Generate fake data.\n",
    "\n",
    "Here is an example of a [published baseline model on this problem](http://yann.lecun.com/exdb/publis/pdf/sermanet-ijcnn-11.pdf). It's not required to be familiar with the approach used in the paper but, it's good practice to try to read papers like these.\n",
    "\n",
    "**NOTE:** The LeNet-5 implementation shown in the [classroom](https://classroom.udacity.com/nanodegrees/nd013/parts/fbf77062-5703-404e-b60c-95b78b2f3f9e/modules/6df7ae49-c61c-4bb2-a23e-6527e69209ec/lessons/601ae704-1035-4287-8b11-e2c2716217ad/concepts/d4aca031-508f-4e0b-b493-e7b706120f81) at the end of the CNN lesson is a solid starting point. You'll have to change the number of classes and possibly the preprocessing, but aside from that it's plug and play!"
   ]
  },
  {
   "cell_type": "code",
   "execution_count": null,
   "metadata": {
    "collapsed": false,
    "deletable": true,
    "editable": true
   },
   "outputs": [],
   "source": [
    "# STOP: Do not change the tests below. Your implementation should pass these tests. \n",
    "#assert X_train.shape == data['features'].shape, 'X_train has changed shape. The shape shouldn\\'t change when shuffling.'\n",
    "#assert y_train.shape == data['labels'].shape, 'y_train has changed shape. The shape shouldn\\'t change when shuffling.'\n",
    "\n",
    "assert round(X_valid.shape[0]/n_train,2) == 0.2, 'X_train not splitted'\n",
    "assert round(y_valid.shape[0]/n_train,2) == 0.2, 'y_train not splitted'\n",
    "assert not np.array_equal(X_train, data['features']), 'X_train not shuffled.'\n",
    "assert not np.array_equal(y_train, data['labels']), 'y_train not shuffled.'\n",
    "print('Tests passed.')"
   ]
  },
  {
   "cell_type": "markdown",
   "metadata": {
    "deletable": true,
    "editable": true
   },
   "source": [
    "1. shuffling\n",
    "2. gray conversion\n",
    "3. LeNet-5 architecture from the course\n",
    "4. model layer evaluation (run each model whenever layer is added.)"
   ]
  },
  {
   "cell_type": "markdown",
   "metadata": {
    "deletable": true,
    "editable": true
   },
   "source": [
    "### Pre-process the Data Set (normalization, grayscale, etc.)"
   ]
  },
  {
   "cell_type": "markdown",
   "metadata": {
    "deletable": true,
    "editable": true
   },
   "source": [
    "Use the code cell (or multiple code cells, if necessary) to implement the first step of your project."
   ]
  },
  {
   "cell_type": "markdown",
   "metadata": {
    "deletable": true,
    "editable": true
   },
   "source": [
    "implemented during 'exploratory visualization of the dataset' above \n",
    ": def normalize_grayscale(image_data, scale=1)"
   ]
  },
  {
   "cell_type": "markdown",
   "metadata": {
    "deletable": true,
    "editable": true
   },
   "source": [
    "### Model Architecture"
   ]
  },
  {
   "cell_type": "markdown",
   "metadata": {
    "deletable": true,
    "editable": true
   },
   "source": [
    "### Train, Validate and Test the Model"
   ]
  },
  {
   "cell_type": "markdown",
   "metadata": {
    "deletable": true,
    "editable": true
   },
   "source": [
    "A validation set can be used to assess how well the model is performing. A low accuracy on the training and validation\n",
    "sets imply underfitting. A high accuracy on the test set but low accuracy on the validation set implies overfitting."
   ]
  },
  {
   "cell_type": "markdown",
   "metadata": {
    "deletable": true,
    "editable": true
   },
   "source": [
    "---\n",
    "\n",
    "## Step 3: Test a Model on New Images\n",
    "\n",
    "To give yourself more insight into how your model is working, download at least five pictures of German traffic signs from the web and use your model to predict the traffic sign type.\n",
    "\n",
    "You may find `signnames.csv` useful as it contains mappings from the class id (integer) to the actual sign name."
   ]
  },
  {
   "cell_type": "markdown",
   "metadata": {
    "deletable": true,
    "editable": true
   },
   "source": [
    "### Load and Output the Images"
   ]
  },
  {
   "cell_type": "markdown",
   "metadata": {
    "deletable": true,
    "editable": true
   },
   "source": [
    "### Predict the Sign Type for Each Image"
   ]
  },
  {
   "cell_type": "markdown",
   "metadata": {
    "deletable": true,
    "editable": true
   },
   "source": [
    "### Analyze Performance"
   ]
  },
  {
   "cell_type": "markdown",
   "metadata": {
    "deletable": true,
    "editable": true
   },
   "source": [
    "### Output Top 5 Softmax Probabilities For Each Image Found on the Web"
   ]
  },
  {
   "cell_type": "markdown",
   "metadata": {
    "deletable": true,
    "editable": true
   },
   "source": [
    "For each of the new images, print out the model's softmax probabilities to show the **certainty** of the model's predictions (limit the output to the top 5 probabilities for each image). [`tf.nn.top_k`](https://www.tensorflow.org/versions/r0.12/api_docs/python/nn.html#top_k) could prove helpful here. \n",
    "\n",
    "The example below demonstrates how tf.nn.top_k can be used to find the top k predictions for each image.\n",
    "\n",
    "`tf.nn.top_k` will return the values and indices (class ids) of the top k predictions. So if k=3, for each sign, it'll return the 3 largest probabilities (out of a possible 43) and the correspoding class ids.\n",
    "\n",
    "Take this numpy array as an example. The values in the array represent predictions. The array contains softmax probabilities for five candidate images with six possible classes. `tk.nn.top_k` is used to choose the three classes with the highest probability:\n",
    "\n",
    "```\n",
    "# (5, 6) array\n",
    "a = np.array([[ 0.24879643,  0.07032244,  0.12641572,  0.34763842,  0.07893497,\n",
    "         0.12789202],\n",
    "       [ 0.28086119,  0.27569815,  0.08594638,  0.0178669 ,  0.18063401,\n",
    "         0.15899337],\n",
    "       [ 0.26076848,  0.23664738,  0.08020603,  0.07001922,  0.1134371 ,\n",
    "         0.23892179],\n",
    "       [ 0.11943333,  0.29198961,  0.02605103,  0.26234032,  0.1351348 ,\n",
    "         0.16505091],\n",
    "       [ 0.09561176,  0.34396535,  0.0643941 ,  0.16240774,  0.24206137,\n",
    "         0.09155967]])\n",
    "```\n",
    "\n",
    "Running it through `sess.run(tf.nn.top_k(tf.constant(a), k=3))` produces:\n",
    "\n",
    "```\n",
    "TopKV2(values=array([[ 0.34763842,  0.24879643,  0.12789202],\n",
    "       [ 0.28086119,  0.27569815,  0.18063401],\n",
    "       [ 0.26076848,  0.23892179,  0.23664738],\n",
    "       [ 0.29198961,  0.26234032,  0.16505091],\n",
    "       [ 0.34396535,  0.24206137,  0.16240774]]), indices=array([[3, 0, 5],\n",
    "       [0, 1, 4],\n",
    "       [0, 5, 1],\n",
    "       [1, 3, 5],\n",
    "       [1, 4, 3]], dtype=int32))\n",
    "```\n",
    "\n",
    "Looking just at the first row we get `[ 0.34763842,  0.24879643,  0.12789202]`, you can confirm these are the 3 largest probabilities in `a`. You'll also notice `[3, 0, 5]` are the corresponding indices."
   ]
  },
  {
   "cell_type": "markdown",
   "metadata": {
    "deletable": true,
    "editable": true
   },
   "source": [
    "> **Note**: Once you have completed all of the code implementations, you need to finalize your work by exporting the IPython Notebook as an HTML document. Before exporting the notebook to html, all of the code cells need to have been run. You can then export the notebook by using the menu above and navigating to  \\n\",\n",
    "    \"**File -> Download as -> HTML (.html)**. Include the finished document along with this notebook as your submission. "
   ]
  },
  {
   "cell_type": "markdown",
   "metadata": {
    "deletable": true,
    "editable": true
   },
   "source": [
    "### Project Writeup\n",
    "\n",
    "Once you have completed the code implementation, document your results in a project writeup using this [template](https://github.com/udacity/CarND-Traffic-Sign-Classifier-Project/blob/master/writeup_template.md) as a guide. The writeup can be in a markdown or pdf file. "
   ]
  }
 ],
 "metadata": {
  "anaconda-cloud": {},
  "kernelspec": {
   "display_name": "Python 3",
   "language": "python",
   "name": "python3"
  },
  "language_info": {
   "codemirror_mode": {
    "name": "ipython",
    "version": 3
   },
   "file_extension": ".py",
   "mimetype": "text/x-python",
   "name": "python",
   "nbconvert_exporter": "python",
   "pygments_lexer": "ipython3",
   "version": "3.5.2"
  },
  "widgets": {
   "state": {},
   "version": "1.1.2"
  }
 },
 "nbformat": 4,
 "nbformat_minor": 1
}
