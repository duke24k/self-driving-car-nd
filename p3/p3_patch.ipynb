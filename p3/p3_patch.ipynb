{
 "cells": [
  {
   "cell_type": "markdown",
   "metadata": {
    "deletable": true,
    "editable": true
   },
   "source": [
    "models\n",
    "\n",
    "- model_v3_patch_v5.h5 : it passes simple."
   ]
  },
  {
   "cell_type": "code",
   "execution_count": 1,
   "metadata": {
    "collapsed": false,
    "deletable": true,
    "editable": true
   },
   "outputs": [
    {
     "name": "stderr",
     "output_type": "stream",
     "text": [
      "Using TensorFlow backend.\n"
     ]
    }
   ],
   "source": [
    "%matplotlib inline\n",
    "\n",
    "import csv, random, numpy as np\n",
    "from keras.models import load_model, Sequential,model_from_json\n",
    "from keras.layers import Dense, Dropout, Flatten, Lambda\n",
    "from keras.layers.convolutional import Convolution2D, MaxPooling2D, Cropping2D\n",
    "from keras.preprocessing.image import img_to_array, load_img, flip_axis, random_shift\n",
    "from keras.layers.advanced_activations import ELU\n",
    "from keras.regularizers import l2, activity_l2\n",
    "from keras import optimizers\n",
    "\n",
    "from keras.callbacks import Callback,ModelCheckpoint\n",
    "\n",
    "from sklearn.model_selection import train_test_split\n",
    "from sklearn.utils import shuffle\n",
    "from math import floor\n",
    "\n",
    "import cv2\n",
    "from PIL import Image\n",
    "import json\n",
    "import matplotlib.pyplot as plt"
   ]
  },
  {
   "cell_type": "markdown",
   "metadata": {
    "deletable": true,
    "editable": true
   },
   "source": [
    "Define Model Architecture\n",
    "adam optimizer configuration is default on Keras document."
   ]
  },
  {
   "cell_type": "code",
   "execution_count": 2,
   "metadata": {
    "collapsed": false,
    "deletable": true,
    "editable": true
   },
   "outputs": [],
   "source": [
    "def model(load, shape, lr = 0.001, checkpoint=None):\n",
    "    \"\"\"Return a model from file or to train on.\"\"\"\n",
    "    \n",
    "   \n",
    "    \n",
    "    if load and checkpoint: return load_model(checkpoint)\n",
    "\n",
    "#    conv_layers1, conv_layers2, dense_layers = [24, 36, 48], [64, 64], [1024, 512]\n",
    "    dense_layers = [1024, 512]\n",
    "    \n",
    "    model = Sequential()\n",
    "    \n",
    "    model.add(Cropping2D(cropping=((40,20), (20,20)), input_shape=shape))\n",
    "    model.add(Lambda(lambda x: x / 255.0 - 0.5))\n",
    "\n",
    "    model.add(Convolution2D(24,5, 5,  border_mode = 'same',subsample=(1, 1)))\n",
    "    model.add(ELU())\n",
    "    model.add(MaxPooling2D(pool_size=(2, 2)))\n",
    "  \n",
    "     \n",
    "    model.add(Convolution2D(32,5, 5,  border_mode = 'same', subsample=(1, 1),activation='elu'))\n",
    "    model.add(MaxPooling2D(pool_size=(2, 2)))\n",
    "\n",
    "   \n",
    "    model.add(Convolution2D(48,3, 3, border_mode = 'same', subsample=(1, 1),activation='elu'))\n",
    "    model.add(MaxPooling2D(pool_size=(2, 2)))\n",
    "\n",
    "\n",
    "    model.add(Convolution2D(64, 3, 3,  border_mode = 'same', subsample=(1, 1), activation='elu'))\n",
    "    model.add(MaxPooling2D(pool_size=(2, 2)))\n",
    "\n",
    "    \n",
    "    model.add(Flatten())\n",
    "    for dl in dense_layers:\n",
    "        model.add(Dense(dl, activation='elu'))\n",
    "        model.add(Dropout(0.5))\n",
    "    model.add(Dense(1, activation='linear'))\n",
    "    \n",
    "    \n",
    "    \n",
    "    adam = optimizers.Adam(lr=lr, beta_1=0.9, beta_2=0.999, epsilon=1e-08, decay=0.0)\n",
    "    \n",
    "    model.compile(loss='mse', optimizer=adam)\n",
    "    \n",
    "    print(\"adam optimizer, lr is %s\" % lr)\n",
    "    \n",
    "    return model"
   ]
  },
  {
   "cell_type": "markdown",
   "metadata": {
    "deletable": true,
    "editable": true
   },
   "source": [
    "Data\n",
    "- udacity_dir : data udacity provides for the project\n",
    "- patch : recovery data for the problem part of track1 on left turn. recored on window\n",
    "- t1_re : recovery data for the problem part of track1 on left turn. recored on linux\n",
    "- t1_rer : recovery data for the problem part of track1  on reverse, right, turn. recored on linux"
   ]
  },
  {
   "cell_type": "code",
   "execution_count": 3,
   "metadata": {
    "collapsed": true,
    "deletable": true,
    "editable": true
   },
   "outputs": [],
   "source": [
    "udacity_dir = ('../data2/driving_log.csv','linux','left')\n",
    "patch=('../model3_patch3/driving_log.csv','window','re_left')\n",
    "t1_re=('../t1_re/driving_log.csv','linux','re_right')\n",
    "t1_rer=('../t1_rer/driving_log.csv','linux','re_right')\n",
    "#t1_ce=('../t1_ce/driving_log.csv','linux','left')\n",
    "#t1_rce=('../t1_rce/driving_log.csv','linux','left')"
   ]
  },
  {
   "cell_type": "markdown",
   "metadata": {
    "deletable": true,
    "editable": true
   },
   "source": [
    "Define how to downsample \n",
    "Define steering angle offset for left and right side camera images.\n",
    "- 0.35"
   ]
  },
  {
   "cell_type": "code",
   "execution_count": 4,
   "metadata": {
    "collapsed": false,
    "deletable": true,
    "editable": true
   },
   "outputs": [],
   "source": [
    "#time_series = ['2016_11_22_14_59_16','2016_11_22_14_59_17','2016_11_22_14_59_18', '2016_11_22_14_59_19', '2016_11_22_14_59_20']\n",
    "#time_series_t1_ce = ['2016_11_22_14_57_50','2016_11_22_14_57_51',\n",
    "#               '2016_11_22_14_57_52', '2016_11_22_14_57_53', \n",
    "#               '2016_11_22_14_57_54', '2016_11_22_14_57_55']\n",
    "\n",
    "time_series_t1_re = ['2016_11_22_19_48_32','2016_11_22_19_48_33',\n",
    "               '2016_11_22_19_48_34', '2016_11_22_19_48_35', \n",
    "               '2016_11_22_19_48_36']\n",
    "\n",
    "time_series_t1_rer = ['2016_11_22_19_52_26','2016_11_22_19_52_27',\n",
    "               '2016_11_22_19_52_28']\n",
    "\n",
    "time_series_patch = ['2017_04_12_21_19_10','2017_04_12_21_19_14',\n",
    "                     '2017_04_12_21_19_16', '2017_04_12_21_19_21',\n",
    "                    '2017_04_12_21_19_24', '2017_04_12_21_19_28']\n",
    "             \n",
    "\n",
    "\n",
    "def get_X_y_test(labels, time_series, device='linux', desc='left', ):\n",
    "  \n",
    "    X, y = [], []\n",
    "    base = []\n",
    "\n",
    "    steering_offset = 0.35\n",
    "    with open(labels) as fin:\n",
    "        for center_img, left_img, right_img, steering_angle, _, _, speed in csv.reader(fin):\n",
    "            \n",
    "                     \n",
    "            if(device == \"window\"):\n",
    "                    left_img = left_img.split('\\\\')[-1]\n",
    "                    right_img = right_img.split('\\\\')[-1]\n",
    "                    center_img = center_img.split('\\\\')[-1]\n",
    "                        \n",
    "            if(device == \"linux\"):         \n",
    "                    left_img = left_img.split('/')[-1]\n",
    "                    right_img = right_img.split('/')[-1]\n",
    "                    center_img = center_img.split('/')[-1]\n",
    "                        \n",
    "            if(desc == 're_left'):\n",
    "                \n",
    "                 for index in range(len(time_series)):    \n",
    "                    if(time_series[index] in left_img or time_series[index] in right_img\n",
    "                       or time_series[index] in center_img):\n",
    "                                   \n",
    "                            X += [left_img.strip()]\n",
    "                            y += [(float(steering_angle) + steering_offset) * 0.2]\n",
    "              \n",
    "\n",
    "                            X += [right_img.strip()]\n",
    "                            y += [(float(steering_angle) - steering_offset)*0.2]\n",
    "                        \n",
    "                     \n",
    "                            X += [center_img.strip()]\n",
    "                            y += [(float(steering_angle))*0.2]\n",
    "                        \n",
    "                    \n",
    "                            shuffle(X, y)\n",
    "               \n",
    "            else:\n",
    "                for index in range(len(time_series)):    \n",
    "                    if(time_series[index] in left_img or time_series[index] in right_img\n",
    "                       or time_series[index] in center_img):\n",
    "                                    \n",
    "                            X += [left_img.strip()]\n",
    "                            y += [float(steering_angle) + steering_offset]\n",
    "              \n",
    "\n",
    "                            X += [right_img.strip()]\n",
    "                            y += [float(steering_angle) - steering_offset]\n",
    "                        \n",
    "                     \n",
    "                            X += [center_img.strip()]\n",
    "                            y += [float(steering_angle)]\n",
    "                        \n",
    "                    \n",
    "                            shuffle(X, y)\n",
    "                                 \n",
    "    return X, y"
   ]
  },
  {
   "cell_type": "code",
   "execution_count": 5,
   "metadata": {
    "collapsed": true,
    "deletable": true,
    "editable": true
   },
   "outputs": [],
   "source": [
    "def merge_data(dir1,time_series):\n",
    "\n",
    "    X1, y1 = get_X_y_test(dir1[0], time_series, device=dir1[1], desc=dir1[2])\n",
    "    \n",
    "    X = X1\n",
    "    y =  y1 \n",
    "    \n",
    "    return X,y"
   ]
  },
  {
   "cell_type": "markdown",
   "metadata": {
    "deletable": true,
    "editable": true
   },
   "source": [
    "subsampling data."
   ]
  },
  {
   "cell_type": "code",
   "execution_count": 6,
   "metadata": {
    "collapsed": false,
    "deletable": true,
    "editable": true
   },
   "outputs": [
    {
     "name": "stdout",
     "output_type": "stream",
     "text": [
      "315\n",
      "315\n",
      "0.0501919511619\n"
     ]
    },
    {
     "data": {
      "image/png": "[encoded data removed]",
      "text/plain": [
       "<matplotlib.figure.Figure at 0x7f498e0f70b8>"
      ]
     },
     "metadata": {},
     "output_type": "display_data"
    }
   ],
   "source": [
    "data_dir1 = t1_re\n",
    "data_dir2 = t1_rer\n",
    "data_dir3 = patch\n",
    "\n",
    "X_raw1, y_raw1 = merge_data(data_dir1, time_series = time_series_t1_re)\n",
    "X_raw2, y_raw2 = merge_data(data_dir2, time_series =time_series_t1_rer)\n",
    "X_raw3, y_raw3 = merge_data(data_dir3, time_series =time_series_patch)\n",
    "\n",
    "X_raw = X_raw1 + X_raw2 + X_raw3\n",
    "y_raw = y_raw1 + y_raw2 + y_raw3\n",
    "    \n",
    "plt.xlim([min(y_raw)-0.1, max(y_raw)+0.05])\n",
    "\n",
    "plt.hist(np.array(y_raw), alpha=0.5, bins=50)\n",
    "#plt.plot(y_merge)\n",
    "\n",
    "print(len(y_raw))\n",
    "print(len(X_raw))\n",
    "\n",
    "print(np.mean(np.array(y_raw)))"
   ]
  },
  {
   "cell_type": "markdown",
   "metadata": {
    "deletable": true,
    "editable": true
   },
   "source": [
    "Normalize data distribution\n",
    "- np.mean(angles) : -0.00143245576786"
   ]
  },
  {
   "cell_type": "code",
   "execution_count": 7,
   "metadata": {
    "collapsed": false,
    "deletable": true,
    "editable": true
   },
   "outputs": [
    {
     "name": "stdout",
     "output_type": "stream",
     "text": [
      "11.5\n"
     ]
    },
    {
     "data": {
      "image/png": "[encoded data removed]",
      "text/plain": [
       "<matplotlib.figure.Figure at 0x7f498e0f90b8>"
      ]
     },
     "metadata": {},
     "output_type": "display_data"
    }
   ],
   "source": [
    "angles = np.array(y_raw)\n",
    "num_bins = 23\n",
    "avg_samples_per_bin = len(angles)/num_bins\n",
    "hist, bins = np.histogram(angles, num_bins)\n",
    "width = 0.7 * (bins[1] - bins[0])\n",
    "center = (bins[:-1] + bins[1:]) / 2\n",
    "plt.bar(center, hist, align='center', width=width)\n",
    "plt.plot((np.min(angles), np.max(angles)), (avg_samples_per_bin, avg_samples_per_bin), 'k-')\n",
    "\n",
    "\n",
    "print(num_bins/2)"
   ]
  },
  {
   "cell_type": "code",
   "execution_count": 8,
   "metadata": {
    "collapsed": false,
    "deletable": true,
    "editable": true
   },
   "outputs": [
    {
     "name": "stdout",
     "output_type": "stream",
     "text": [
      "[1.0, 1.0, 1.0, 1.0, 1.0, 1.0, 1.0, 1.0, 1.0, 1.0, 1.0, 1.0, 1.0, 1.0, 1.0, 1.0, 1.0, 1.0, 1.0, 1.0, 1.0, 1.0, 1.0]\n",
      "[ 2  1  3  6  2  3 27  7 15 10 16 44 26 48 34 27 26  3  9  2  2  1  1]\n",
      "13.695652173913043\n",
      "1.46031746032\n",
      "0.684782608696\n"
     ]
    }
   ],
   "source": [
    "keep_probs = []\n",
    "target = avg_samples_per_bin * 4.0\n",
    "for i in range(num_bins):\n",
    "    if hist[i] < target:\n",
    "        keep_probs.append(1.)\n",
    "    else:\n",
    "        keep_probs.append(1./(hist[i]/target))\n",
    "        \n",
    "remove_list = []\n",
    "for i in range(len(angles)):\n",
    "    for j in range(num_bins):\n",
    "        if angles[i] > bins[j] and angles[i] <= bins[j+1]:\n",
    "            # delete from X and y with probability 1 - keep_probs[j]\n",
    "            \n",
    "            if j > (num_bins/2 - 4.5) and j < (num_bins/2 + 4.5):\n",
    "                \n",
    "                if np.random.rand() > (keep_probs[j] * 0.1) :\n",
    "                    \n",
    "                    remove_list.append(i)\n",
    "            \n",
    "            else:\n",
    "            \n",
    "                if np.random.rand() > keep_probs[j]:\n",
    "                    remove_list.append(i)\n",
    "       \n",
    "            \n",
    "                \n",
    "print(keep_probs)\n",
    "print(hist)\n",
    "print(avg_samples_per_bin)\n",
    "print(hist[9]/(0.5*avg_samples_per_bin))\n",
    "print(1./(hist[9]/(0.5*avg_samples_per_bin)))\n",
    "#image_paths = np.delete(image_paths, remove_list, axis=0)\n",
    "#angles = np.delete(angles, remove_list)\n",
    "\n",
    "angles = np.delete(angles, remove_list)\n"
   ]
  },
  {
   "cell_type": "markdown",
   "metadata": {
    "deletable": true,
    "editable": true
   },
   "source": [
    "https://github.com/jeremy-shannon/CarND-Behavioral-Cloning-Project/blob/master/model.py"
   ]
  },
  {
   "cell_type": "code",
   "execution_count": 9,
   "metadata": {
    "collapsed": false,
    "deletable": true,
    "editable": true
   },
   "outputs": [
    {
     "name": "stdout",
     "output_type": "stream",
     "text": [
      "-0.00438951568067\n"
     ]
    },
    {
     "data": {
      "image/png": "[encoded data removed]",
      "text/plain": [
       "<matplotlib.figure.Figure at 0x7f498c068278>"
      ]
     },
     "metadata": {},
     "output_type": "display_data"
    }
   ],
   "source": [
    "num_bins = 23\n",
    "\n",
    "hist, bins = np.histogram(angles, num_bins)\n",
    "width = 0.7 * (bins[1] - bins[0])\n",
    "center = (bins[:-1] + bins[1:]) / 2\n",
    "plt.bar(center, hist, align='center', width=width)\n",
    "\n",
    "\n",
    "print(np.mean(angles))"
   ]
  },
  {
   "cell_type": "code",
   "execution_count": 10,
   "metadata": {
    "collapsed": false,
    "deletable": true,
    "editable": true
   },
   "outputs": [
    {
     "name": "stdout",
     "output_type": "stream",
     "text": [
      "[0.35, -0.35, -0.5601414, -0.5601414, -0.5601414, -0.5045527, 0.35, -0.35, 0.35, -0.35, 0.35, -0.35, 0.35, -0.35, 0.35, -0.35, 0.35, -0.35, 0.35, -0.35, 0.42116971, -0.27883029, 0.4952879, 0.1452879, 0.5138175, -0.18618249999999997, 0.532347, 0.35631625299999997, -0.343683747, 0.35631625299999997, -0.343683747, 0.35631625299999997, -0.343683747, 0.35631625299999997, -0.343683747, 0.35, -0.35, 0.35, -0.35, 0.35, -0.35, 0.5833033, 0.472126, -0.22787399999999997, 0.35, -0.35, 0.35, -0.35, 0.35, -0.35, -0.38874297999999996, -0.43506685999999994, -0.5045527, -0.5045527, 0.35, -0.35, 0.35, -0.35, 0.35, -0.35, 0.35, -0.35, -0.6342596, -0.2842596, -0.6342596, -0.2842596, 0.35, -0.35, 0.0, 0.6018328, 0.6944806, 0.3444806, 0.7963932, 0.4463932, 0.6574215, -0.4582288, -0.1082288, -0.7315396999999999, -0.3815397, -0.7732311999999999, -0.4232312, 0.39337535999999995, -0.30662464, 0.5045527, 0.5045527, 0.5045527, 0.5045527, 0.5045527, 0.5045527, 0.35, -0.35, 0.0, -0.6342596, -0.2842596, -0.6620539, -0.3120539, 0.35, -0.35, -0.06999999999999999, 0.13, 0.0, -0.007426479999999991, 0.2, 0.13, -0.01750383, 0.06999999999999999, -0.06999999999999999, 0.0, 0.27, 0.27, 0.27, 0.11524048, -0.14774534, -0.27, -0.27, 0.06058124000000001, 0.06833482, -0.006327679999999992, 0.2]\n",
      "['left_2016_11_22_19_48_32_349.jpg', 'right_2016_11_22_19_48_32_349.jpg', 'right_2016_11_22_19_48_32_468.jpg', 'right_2016_11_22_19_48_32_583.jpg', 'right_2016_11_22_19_48_32_689.jpg', 'right_2016_11_22_19_48_32_798.jpg', 'left_2016_11_22_19_48_32_904.jpg', 'right_2016_11_22_19_48_32_904.jpg', 'left_2016_11_22_19_48_33_008.jpg', 'right_2016_11_22_19_48_33_008.jpg', 'left_2016_11_22_19_48_33_111.jpg', 'right_2016_11_22_19_48_33_111.jpg', 'left_2016_11_22_19_48_33_215.jpg', 'right_2016_11_22_19_48_33_215.jpg', 'left_2016_11_22_19_48_33_325.jpg', 'right_2016_11_22_19_48_33_325.jpg', 'left_2016_11_22_19_48_33_425.jpg', 'right_2016_11_22_19_48_33_425.jpg', 'left_2016_11_22_19_48_33_549.jpg', 'right_2016_11_22_19_48_33_549.jpg', 'left_2016_11_22_19_48_33_672.jpg', 'right_2016_11_22_19_48_33_672.jpg', 'left_2016_11_22_19_48_33_793.jpg', 'center_2016_11_22_19_48_33_793.jpg', 'left_2016_11_22_19_48_33_913.jpg', 'right_2016_11_22_19_48_33_913.jpg', 'left_2016_11_22_19_48_34_031.jpg', 'left_2016_11_22_19_48_34_151.jpg', 'right_2016_11_22_19_48_34_151.jpg', 'left_2016_11_22_19_48_34_252.jpg', 'right_2016_11_22_19_48_34_252.jpg', 'left_2016_11_22_19_48_34_373.jpg', 'right_2016_11_22_19_48_34_373.jpg', 'left_2016_11_22_19_48_34_494.jpg', 'right_2016_11_22_19_48_34_494.jpg', 'left_2016_11_22_19_48_34_609.jpg', 'right_2016_11_22_19_48_34_609.jpg', 'left_2016_11_22_19_48_34_725.jpg', 'right_2016_11_22_19_48_34_725.jpg', 'left_2016_11_22_19_48_34_840.jpg', 'right_2016_11_22_19_48_34_840.jpg', 'left_2016_11_22_19_48_34_953.jpg', 'left_2016_11_22_19_48_35_067.jpg', 'right_2016_11_22_19_48_35_067.jpg', 'left_2016_11_22_19_48_35_177.jpg', 'right_2016_11_22_19_48_35_177.jpg', 'left_2016_11_22_19_48_35_284.jpg', 'right_2016_11_22_19_48_35_284.jpg', 'left_2016_11_22_19_48_35_388.jpg', 'right_2016_11_22_19_48_35_388.jpg', 'right_2016_11_22_19_48_35_493.jpg', 'right_2016_11_22_19_48_35_595.jpg', 'right_2016_11_22_19_48_35_711.jpg', 'right_2016_11_22_19_48_35_825.jpg', 'left_2016_11_22_19_48_35_942.jpg', 'right_2016_11_22_19_48_35_942.jpg', 'left_2016_11_22_19_48_36_049.jpg', 'right_2016_11_22_19_48_36_049.jpg', 'left_2016_11_22_19_48_36_155.jpg', 'right_2016_11_22_19_48_36_155.jpg', 'left_2016_11_22_19_48_36_262.jpg', 'right_2016_11_22_19_48_36_262.jpg', 'right_2016_11_22_19_52_26_301.jpg', 'center_2016_11_22_19_52_26_301.jpg', 'right_2016_11_22_19_52_26_427.jpg', 'center_2016_11_22_19_52_26_427.jpg', 'left_2016_11_22_19_52_26_534.jpg', 'right_2016_11_22_19_52_26_534.jpg', 'center_2016_11_22_19_52_26_534.jpg', 'left_2016_11_22_19_52_26_668.jpg', 'left_2016_11_22_19_52_26_801.jpg', 'center_2016_11_22_19_52_26_801.jpg', 'left_2016_11_22_19_52_26_906.jpg', 'center_2016_11_22_19_52_26_906.jpg', 'left_2016_11_22_19_52_27_039.jpg', 'right_2016_11_22_19_52_27_175.jpg', 'center_2016_11_22_19_52_27_175.jpg', 'right_2016_11_22_19_52_27_276.jpg', 'center_2016_11_22_19_52_27_276.jpg', 'right_2016_11_22_19_52_27_384.jpg', 'center_2016_11_22_19_52_27_384.jpg', 'left_2016_11_22_19_52_27_500.jpg', 'right_2016_11_22_19_52_27_500.jpg', 'left_2016_11_22_19_52_27_638.jpg', 'left_2016_11_22_19_52_27_779.jpg', 'left_2016_11_22_19_52_27_883.jpg', 'left_2016_11_22_19_52_27_997.jpg', 'left_2016_11_22_19_52_28_102.jpg', 'left_2016_11_22_19_52_28_218.jpg', 'left_2016_11_22_19_52_28_355.jpg', 'right_2016_11_22_19_52_28_355.jpg', 'center_2016_11_22_19_52_28_355.jpg', 'right_2016_11_22_19_52_28_465.jpg', 'center_2016_11_22_19_52_28_465.jpg', 'right_2016_11_22_19_52_28_604.jpg', 'center_2016_11_22_19_52_28_604.jpg', 'left_2016_11_22_19_52_28_730.jpg', 'right_2016_11_22_19_52_28_730.jpg', 'right_2017_04_12_21_19_10_088.jpg', 'right_2017_04_12_21_19_10_909.jpg', 'center_2017_04_12_21_19_14_021.jpg', 'right_2017_04_12_21_19_14_125.jpg', 'center_2017_04_12_21_19_14_361.jpg', 'right_2017_04_12_21_19_14_595.jpg', 'center_2017_04_12_21_19_14_964.jpg', 'left_2017_04_12_21_19_16_035.jpg', 'right_2017_04_12_21_19_16_035.jpg', 'center_2017_04_12_21_19_16_035.jpg', 'left_2017_04_12_21_19_16_410.jpg', 'left_2017_04_12_21_19_16_695.jpg', 'left_2017_04_12_21_19_16_873.jpg', 'left_2017_04_12_21_19_21_383.jpg', 'center_2017_04_12_21_19_21_757.jpg', 'right_2017_04_12_21_19_21_876.jpg', 'right_2017_04_12_21_19_21_985.jpg', 'right_2017_04_12_21_19_24_739.jpg', 'center_2017_04_12_21_19_24_843.jpg', 'right_2017_04_12_21_19_28_109.jpg', 'center_2017_04_12_21_19_28_654.jpg']\n"
     ]
    }
   ],
   "source": [
    "y_merge = angles.tolist()\n",
    "\n",
    "images = np.array(X_raw)\n",
    "X_merge = np.delete(images, remove_list)\n",
    "X_merge = X_merge.tolist()\n",
    "\n",
    "print(y_merge)\n",
    "print(X_merge)"
   ]
  },
  {
   "cell_type": "markdown",
   "metadata": {
    "deletable": true,
    "editable": true
   },
   "source": [
    "Data augmentation\n",
    "- random_darken\n",
    "- horizontal and vertical shift\n",
    "- horizontal flip"
   ]
  },
  {
   "cell_type": "code",
   "execution_count": 11,
   "metadata": {
    "collapsed": true,
    "deletable": true,
    "editable": true
   },
   "outputs": [],
   "source": [
    "def random_darken(image):\n",
    "    \"\"\"Given an image (from Image.open), randomly darken a part of it.\"\"\"\n",
    "    w, h = image.size\n",
    "\n",
    "    # Make a random box.\n",
    "    x1, y1 = random.randint(0, w), random.randint(0, h)\n",
    "    x2, y2 = random.randint(x1, w), random.randint(y1, h)\n",
    "\n",
    "    # Loop through every pixel of our box (*GASP*) and darken.\n",
    "    for i in range(x1, x2):\n",
    "        for j in range(y1, y2):\n",
    "            new_value = tuple([int(x * 0.5) for x in image.getpixel((i, j))])\n",
    "            image.putpixel((i, j), new_value)\n",
    "    return image"
   ]
  },
  {
   "cell_type": "code",
   "execution_count": 12,
   "metadata": {
    "collapsed": false,
    "deletable": true,
    "editable": true
   },
   "outputs": [],
   "source": [
    "def split_data(data, label, split = 0.3):\n",
    "    \n",
    "    train_samples, validation_samples, train_labels, validation_labels = train_test_split(\n",
    "    data,\n",
    "    label,\n",
    "    test_size=split,\n",
    "    random_state=832289)\n",
    "    \n",
    "    return train_samples, validation_samples, train_labels, validation_labels"
   ]
  },
  {
   "cell_type": "code",
   "execution_count": 13,
   "metadata": {
    "collapsed": false,
    "deletable": true,
    "editable": true
   },
   "outputs": [],
   "source": [
    "def process_image_test(image, steering_angle, augment=True, shape=(160,320)):\n",
    "    \"\"\"Process and augment an image.\"\"\"\n",
    "\n",
    "    pil_image = Image.fromarray(image)\n",
    "\n",
    "    if augment and random.random() < 0.5:\n",
    "        pil_image = random_darken(pil_image)  # before numpy'd\n",
    "\n",
    "    image = img_to_array(pil_image)\n",
    "      \n",
    "    \n",
    "    if augment:\n",
    "        image = random_shift(image, 0.05, 0.4, 0, 1, 2)  # only vertical\n",
    "        if random.random() < 0.5:\n",
    "            image = flip_axis(image, 1)\n",
    "            steering_angle = -steering_angle\n",
    "      \n",
    "    return image, steering_angle"
   ]
  },
  {
   "cell_type": "markdown",
   "metadata": {
    "deletable": true,
    "editable": true
   },
   "source": [
    "Define generator \n",
    "\n",
    "- generator : train generator\n",
    "- generator_valid : validation generator"
   ]
  },
  {
   "cell_type": "code",
   "execution_count": 14,
   "metadata": {
    "collapsed": true,
    "deletable": true,
    "editable": true
   },
   "outputs": [],
   "source": [
    "# image directory, path = '../merge_image/image/' "
   ]
  },
  {
   "cell_type": "code",
   "execution_count": 15,
   "metadata": {
    "collapsed": false,
    "deletable": true,
    "editable": true
   },
   "outputs": [],
   "source": [
    "def generator(samples, labels, batch_size=128, model='default'):\n",
    "    num_samples = len(samples)\n",
    "    while 1: # Loop forever so the generator never terminates\n",
    "        shuffle(samples, labels)\n",
    "        \n",
    "        print('\\n training batch shuffled')\n",
    "        \n",
    "        for offset in range(0, num_samples, batch_size):\n",
    "           \n",
    "        #    print(type(samples))\n",
    "        #    print(len(samples))\n",
    "            batch_samples = samples[offset:offset+batch_size]\n",
    "            batch_labels = labels[offset:offset+batch_size]\n",
    "\n",
    "            images = []\n",
    "            angles = []\n",
    "            for idx, val in enumerate(batch_samples):\n",
    "        \n",
    "                name = batch_samples[idx]\n",
    "                \n",
    "                path = '../merge_image/image/' + name \n",
    "                    \n",
    "                srcBGR = cv2.imread(path)\n",
    "          #      destRGB = cv2.cvtColor(srcBGR, cv2.COLOR_BGR2RGB)\n",
    "                      \n",
    "                new_img = cv2.cvtColor(srcBGR , cv2.COLOR_BGR2YUV)\n",
    "                         \n",
    "                raw_angle = float(batch_labels[idx])\n",
    "                \n",
    "                input_image, input_angle = process_image_test(new_img, raw_angle)\n",
    "                \n",
    "                images.append(input_image)\n",
    "                angles.append(input_angle)\n",
    "                \n",
    "               \n",
    "            # trim image to only see section with road\n",
    "            X_train = np.array(images)\n",
    "            y_train = np.array(angles)\n",
    "            yield shuffle(X_train, y_train)\n",
    "            \n",
    "def generator_valid(samples, labels, batch_size=128, model='default'):\n",
    "    num_samples = len(samples)\n",
    "    while 1: # Loop forever so the generator never terminates\n",
    "        shuffle(samples, labels)\n",
    "        for offset in range(0, num_samples, batch_size):\n",
    "            batch_samples = samples[offset:offset+batch_size]\n",
    "            batch_labels = labels[offset:offset+batch_size]\n",
    "\n",
    "            images = []\n",
    "            angles = []\n",
    "            for idx, val in enumerate(batch_samples):\n",
    "        \n",
    "                name = batch_samples[idx]\n",
    "                \n",
    "                path = '../merge_image/image/' + name \n",
    "            \n",
    "                srcBGR = cv2.imread(path)\n",
    "        #        destRGB = cv2.cvtColor(srcBGR, cv2.COLOR_BGR2RGB)\n",
    "        \n",
    "                new_img = cv2.cvtColor(srcBGR , cv2.COLOR_BGR2YUV)\n",
    "                       \n",
    "                raw_angle = float(batch_labels[idx])\n",
    "                \n",
    "                input_image, input_angle = process_image_test(new_img, raw_angle)\n",
    "                \n",
    "                images.append(input_image)\n",
    "                angles.append(input_angle)\n",
    "                \n",
    "            # trim image to only see section with road\n",
    "            X_train = np.array(images)\n",
    "            y_train = np.array(angles)\n",
    "            yield shuffle(X_train, y_train)"
   ]
  },
  {
   "cell_type": "markdown",
   "metadata": {
    "deletable": true,
    "editable": true
   },
   "source": [
    "train_valid \n",
    "- angles : streering angles, list \n",
    "- labels : image file names, list\n",
    "- model_name : model name\n",
    "  String\n",
    "- load_stored : whether to restore saved model or not\n",
    "  True or False\n",
    "- load_model_path : file path to save model\n",
    "  String\n",
    "- save_best : whether to save model based on Keras, ModelCheckpoint class, monitor parameter value. \n",
    "  True or False\n",
    "- no_epoch : number of epochs"
   ]
  },
  {
   "cell_type": "code",
   "execution_count": 16,
   "metadata": {
    "collapsed": true,
    "deletable": true,
    "editable": true
   },
   "outputs": [],
   "source": [
    "def train_valid(angles, labels, model_name='default', data='default', lr=0.001, load_stored= False, \n",
    "                load_model_path = None, save_model_path = None, save_best = False, no_epoch=5):\n",
    "    \"\"\"Load our network and our data, fit the model, save it.\"\"\"\n",
    "    \n",
    "\n",
    "    \n",
    "    print(\"load_model_path is %s \" % load_model_path)\n",
    "    \n",
    "   \n",
    "    if(load_stored):\n",
    "        \n",
    "        net = load_model(load_model_path)\n",
    "        \n",
    "    else:\n",
    "        \n",
    "        if(model_name=='nvidia'):\n",
    "            net = nvidia(load=False, shape=(160, 320, 3), lr=lr)\n",
    "        \n",
    "        elif(model_name=='default'):\n",
    "            net = model(load=False, shape=(160, 320, 3), lr=lr)\n",
    "\n",
    "    \n",
    "    # select path to save model based on each model\n",
    "    if(model_name=='default'):\n",
    "        \n",
    "        save_path = load_model_path\n",
    "\n",
    "    if(model_name=='nvidia'):\n",
    "        \n",
    "        save_path = load_model_path\n",
    "    \n",
    "    # select data \n",
    "    if(data=='default'):\n",
    "\n",
    "        X_merge = labels\n",
    "        y_merge = angles\n",
    "        pass\n",
    "    \n",
    "\n",
    "    # shuffle labels\n",
    "    X_merge,y_merge = shuffle(X_merge, y_merge)\n",
    "    \n",
    "\n",
    "    # split data\n",
    "    train_samples, validation_samples, train_labels, validation_labels = split_data(X_merge,y_merge,split = 0.1)\n",
    "  \n",
    "    \n",
    "    # define generators for training and validation\n",
    "    # image label should not be dupilcated in the label file for thread safety.\n",
    "    \n",
    "    train_generator = generator(train_samples, train_labels, batch_size=256, model=model_name)\n",
    "    validation_generator = generator_valid(validation_samples, validation_labels, batch_size=256, model=model_name)\n",
    "    \n",
    "    \n",
    "    # define whether to use checkpointer or not\n",
    "    \n",
    "    if(save_best):\n",
    "    \n",
    "        checkpointer = ModelCheckpoint(filepath=load_model_path, monitor='loss', verbose=1, \n",
    "                                   save_best_only=True,save_weights_only=False)\n",
    "        callbacks_list = [checkpointer]\n",
    "        \n",
    "        net.fit_generator(train_generator, samples_per_epoch=len(train_samples), validation_data=validation_generator, \n",
    "            nb_val_samples=len(validation_samples), nb_epoch= no_epoch,callbacks=callbacks_list)\n",
    "        \n",
    "        net.save(save_model_path)\n",
    "        \n",
    "    else:\n",
    "        \n",
    "        net.fit_generator(train_generator, samples_per_epoch=len(train_samples), validation_data=validation_generator, \n",
    "            nb_val_samples=len(validation_samples), nb_epoch= no_epoch)\n",
    "        \n",
    "        net.save(save_model_path)\n",
    "        print(\"Saved model to disk\")\n",
    "       \n",
    "    \n",
    "    # model summary for debugging\n",
    "    net.summary()\n",
    "    \n",
    "    # print weights for debugging\n",
    "    weights_test = net.get_weights()\n",
    "    \n",
    "    print(len(weights_test))\n",
    "    print((np.array(weights_test))[0])"
   ]
  },
  {
   "cell_type": "code",
   "execution_count": 17,
   "metadata": {
    "collapsed": false,
    "deletable": true,
    "editable": true
   },
   "outputs": [],
   "source": [
    "#train_valid(angles = y_merge, labels = X_merge, model_name='default', lr = 0.001, \n",
    "#            data= 'default', load_stored= True, load_model_path = './model/model_v3.h5', \n",
    "#            save_model_path = './model/model_v3_patch_v5.h5', save_best = False, no_epoch=1)"
   ]
  },
  {
   "cell_type": "code",
   "execution_count": 18,
   "metadata": {
    "collapsed": false,
    "deletable": true,
    "editable": true
   },
   "outputs": [
    {
     "name": "stdout",
     "output_type": "stream",
     "text": [
      "load_model_path is ./model/test.h5 \n",
      "Epoch 1/3\n",
      "\n",
      " training batch shuffled\n",
      "\n",
      " training batch shuffled\n",
      "\n",
      " training batch shuffled\n",
      "107/107 [==============================] - 2s - loss: 0.1738 - val_loss: 0.1437\n",
      "Epoch 2/3\n",
      "107/107 [==============================] - 0s - loss: 0.1715 - val_loss: 0.1170\n",
      "Epoch 3/3\n",
      "\n",
      " training batch shuffled\n",
      "107/107 [==============================] - 1s - loss: 0.1435 - val_loss: 0.0795\n",
      "Saved model to disk\n",
      "____________________________________________________________________________________________________\n",
      "Layer (type)                     Output Shape          Param #     Connected to                     \n",
      "====================================================================================================\n",
      "cropping2d_1 (Cropping2D)        (None, 100, 280, 3)   0           cropping2d_input_1[0][0]         \n",
      "____________________________________________________________________________________________________\n",
      "lambda_1 (Lambda)                (None, 100, 280, 3)   0           cropping2d_1[0][0]               \n",
      "____________________________________________________________________________________________________\n",
      "convolution2d_1 (Convolution2D)  (None, 100, 280, 24)  1824        lambda_1[0][0]                   \n",
      "____________________________________________________________________________________________________\n",
      "elu_1 (ELU)                      (None, 100, 280, 24)  0           convolution2d_1[0][0]            \n",
      "____________________________________________________________________________________________________\n",
      "maxpooling2d_1 (MaxPooling2D)    (None, 50, 140, 24)   0           elu_1[0][0]                      \n",
      "____________________________________________________________________________________________________\n",
      "convolution2d_2 (Convolution2D)  (None, 50, 140, 32)   19232       maxpooling2d_1[0][0]             \n",
      "____________________________________________________________________________________________________\n",
      "maxpooling2d_2 (MaxPooling2D)    (None, 25, 70, 32)    0           convolution2d_2[0][0]            \n",
      "____________________________________________________________________________________________________\n",
      "convolution2d_3 (Convolution2D)  (None, 25, 70, 48)    13872       maxpooling2d_2[0][0]             \n",
      "____________________________________________________________________________________________________\n",
      "maxpooling2d_3 (MaxPooling2D)    (None, 12, 35, 48)    0           convolution2d_3[0][0]            \n",
      "____________________________________________________________________________________________________\n",
      "convolution2d_4 (Convolution2D)  (None, 12, 35, 64)    27712       maxpooling2d_3[0][0]             \n",
      "____________________________________________________________________________________________________\n",
      "maxpooling2d_4 (MaxPooling2D)    (None, 6, 17, 64)     0           convolution2d_4[0][0]            \n",
      "____________________________________________________________________________________________________\n",
      "flatten_1 (Flatten)              (None, 6528)          0           maxpooling2d_4[0][0]             \n",
      "____________________________________________________________________________________________________\n",
      "dense_1 (Dense)                  (None, 1024)          6685696     flatten_1[0][0]                  \n",
      "____________________________________________________________________________________________________\n",
      "dropout_1 (Dropout)              (None, 1024)          0           dense_1[0][0]                    \n",
      "____________________________________________________________________________________________________\n",
      "dense_2 (Dense)                  (None, 512)           524800      dropout_1[0][0]                  \n",
      "____________________________________________________________________________________________________\n",
      "dropout_2 (Dropout)              (None, 512)           0           dense_2[0][0]                    \n",
      "____________________________________________________________________________________________________\n",
      "dense_3 (Dense)                  (None, 1)             513         dropout_2[0][0]                  \n",
      "====================================================================================================\n",
      "Total params: 7,273,649\n",
      "Trainable params: 7,273,649\n",
      "Non-trainable params: 0\n",
      "____________________________________________________________________________________________________\n",
      "14\n",
      "[[[[  6.91132247e-03  -7.94648528e-02  -5.44632971e-02 ...,\n",
      "      3.09157465e-02   1.98818594e-02   2.31055636e-02]\n",
      "   [  8.09553564e-02   7.35671744e-02  -4.53099757e-02 ...,\n",
      "      6.41826168e-02   2.52524614e-02   1.21454959e-05]\n",
      "   [  7.96100721e-02  -7.43511692e-02  -3.74060906e-02 ...,\n",
      "      4.75149564e-02  -2.60219742e-02  -2.96440907e-02]]\n",
      "\n",
      "  [[ -6.33631870e-02  -8.24607089e-02  -7.85440207e-02 ...,\n",
      "     -4.97497208e-02   6.07196204e-02   5.33629060e-02]\n",
      "   [  7.51251429e-02   4.46665101e-02  -4.29957882e-02 ...,\n",
      "      7.36091733e-02  -1.43700866e-02  -2.25827210e-02]\n",
      "   [ -6.45277873e-02   8.99247155e-02   1.96858961e-03 ...,\n",
      "      1.25277815e-02   3.96887884e-02   5.81714101e-02]]\n",
      "\n",
      "  [[ -5.72949760e-02   7.73380324e-02  -7.42150471e-02 ...,\n",
      "      8.92415419e-02   6.86613843e-02   5.80642000e-02]\n",
      "   [  4.33907174e-02  -1.37912156e-03  -7.56329149e-02 ...,\n",
      "      6.19744696e-02   5.70757501e-02  -1.24858748e-02]\n",
      "   [ -6.75691739e-02  -2.46326588e-02   9.02748108e-02 ...,\n",
      "     -3.45891938e-02   2.30088905e-02  -6.18868209e-02]]\n",
      "\n",
      "  [[ -6.49324507e-02  -2.66089253e-02  -4.87969220e-02 ...,\n",
      "     -1.05774570e-02  -5.91376759e-02  -2.30418928e-02]\n",
      "   [ -7.34194294e-02  -3.50774527e-02  -6.36565238e-02 ...,\n",
      "      6.70955405e-02  -3.99457142e-02  -5.71887866e-02]\n",
      "   [  3.31883878e-02   6.58858276e-04  -2.06585154e-02 ...,\n",
      "      2.08436009e-02  -9.12853554e-02  -8.18057060e-02]]\n",
      "\n",
      "  [[ -7.63378525e-03   1.55109903e-02  -1.15533741e-02 ...,\n",
      "     -5.01372181e-02  -6.69736788e-02   5.09539805e-02]\n",
      "   [  7.50795081e-02   4.21349332e-02   2.90741641e-02 ...,\n",
      "     -7.18275597e-03   2.60143843e-03  -7.42897913e-02]\n",
      "   [  2.06508189e-02   1.78906433e-02   3.66849862e-02 ...,\n",
      "      5.40545210e-02  -9.10988227e-02   2.79414468e-02]]]\n",
      "\n",
      "\n",
      " [[[ -7.86106214e-02   3.27873752e-02  -5.11294883e-03 ...,\n",
      "     -3.52799594e-02   2.66635548e-02  -5.41712418e-02]\n",
      "   [ -7.74765313e-02  -1.62983686e-02   1.73226371e-02 ...,\n",
      "     -7.03241900e-02   8.09085220e-02  -7.55055714e-03]\n",
      "   [  1.31613389e-02  -1.11342389e-02   8.97813402e-03 ...,\n",
      "      8.10629874e-02  -3.21923643e-02  -1.24066016e-02]]\n",
      "\n",
      "  [[ -5.84259927e-02   6.14521317e-02   3.92950438e-02 ...,\n",
      "      2.85658017e-02  -6.50929511e-02   3.01197916e-02]\n",
      "   [  7.76550472e-02   7.61713833e-02   6.46311343e-02 ...,\n",
      "     -4.30897623e-02   7.57253775e-03   7.28843212e-02]\n",
      "   [ -1.92049947e-02  -2.71508656e-02  -4.80662882e-02 ...,\n",
      "     -8.13575014e-02  -2.13999189e-02   2.48844493e-02]]\n",
      "\n",
      "  [[  6.89367652e-02  -7.89781883e-02   5.30847982e-02 ...,\n",
      "      2.11603772e-02  -9.16993693e-02  -8.31933916e-02]\n",
      "   [  7.90655613e-02  -8.98681730e-02   3.29616033e-02 ...,\n",
      "     -3.66466939e-02   9.28689074e-03   6.81169005e-03]\n",
      "   [  1.20100956e-02  -2.55381111e-02  -8.12270716e-02 ...,\n",
      "     -3.66064049e-02   5.93070313e-02   3.41816396e-02]]\n",
      "\n",
      "  [[  7.74341524e-02   8.29772949e-02  -4.71866019e-02 ...,\n",
      "      5.14505841e-02  -3.84296104e-02  -2.19080616e-02]\n",
      "   [ -8.79645422e-02  -5.88281304e-02  -1.56821236e-02 ...,\n",
      "     -8.49571750e-02   1.37842186e-02   8.02439302e-02]\n",
      "   [  5.46576269e-02  -6.98615313e-02  -6.30017594e-02 ...,\n",
      "     -1.57327987e-02   1.51933823e-02   3.69443372e-02]]\n",
      "\n",
      "  [[  5.33439033e-02   3.72508131e-02  -3.14434022e-02 ...,\n",
      "     -7.69235119e-02  -6.58736974e-02   8.76636896e-03]\n",
      "   [  1.36446944e-02  -8.24402645e-02   6.80035427e-02 ...,\n",
      "      3.23954560e-02  -2.64104586e-02   8.76151100e-02]\n",
      "   [ -6.21410161e-02   9.32609066e-02  -4.20305505e-02 ...,\n",
      "     -7.68960193e-02   7.85049200e-02   6.57596141e-02]]]\n",
      "\n",
      "\n",
      " [[[ -7.76916891e-02   6.48620650e-02  -5.72100393e-02 ...,\n",
      "      6.43726736e-02   3.57941166e-02   8.68397430e-02]\n",
      "   [  4.58151288e-02  -3.05770263e-02   4.38465998e-02 ...,\n",
      "      6.66145459e-02  -4.81464602e-02  -6.05529698e-04]\n",
      "   [  4.78841588e-02   5.88322282e-02   3.15905660e-02 ...,\n",
      "      4.60806787e-02   8.22448805e-02   7.50583187e-02]]\n",
      "\n",
      "  [[ -1.86921954e-02  -1.67127755e-02   3.43300998e-02 ...,\n",
      "      3.70964445e-02  -8.16141590e-02   2.69079711e-02]\n",
      "   [ -7.42216632e-02  -3.98572907e-02  -7.66730458e-02 ...,\n",
      "     -9.10483822e-02  -1.51614072e-02  -2.10422091e-02]\n",
      "   [ -6.14712164e-02  -4.18679155e-02   8.29072110e-03 ...,\n",
      "      6.48445860e-02   6.62909895e-02   3.66383814e-03]]\n",
      "\n",
      "  [[  5.58014885e-02   2.33341418e-02   4.55100611e-02 ...,\n",
      "     -1.21445293e-02   6.08415082e-02  -4.99863289e-02]\n",
      "   [ -4.03707847e-04  -8.00590869e-03  -4.59010787e-02 ...,\n",
      "     -1.83454882e-02   6.51776344e-02   5.20451181e-03]\n",
      "   [ -9.09618288e-03  -7.88275003e-02  -4.33428027e-02 ...,\n",
      "     -3.45765017e-02  -5.17022684e-02   7.90852234e-02]]\n",
      "\n",
      "  [[ -4.09914069e-02  -8.22295472e-02   4.10878956e-02 ...,\n",
      "      7.56698921e-02  -4.03645448e-02   7.04153329e-02]\n",
      "   [ -6.93906397e-02   5.56598278e-03  -7.28612989e-02 ...,\n",
      "     -7.08713979e-02  -4.82563302e-03  -3.13495249e-02]\n",
      "   [ -1.57042965e-02   2.25803964e-02   5.09176441e-02 ...,\n",
      "      7.08424449e-02  -7.16111884e-02  -6.26539513e-02]]\n",
      "\n",
      "  [[ -6.27762899e-02   7.47085735e-02   2.41230801e-03 ...,\n",
      "     -5.64822815e-02  -5.62557578e-02   2.12380514e-02]\n",
      "   [  1.99862923e-02   2.27143932e-02  -3.74082825e-03 ...,\n",
      "     -8.14540610e-02   9.03979316e-02   9.04670283e-02]\n",
      "   [ -4.34053410e-03   8.12774450e-02   5.53791896e-02 ...,\n",
      "      7.01301396e-02   7.55820051e-02  -3.30043659e-02]]]\n",
      "\n",
      "\n",
      " [[[ -6.47368655e-02   1.89618592e-03   4.11334783e-02 ...,\n",
      "     -7.84439687e-03   9.48389247e-03  -8.70180409e-03]\n",
      "   [ -8.34021494e-02   7.26115853e-02  -6.95306212e-02 ...,\n",
      "      8.47051367e-02  -2.58887578e-02  -6.35692924e-02]\n",
      "   [ -4.14042771e-02  -5.64565696e-02   8.90377983e-02 ...,\n",
      "     -5.02954945e-02   5.01910858e-02   5.72830625e-03]]\n",
      "\n",
      "  [[  1.99929718e-02  -7.80284181e-02   1.20082346e-03 ...,\n",
      "     -2.11330876e-02   5.72814941e-02   8.38374421e-02]\n",
      "   [ -2.47523878e-02   5.11156209e-02  -6.09279945e-02 ...,\n",
      "      5.06804772e-02   8.47735107e-02  -2.41944678e-02]\n",
      "   [  6.44885898e-02  -8.00580308e-02   7.84188583e-02 ...,\n",
      "      2.34906431e-02   7.63881207e-02   8.25392902e-02]]\n",
      "\n",
      "  [[ -7.48307705e-02  -5.41956127e-02   1.04121733e-02 ...,\n",
      "      4.92637120e-02  -5.61523810e-02  -6.00526258e-02]\n",
      "   [ -4.56087068e-02  -3.16522755e-02  -7.88509920e-02 ...,\n",
      "      5.44881672e-02  -6.83502927e-02  -6.90842867e-02]\n",
      "   [ -4.92938831e-02   4.05209488e-04  -7.70300627e-02 ...,\n",
      "     -7.88871944e-02   3.47876810e-02  -1.14720305e-02]]\n",
      "\n",
      "  [[  4.56516556e-02   1.85225289e-02   7.26517756e-03 ...,\n",
      "     -5.22536412e-02   8.77650008e-02   4.97975275e-02]\n",
      "   [  4.41004075e-02   7.10880533e-02  -2.14809701e-02 ...,\n",
      "      3.83301340e-02   9.57230628e-02   4.07251017e-03]\n",
      "   [  2.08519567e-02   9.68644470e-02   4.89691086e-02 ...,\n",
      "     -6.52299821e-02   2.25203987e-02  -7.27724209e-02]]\n",
      "\n",
      "  [[  2.12656725e-02  -7.36669973e-02   7.27249309e-02 ...,\n",
      "     -2.34199986e-02   3.93083021e-02   1.66753456e-02]\n",
      "   [  1.58312097e-02   7.19308630e-02   3.85275856e-02 ...,\n",
      "      5.63390739e-02   7.87804369e-03   1.42978728e-02]\n",
      "   [  2.60691140e-02  -7.00227991e-02  -5.11080809e-02 ...,\n",
      "      5.45322262e-02  -6.62906514e-03  -1.93386376e-02]]]\n",
      "\n",
      "\n",
      " [[[ -2.90300250e-02   5.70918098e-02  -1.02968782e-03 ...,\n",
      "     -8.52964893e-02  -2.00981237e-02   8.84022936e-02]\n",
      "   [ -1.78645868e-02   5.09239249e-02   2.61510052e-02 ...,\n",
      "     -8.01231265e-02  -8.78091529e-02   7.08367601e-02]\n",
      "   [ -7.27317780e-02  -2.50064321e-02   6.01878911e-02 ...,\n",
      "      6.29433314e-04  -3.63766141e-02  -7.31425658e-02]]\n",
      "\n",
      "  [[  9.42605585e-02   6.02393672e-02   5.64749688e-02 ...,\n",
      "      2.99248975e-02  -3.04697081e-02  -6.30777255e-02]\n",
      "   [  1.72439236e-02   8.05128589e-02   1.78169981e-02 ...,\n",
      "     -9.43111442e-03  -3.54535393e-02  -7.56773353e-02]\n",
      "   [  1.69551894e-02   3.22561786e-02   5.47856838e-02 ...,\n",
      "     -4.27131392e-02   3.22807319e-02   6.20225184e-02]]\n",
      "\n",
      "  [[ -7.29862973e-02  -3.27654034e-02   3.59360166e-02 ...,\n",
      "      1.50811463e-03  -7.88812712e-02  -4.93628383e-02]\n",
      "   [  2.15229709e-02  -2.64325850e-02  -2.03813147e-02 ...,\n",
      "      4.12103646e-02   6.96366131e-02   6.26870543e-02]\n",
      "   [ -5.88534065e-02   6.39569312e-02   9.84612852e-03 ...,\n",
      "      7.58952051e-02  -4.84895743e-02  -3.31014656e-02]]\n",
      "\n",
      "  [[  6.23098500e-02  -1.18768299e-02   2.29995102e-02 ...,\n",
      "      7.52222538e-02  -6.83588311e-02   6.84693605e-02]\n",
      "   [ -7.52940923e-02  -7.65786767e-02  -8.84609595e-02 ...,\n",
      "     -7.78159648e-02  -5.60821332e-02  -7.53245130e-02]\n",
      "   [ -5.30451722e-02   5.97672835e-02   1.60786025e-02 ...,\n",
      "     -1.82403494e-02   5.62801808e-02  -3.41496840e-02]]\n",
      "\n",
      "  [[ -3.30438861e-03   8.53556618e-02   8.39330852e-02 ...,\n",
      "     -7.69458339e-02  -7.44634867e-02   2.20849887e-02]\n",
      "   [ -7.97313750e-02  -5.29618300e-02  -8.60752463e-02 ...,\n",
      "      6.41274899e-02   1.58687942e-02   2.94322297e-02]\n",
      "   [ -5.70640266e-02  -4.06603813e-02  -6.85452670e-02 ...,\n",
      "      2.18195338e-02   3.57593969e-02  -8.51629004e-02]]]]\n"
     ]
    }
   ],
   "source": [
    "train_valid(angles = y_merge, labels = X_merge, model_name='default', lr = 0.001,  data= 'default', load_stored= True, \n",
    "            load_model_path = './model/test.h5', \n",
    "            save_model_path = './model/test_patch.h5', save_best = False, no_epoch=3)"
   ]
  },
  {
   "cell_type": "code",
   "execution_count": null,
   "metadata": {
    "collapsed": true,
    "deletable": true,
    "editable": true
   },
   "outputs": [],
   "source": []
  }
 ],
 "metadata": {
  "kernelspec": {
   "display_name": "Python 3",
   "language": "python",
   "name": "python3"
  },
  "language_info": {
   "codemirror_mode": {
    "name": "ipython",
    "version": 3
   },
   "file_extension": ".py",
   "mimetype": "text/x-python",
   "name": "python",
   "nbconvert_exporter": "python",
   "pygments_lexer": "ipython3",
   "version": "3.5.2"
  },
  "widgets": {
   "state": {},
   "version": "1.1.2"
  }
 },
 "nbformat": 4,
 "nbformat_minor": 2
}
