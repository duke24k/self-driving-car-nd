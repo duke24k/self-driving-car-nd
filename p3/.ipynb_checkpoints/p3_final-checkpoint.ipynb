{
 "cells": [
  {
   "cell_type": "code",
   "execution_count": 1,
   "metadata": {
    "collapsed": false,
    "deletable": true,
    "editable": true
   },
   "outputs": [
    {
     "name": "stderr",
     "output_type": "stream",
     "text": [
      "Using TensorFlow backend.\n"
     ]
    }
   ],
   "source": [
    "%matplotlib inline\n",
    "\n",
    "import csv, random, numpy as np\n",
    "from keras.models import load_model, Sequential,model_from_json\n",
    "from keras.layers import Dense, Dropout, Flatten, Lambda\n",
    "from keras.layers.convolutional import Convolution2D, MaxPooling2D, Cropping2D\n",
    "from keras.preprocessing.image import img_to_array, load_img, flip_axis, random_shift\n",
    "from keras.layers.advanced_activations import ELU\n",
    "from keras.regularizers import l2, activity_l2\n",
    "from keras import optimizers\n",
    "\n",
    "from keras.callbacks import Callback,ModelCheckpoint\n",
    "\n",
    "from sklearn.model_selection import train_test_split\n",
    "from sklearn.utils import shuffle\n",
    "from math import floor\n",
    "\n",
    "import cv2\n",
    "from PIL import Image\n",
    "import json\n",
    "import matplotlib.pyplot as plt"
   ]
  },
  {
   "cell_type": "markdown",
   "metadata": {
    "deletable": true,
    "editable": true
   },
   "source": [
    "Define Model Architecture\n",
    "adam optimizer configuration is default on Keras document."
   ]
  },
  {
   "cell_type": "code",
   "execution_count": 2,
   "metadata": {
    "collapsed": false,
    "deletable": true,
    "editable": true
   },
   "outputs": [],
   "source": [
    "def model(load, shape, lr = 0.001, checkpoint=None):\n",
    "    \"\"\"Return a model from file or to train on.\"\"\"\n",
    "    \n",
    "   \n",
    "    \n",
    "    if load and checkpoint: return load_model(checkpoint)\n",
    "\n",
    "#    conv_layers1, conv_layers2, dense_layers = [24, 36, 48], [64, 64], [1024, 512]\n",
    "    dense_layers = [1024, 512]\n",
    "    \n",
    "    model = Sequential()\n",
    "    \n",
    "    model.add(Cropping2D(cropping=((40,20), (20,20)), input_shape=shape))\n",
    "    model.add(Lambda(lambda x: x / 255.0 - 0.5))\n",
    "\n",
    "    model.add(Convolution2D(24,5, 5,  border_mode = 'same',subsample=(1, 1)))\n",
    "    model.add(ELU())\n",
    "    model.add(MaxPooling2D(pool_size=(2, 2)))\n",
    "      \n",
    "    model.add(Convolution2D(32,5, 5,  border_mode = 'same', subsample=(1, 1),activation='elu'))\n",
    "    model.add(MaxPooling2D(pool_size=(2, 2)))\n",
    "\n",
    "    model.add(Convolution2D(48,3, 3, border_mode = 'same', subsample=(1, 1),activation='elu'))\n",
    "    model.add(MaxPooling2D(pool_size=(2, 2)))\n",
    "\n",
    "\n",
    "    model.add(Convolution2D(64, 3, 3,  border_mode = 'same', subsample=(1, 1), activation='elu'))\n",
    "    model.add(MaxPooling2D(pool_size=(2, 2)))\n",
    "\n",
    "    \n",
    "    model.add(Flatten())\n",
    "    for dl in dense_layers:\n",
    "        model.add(Dense(dl, activation='elu'))\n",
    "        model.add(Dropout(0.5))\n",
    "    model.add(Dense(1, activation='linear'))\n",
    "    \n",
    "    adam = optimizers.Adam(lr=lr, beta_1=0.9, beta_2=0.999, epsilon=1e-08, decay=0.0)\n",
    "    \n",
    "    model.compile(loss='mse', optimizer=adam)\n",
    "    \n",
    "    print(\"adam optimizer, lr is %s\" % lr)\n",
    "    \n",
    "    return model"
   ]
  },
  {
   "cell_type": "markdown",
   "metadata": {
    "deletable": true,
    "editable": true
   },
   "source": [
    "Define how to downsample \n",
    "Define steering angle offset for left and right side camera images.\n",
    "- 0.35"
   ]
  },
  {
   "cell_type": "code",
   "execution_count": 3,
   "metadata": {
    "collapsed": true,
    "deletable": true,
    "editable": true
   },
   "outputs": [],
   "source": [
    "def get_X_y(labels, device='linux', desc='left'):\n",
    "  \n",
    "    X, y = [], []\n",
    "    base = []\n",
    "\n",
    "    steering_offset = 0.35\n",
    "    with open(labels) as fin:\n",
    "        for center_img, left_img, right_img, steering_angle, _, _, speed in csv.reader(fin):\n",
    "            \n",
    "      \n",
    "                        left_img = left_img.split('/')[-1]\n",
    "                        right_img = right_img.split('/')[-1]\n",
    "                        center_img = center_img.split('/')[-1]\n",
    "        \n",
    "                        X += [left_img.strip()]\n",
    "                        y += [float(steering_angle) + steering_offset]\n",
    "                \n",
    "                        X += [right_img.strip()]\n",
    "                        y += [float(steering_angle) - steering_offset]\n",
    "                        \n",
    "                   \n",
    "                        X += [center_img.strip()]\n",
    "                        y += [float(steering_angle)]\n",
    "                        \n",
    "        \n",
    "                        shuffle(X, y)\n",
    "\n",
    "    return X, y"
   ]
  },
  {
   "cell_type": "markdown",
   "metadata": {
    "deletable": true,
    "editable": true
   },
   "source": [
    "Data\n",
    "- data_dir1 : data udacity provides for the project\n",
    "- t1_re : recovery data for the problem part of track1 on left turn. recored on linux\n",
    "- t1_rer : recovery data for the problem part of track1  on reverse, right, turn. recored on linux"
   ]
  },
  {
   "cell_type": "code",
   "execution_count": 4,
   "metadata": {
    "collapsed": true,
    "deletable": true,
    "editable": true
   },
   "outputs": [],
   "source": [
    "data_dir1 = ('../../../data2/driving_log.csv','linux','left')\n",
    "#t1_re=('../t1_re/driving_log.csv','linux','re_left')\n",
    "#t1_rer=('../t1_rer/driving_log.csv','linux','re_right')"
   ]
  },
  {
   "cell_type": "code",
   "execution_count": 5,
   "metadata": {
    "collapsed": true,
    "deletable": true,
    "editable": true
   },
   "outputs": [],
   "source": [
    "def merge_data(dir1, dir2, dir3):\n",
    "\n",
    "    X1, y1 = get_X_y(dir1[0], device=dir1[1], desc=dir1[2])\n",
    "    \n",
    "    X2, y2 = get_X_y(dir2[0], device=dir2[1], desc=dir2[2])\n",
    "    \n",
    "    X3, y3 = get_X_y(dir3[0], device=dir3[1], desc=dir3[2])\n",
    "    \n",
    "   \n",
    "    X = X1 + X2 + X3\n",
    "    y =  y1 + y2 + y3\n",
    "    \n",
    "\n",
    "    return X,y\n",
    "\n",
    "def merge_udacity_data(dir1):\n",
    "\n",
    "    X1, y1 = get_X_y(dir1[0], device=dir1[1], desc=dir1[2])\n",
    "      \n",
    "    X = X1 \n",
    "    y =  y1 \n",
    "    \n",
    "\n",
    "    return X,y"
   ]
  },
  {
   "cell_type": "code",
   "execution_count": 6,
   "metadata": {
    "collapsed": false,
    "deletable": true,
    "editable": true
   },
   "outputs": [
    {
     "name": "stdout",
     "output_type": "stream",
     "text": [
      "total data points 24108 \n",
      "mean value of the data 0.00406964406483 \n"
     ]
    }
   ],
   "source": [
    "#X_raw, y_raw = merge_data(data_dir1, t1_re, t1_rer)\n",
    "\n",
    "X_raw, y_raw = merge_udacity_data(data_dir1)\n",
    "    \n",
    "print(\"total data points %s \" % len(y_raw))\n",
    "\n",
    "print(\"mean value of the data %s \" %  np.mean(np.array(y_raw)))"
   ]
  },
  {
   "cell_type": "markdown",
   "metadata": {
    "deletable": true,
    "editable": true
   },
   "source": [
    "subsampling data.\n",
    "https://github.com/jeremy-shannon/CarND-Behavioral-Cloning-Project/blob/master/model.py"
   ]
  },
  {
   "cell_type": "code",
   "execution_count": 7,
   "metadata": {
    "collapsed": false,
    "deletable": true,
    "editable": true
   },
   "outputs": [
    {
     "data": {
      "text/plain": [
       "<matplotlib.text.Text at 0x7f3eddafa780>"
      ]
     },
     "execution_count": 7,
     "metadata": {},
     "output_type": "execute_result"
    },
    {
     "data": {
      "image/png": "[encoded data removed]",
      "text/plain": [
       "<matplotlib.figure.Figure at 0x7f3edfdb6278>"
      ]
     },
     "metadata": {},
     "output_type": "display_data"
    }
   ],
   "source": [
    "y_np = np.array(y_raw)\n",
    "num_bins = 23\n",
    "avg_samples_per_bin = len(y_np)/num_bins\n",
    "\n",
    "hist, bins = np.histogram(y_np, num_bins)\n",
    "width = 0.7 * (bins[1] - bins[0])\n",
    "center = (bins[:-1] + bins[1:]) / 2\n",
    "plt.bar(center, hist, align='center', width=width)\n",
    "plt.plot((np.min(y_np), np.max(y_np)), (avg_samples_per_bin, avg_samples_per_bin), 'k-')\n",
    "\n",
    "plt.title('total data distribution, 23bins')"
   ]
  },
  {
   "cell_type": "code",
   "execution_count": 8,
   "metadata": {
    "collapsed": false,
    "deletable": true,
    "editable": true
   },
   "outputs": [
    {
     "name": "stdout",
     "output_type": "stream",
     "text": [
      "[1.0, 1.0, 1.0, 1.0, 1.0, 1.0, 1.0, 0.5690412122928763, 0.0961980463512737, 0.40880417825408666, 0.46215780998389688, 0.097305413390593967, 0.40976306217493286, 0.43277205327971852, 0.10039980009995003, 0.53369343841317629, 1.0, 1.0, 1.0, 1.0, 1.0, 1.0, 1.0]\n"
     ]
    }
   ],
   "source": [
    "def make_keep_probs(target):\n",
    "    \n",
    "    keep_probs = []\n",
    "    \n",
    "    for i in range(num_bins):\n",
    "        if hist[i] < target:\n",
    "            keep_probs.append(1.)\n",
    "        else:\n",
    "            keep_probs.append(1./(hist[i]/target))\n",
    "            \n",
    "    return keep_probs\n",
    "\n",
    "keep_probs = make_keep_probs(avg_samples_per_bin * .5)\n",
    "\n",
    "print(keep_probs)"
   ]
  },
  {
   "cell_type": "code",
   "execution_count": 9,
   "metadata": {
    "collapsed": true,
    "deletable": true,
    "editable": true
   },
   "outputs": [],
   "source": [
    "def make_remove_list(angles, keep_probs, left_cut = 2.5, right_cut = 2.5, center_cut= 0.7):\n",
    "    \n",
    "    remove_list = []\n",
    "    for i in range(len(angles)):\n",
    "        for j in range(num_bins):\n",
    "            if angles[i] > bins[j] and angles[i] <= bins[j+1]:\n",
    "            # delete from X and y with probability 1 - keep_probs[j]\n",
    "            \n",
    "                if j > (num_bins/2 - left_cut) and j < (num_bins/2 + right_cut):\n",
    "                \n",
    "                    if np.random.rand() > (keep_probs[j] * center_cut) :\n",
    "                    \n",
    "                        remove_list.append(i)\n",
    "            \n",
    "                else:\n",
    "            \n",
    "                    if np.random.rand() > keep_probs[j]:\n",
    "                        remove_list.append(i)\n",
    "    \n",
    "    return remove_list"
   ]
  },
  {
   "cell_type": "code",
   "execution_count": 10,
   "metadata": {
    "collapsed": false,
    "deletable": true,
    "editable": true
   },
   "outputs": [
    {
     "name": "stdout",
     "output_type": "stream",
     "text": [
      "0.00406964406483\n",
      "0.313471474417\n"
     ]
    },
    {
     "data": {
      "image/png": "[encoded data removed]",
      "text/plain": [
       "<matplotlib.figure.Figure at 0x7f3f445c4ac8>"
      ]
     },
     "metadata": {},
     "output_type": "display_data"
    }
   ],
   "source": [
    "num_bins = 23\n",
    "avg_samples_per_bin = len(y_np)/num_bins\n",
    "hist, bins = np.histogram(y_np, num_bins)\n",
    "width = 0.7 * (bins[1] - bins[0])\n",
    "center = (bins[:-1] + bins[1:]) / 2\n",
    "plt.bar(center, hist, align='center', width=width)\n",
    "plt.plot((np.min(y_np), np.max(y_np)), (avg_samples_per_bin, avg_samples_per_bin), 'k-')\n",
    "\n",
    "print(np.mean(y_np))\n",
    "print(np.std(y_np))"
   ]
  },
  {
   "cell_type": "code",
   "execution_count": 11,
   "metadata": {
    "collapsed": false,
    "deletable": true,
    "editable": true
   },
   "outputs": [],
   "source": [
    "keep_probs = make_keep_probs(avg_samples_per_bin * .5)\n",
    "remove_list = make_remove_list(angles = y_np, keep_probs= keep_probs, left_cut = 2.5, right_cut = 2.5)\n",
    "\n",
    "angles_np = np.delete(y_np, remove_list)\n",
    "\n",
    "X_np = np.array(X_raw)\n",
    "images_np = np.delete(X_np, remove_list)"
   ]
  },
  {
   "cell_type": "code",
   "execution_count": 12,
   "metadata": {
    "collapsed": true,
    "deletable": true,
    "editable": true
   },
   "outputs": [],
   "source": [
    "angles = angles_np.tolist()\n",
    "images = images_np.tolist()"
   ]
  },
  {
   "cell_type": "code",
   "execution_count": 13,
   "metadata": {
    "collapsed": false
   },
   "outputs": [
    {
     "name": "stdout",
     "output_type": "stream",
     "text": [
      "-0.0166484662112\n"
     ]
    },
    {
     "data": {
      "image/png": "[encoded data removed]",
      "text/plain": [
       "<matplotlib.figure.Figure at 0x7f3edda6b940>"
      ]
     },
     "metadata": {},
     "output_type": "display_data"
    }
   ],
   "source": [
    "num_bins = 23\n",
    "\n",
    "hist, bins = np.histogram(angles, num_bins)\n",
    "width = 0.7 * (bins[1] - bins[0])\n",
    "center = (bins[:-1] + bins[1:]) / 2\n",
    "plt.bar(center, hist, align='center', width=width)\n",
    "\n",
    "\n",
    "print(np.mean(angles))"
   ]
  },
  {
   "cell_type": "markdown",
   "metadata": {
    "deletable": true,
    "editable": true
   },
   "source": [
    "Define how to do data augmentation\n",
    "- random_darken\n",
    "- vertical shift\n",
    "- horizontal flip"
   ]
  },
  {
   "cell_type": "code",
   "execution_count": 14,
   "metadata": {
    "collapsed": true,
    "deletable": true,
    "editable": true
   },
   "outputs": [],
   "source": [
    "def random_darken(image):\n",
    "    \"\"\"Given an image (from Image.open), randomly darken a part of it.\"\"\"\n",
    "    w, h = image.size\n",
    "\n",
    "    # Make a random box.\n",
    "    x1, y1 = random.randint(0, w), random.randint(0, h)\n",
    "    x2, y2 = random.randint(x1, w), random.randint(y1, h)\n",
    "\n",
    "    # Loop through every pixel of our box (*GASP*) and darken.\n",
    "    for i in range(x1, x2):\n",
    "        for j in range(y1, y2):\n",
    "            new_value = tuple([int(x * 0.5) for x in image.getpixel((i, j))])\n",
    "            image.putpixel((i, j), new_value)\n",
    "    return image"
   ]
  },
  {
   "cell_type": "code",
   "execution_count": 15,
   "metadata": {
    "collapsed": false,
    "deletable": true,
    "editable": true
   },
   "outputs": [],
   "source": [
    "def split_data(data, label, split = 0.3):\n",
    "    \n",
    "    train_samples, validation_samples, train_labels, validation_labels = train_test_split(\n",
    "    data,\n",
    "    label,\n",
    "    test_size=split,\n",
    "    random_state=832289)\n",
    "    \n",
    "    return train_samples, validation_samples, train_labels, validation_labels"
   ]
  },
  {
   "cell_type": "code",
   "execution_count": 16,
   "metadata": {
    "collapsed": true,
    "deletable": true,
    "editable": true
   },
   "outputs": [],
   "source": [
    "def process_image_test(image, steering_angle, augment=True, shape=(160,320)):\n",
    "    \"\"\"Process and augment an image.\"\"\"\n",
    "\n",
    "    pil_image = Image.fromarray(image)\n",
    "\n",
    "    if augment and random.random() < 0.5:\n",
    "        pil_image = random_darken(pil_image)  # before numpy'd\n",
    "\n",
    "    image = img_to_array(pil_image)\n",
    "        \n",
    "    if augment:\n",
    "        image = random_shift(image, 0.0, 0.2, 0, 1, 2)  # only vertical\n",
    "        if random.random() < 0.5:\n",
    "            image = flip_axis(image, 1)\n",
    "            steering_angle = -steering_angle\n",
    "\n",
    "    return image, steering_angle"
   ]
  },
  {
   "cell_type": "markdown",
   "metadata": {
    "deletable": true,
    "editable": true
   },
   "source": [
    "Define generator \n",
    "\n",
    "- generator : train generator\n",
    "- generator_valid : validation generator"
   ]
  },
  {
   "cell_type": "code",
   "execution_count": 17,
   "metadata": {
    "collapsed": false,
    "deletable": true,
    "editable": true
   },
   "outputs": [],
   "source": [
    "# image directory, path = '../merge_image/image/' "
   ]
  },
  {
   "cell_type": "code",
   "execution_count": 18,
   "metadata": {
    "collapsed": false,
    "deletable": true,
    "editable": true
   },
   "outputs": [],
   "source": [
    "image_path = '../../../merge_image/image/'\n",
    "\n",
    "def generator(samples, labels, batch_size=128, model='default'):\n",
    "    num_samples = len(samples)\n",
    "    while 1: # Loop forever so the generator never terminates\n",
    "        shuffle(samples, labels)\n",
    "        \n",
    "        print('\\n training batch shuffled')\n",
    "        \n",
    "        for offset in range(0, num_samples, batch_size):\n",
    "           \n",
    "        #    print(type(samples))\n",
    "        #    print(len(samples))\n",
    "            batch_samples = samples[offset:offset+batch_size]\n",
    "            batch_labels = labels[offset:offset+batch_size]\n",
    "\n",
    "            images = []\n",
    "            angles = []\n",
    "            for idx, val in enumerate(batch_samples):\n",
    "\n",
    "        \n",
    "                name = batch_samples[idx]\n",
    "                \n",
    "                path = image_path + name \n",
    "            \n",
    "          #      raw_image = cv2.imread(path)\n",
    "        \n",
    "                srcBGR = cv2.imread(path)\n",
    "          #      destRGB = cv2.cvtColor(srcBGR, cv2.COLOR_BGR2RGB)\n",
    "               \n",
    "                new_img = cv2.cvtColor(srcBGR , cv2.COLOR_BGR2YUV)\n",
    "                    \n",
    "                raw_angle = float(batch_labels[idx])\n",
    "                \n",
    "                input_image, input_angle = process_image_test(new_img, raw_angle)\n",
    "                \n",
    "                images.append(input_image)\n",
    "                angles.append(input_angle)\n",
    "                \n",
    "               \n",
    "            # trim image to only see section with road\n",
    "            X_train = np.array(images)\n",
    "            y_train = np.array(angles)\n",
    "            yield shuffle(X_train, y_train)\n",
    "            \n",
    "def generator_valid(samples, labels, batch_size=128, model='default'):\n",
    "    num_samples = len(samples)\n",
    "    while 1: # Loop forever so the generator never terminates\n",
    "        shuffle(samples, labels)\n",
    "        for offset in range(0, num_samples, batch_size):\n",
    "            batch_samples = samples[offset:offset+batch_size]\n",
    "            batch_labels = labels[offset:offset+batch_size]\n",
    "\n",
    "            images = []\n",
    "            angles = []\n",
    "            for idx, val in enumerate(batch_samples):\n",
    "        \n",
    "                name = batch_samples[idx]\n",
    "                \n",
    "                path = image_path + name \n",
    "            \n",
    "                srcBGR = cv2.imread(path)\n",
    "        #        destRGB = cv2.cvtColor(srcBGR, cv2.COLOR_BGR2RGB)\n",
    "                \n",
    "                new_img = cv2.cvtColor(srcBGR , cv2.COLOR_BGR2YUV)\n",
    "                          \n",
    "                raw_angle = float(batch_labels[idx])\n",
    "                \n",
    "                input_image, input_angle = process_image_test(new_img, raw_angle)\n",
    "                \n",
    "                images.append(input_image)\n",
    "                angles.append(input_angle)\n",
    "                \n",
    "            # trim image to only see section with road\n",
    "            X_train = np.array(images)\n",
    "            y_train = np.array(angles)\n",
    "            yield shuffle(X_train, y_train)"
   ]
  },
  {
   "cell_type": "markdown",
   "metadata": {
    "deletable": true,
    "editable": true
   },
   "source": [
    "train_valid \n",
    "- angles : streering angles, list \n",
    "- labels : image file names, list\n",
    "- model_name : model name\n",
    "  ,String\n",
    "- load_stored : whether to restore saved model or not\n",
    "  ,True or False\n",
    "- load_model_path : file path to save model\n",
    "  ,String\n",
    "- save_best : whether to save model based on Keras, ModelCheckpoint class, monitor parameter value. \n",
    "  ,True or False\n",
    "- no_epoch : number of epochs"
   ]
  },
  {
   "cell_type": "code",
   "execution_count": 19,
   "metadata": {
    "collapsed": true,
    "deletable": true,
    "editable": true
   },
   "outputs": [],
   "source": [
    "def train_valid(angles, labels, model_name='default', data='default', lr=0.001, load_stored= False, load_model_path = None, save_best = False, no_epoch=5):\n",
    "    \"\"\"Load our network and our data, fit the model, save it.\"\"\"\n",
    "    \n",
    "    # select 'load model' or just 'new model'\n",
    "    \n",
    "    print(\"load_model_path is %s \" % load_model_path)\n",
    "    \n",
    "   \n",
    "    if(load_stored):\n",
    "        \n",
    "        net = load_model(load_model_path)\n",
    "        \n",
    "    else:\n",
    "        \n",
    "        if(model_name=='nvidia'):\n",
    "            net = nvidia(load=False, shape=(160, 320, 3), lr=lr)\n",
    "        \n",
    "        elif(model_name=='default'):\n",
    "            net = model(load=False, shape=(160, 320, 3), lr=lr)\n",
    "\n",
    "    \n",
    "    # select path to save model based on each model\n",
    "    if(model_name=='default'):\n",
    "        \n",
    "        save_path = load_model_path\n",
    "\n",
    "    if(model_name=='nvidia'):\n",
    "        \n",
    "        save_path = load_model_path\n",
    "    \n",
    "        \n",
    "    # select data directory \n",
    "    if(data=='default'):\n",
    "\n",
    "        X_merge = labels\n",
    "        y_merge = angles\n",
    "        pass\n",
    "    \n",
    "\n",
    "    elif(data=='recovery'):    \n",
    "        pass\n",
    "#        X_merge, y_merge = merge_data3(data_dir1,t1_re,t1_rer)\n",
    " \n",
    "\n",
    "    \n",
    "    # shuffle labels\n",
    "    X_merge,y_merge = shuffle(X_merge, y_merge)\n",
    "    \n",
    "\n",
    "    # split data\n",
    "    train_samples, validation_samples, train_labels, validation_labels = split_data(X_merge,y_merge,split = 0.1)\n",
    "  \n",
    "    \n",
    "    # define generators for training and validation\n",
    "    # image label should not be dupilcated in the label file for thread safety.\n",
    "    \n",
    "    train_generator = generator(train_samples, train_labels, batch_size=256, model=model_name)\n",
    "    validation_generator = generator_valid(validation_samples, validation_labels, batch_size=256, model=model_name)\n",
    "    \n",
    "    \n",
    "    # define whether to use checkpointer or not\n",
    "    \n",
    "    if(save_best):\n",
    "    \n",
    "        checkpointer = ModelCheckpoint(filepath=load_model_path, monitor='loss', verbose=1, \n",
    "                                   save_best_only=True,save_weights_only=False)\n",
    "        callbacks_list = [checkpointer]\n",
    "        \n",
    "        net.fit_generator(train_generator, samples_per_epoch=len(train_samples), validation_data=validation_generator, \n",
    "            nb_val_samples=len(validation_samples), nb_epoch= no_epoch,callbacks=callbacks_list)\n",
    "        \n",
    "    else:\n",
    "        \n",
    "        net.fit_generator(train_generator, samples_per_epoch=len(train_samples), validation_data=validation_generator, \n",
    "            nb_val_samples=len(validation_samples), nb_epoch= no_epoch)\n",
    "        \n",
    "        net.save(load_model_path)\n",
    "        print(\"Saved model to disk\")\n",
    "       \n",
    "    \n",
    "    # model summary for debugging\n",
    "    net.summary()\n",
    "    \n",
    "    # print weights for debugging\n",
    "    weights_test = net.get_weights()\n",
    "    \n",
    "    print(len(weights_test))\n",
    "    print((np.array(weights_test))[0])"
   ]
  },
  {
   "cell_type": "code",
   "execution_count": 20,
   "metadata": {
    "collapsed": false,
    "deletable": true,
    "editable": true,
    "scrolled": true
   },
   "outputs": [
    {
     "name": "stdout",
     "output_type": "stream",
     "text": [
      "load_model_path is ./model/test.h5 \n",
      "adam optimizer, lr is 0.001\n",
      "\n",
      " training batch shuffledEpoch 1/2\n",
      "\n"
     ]
    },
    {
     "name": "stderr",
     "output_type": "stream",
     "text": [
      "Exception in thread Thread-4:\n",
      "Traceback (most recent call last):\n",
      "  File \"/root/miniconda3/envs/carnd-term1/lib/python3.5/threading.py\", line 914, in _bootstrap_inner\n",
      "    self.run()\n",
      "  File \"/root/miniconda3/envs/carnd-term1/lib/python3.5/threading.py\", line 862, in run\n",
      "    self._target(*self._args, **self._kwargs)\n",
      "  File \"/root/miniconda3/envs/carnd-term1/lib/python3.5/site-packages/keras/engine/training.py\", line 429, in data_generator_task\n",
      "    generator_output = next(self._generator)\n",
      "  File \"<ipython-input-18-b28b0dda8c0d>\", line 31, in generator\n",
      "    new_img = cv2.cvtColor(srcBGR , cv2.COLOR_BGR2YUV)\n",
      "cv2.error: /home/travis/miniconda/conda-bld/conda_1486587071158/work/opencv-3.1.0/modules/imgproc/src/color.cpp:8059: error: (-215) scn == 3 || scn == 4 in function cvtColor\n",
      "\n",
      "\n"
     ]
    },
    {
     "ename": "ValueError",
     "evalue": "output of generator should be a tuple (x, y, sample_weight) or (x, y). Found: None",
     "output_type": "error",
     "traceback": [
      "\u001b[0;31m---------------------------------------------------------------------------\u001b[0m",
      "\u001b[0;31mValueError\u001b[0m                                Traceback (most recent call last)",
      "\u001b[0;32m<ipython-input-20-75deded6ca22>\u001b[0m in \u001b[0;36m<module>\u001b[0;34m()\u001b[0m\n\u001b[0;32m----> 1\u001b[0;31m \u001b[0mtrain_valid\u001b[0m\u001b[0;34m(\u001b[0m\u001b[0mangles\u001b[0m \u001b[0;34m=\u001b[0m \u001b[0mangles\u001b[0m\u001b[0;34m,\u001b[0m \u001b[0mlabels\u001b[0m \u001b[0;34m=\u001b[0m \u001b[0mimages\u001b[0m\u001b[0;34m,\u001b[0m \u001b[0mmodel_name\u001b[0m\u001b[0;34m=\u001b[0m\u001b[0;34m'default'\u001b[0m\u001b[0;34m,\u001b[0m \u001b[0mlr\u001b[0m \u001b[0;34m=\u001b[0m \u001b[0;36m0.001\u001b[0m\u001b[0;34m,\u001b[0m \u001b[0mdata\u001b[0m\u001b[0;34m=\u001b[0m \u001b[0;34m'default'\u001b[0m\u001b[0;34m,\u001b[0m \u001b[0mload_stored\u001b[0m\u001b[0;34m=\u001b[0m \u001b[0;32mFalse\u001b[0m\u001b[0;34m,\u001b[0m \u001b[0mload_model_path\u001b[0m \u001b[0;34m=\u001b[0m \u001b[0;34m'./model/test.h5'\u001b[0m\u001b[0;34m,\u001b[0m \u001b[0msave_best\u001b[0m \u001b[0;34m=\u001b[0m \u001b[0;32mFalse\u001b[0m\u001b[0;34m,\u001b[0m \u001b[0mno_epoch\u001b[0m\u001b[0;34m=\u001b[0m\u001b[0;36m2\u001b[0m\u001b[0;34m)\u001b[0m\u001b[0;34m\u001b[0m\u001b[0m\n\u001b[0m",
      "\u001b[0;32m<ipython-input-19-d85da238f8fc>\u001b[0m in \u001b[0;36mtrain_valid\u001b[0;34m(angles, labels, model_name, data, lr, load_stored, load_model_path, save_best, no_epoch)\u001b[0m\n\u001b[1;32m     73\u001b[0m \u001b[0;34m\u001b[0m\u001b[0m\n\u001b[1;32m     74\u001b[0m         net.fit_generator(train_generator, samples_per_epoch=len(train_samples), validation_data=validation_generator, \n\u001b[0;32m---> 75\u001b[0;31m             nb_val_samples=len(validation_samples), nb_epoch= no_epoch)\n\u001b[0m\u001b[1;32m     76\u001b[0m \u001b[0;34m\u001b[0m\u001b[0m\n\u001b[1;32m     77\u001b[0m         \u001b[0mnet\u001b[0m\u001b[0;34m.\u001b[0m\u001b[0msave\u001b[0m\u001b[0;34m(\u001b[0m\u001b[0mload_model_path\u001b[0m\u001b[0;34m)\u001b[0m\u001b[0;34m\u001b[0m\u001b[0m\n",
      "\u001b[0;32m/root/miniconda3/envs/carnd-term1/lib/python3.5/site-packages/keras/models.py\u001b[0m in \u001b[0;36mfit_generator\u001b[0;34m(self, generator, samples_per_epoch, nb_epoch, verbose, callbacks, validation_data, nb_val_samples, class_weight, max_q_size, nb_worker, pickle_safe, initial_epoch, **kwargs)\u001b[0m\n\u001b[1;32m    933\u001b[0m                                         \u001b[0mnb_worker\u001b[0m\u001b[0;34m=\u001b[0m\u001b[0mnb_worker\u001b[0m\u001b[0;34m,\u001b[0m\u001b[0;34m\u001b[0m\u001b[0m\n\u001b[1;32m    934\u001b[0m                                         \u001b[0mpickle_safe\u001b[0m\u001b[0;34m=\u001b[0m\u001b[0mpickle_safe\u001b[0m\u001b[0;34m,\u001b[0m\u001b[0;34m\u001b[0m\u001b[0m\n\u001b[0;32m--> 935\u001b[0;31m                                         initial_epoch=initial_epoch)\n\u001b[0m\u001b[1;32m    936\u001b[0m \u001b[0;34m\u001b[0m\u001b[0m\n\u001b[1;32m    937\u001b[0m     def evaluate_generator(self, generator, val_samples,\n",
      "\u001b[0;32m/root/miniconda3/envs/carnd-term1/lib/python3.5/site-packages/keras/engine/training.py\u001b[0m in \u001b[0;36mfit_generator\u001b[0;34m(self, generator, samples_per_epoch, nb_epoch, verbose, callbacks, validation_data, nb_val_samples, class_weight, max_q_size, nb_worker, pickle_safe, initial_epoch)\u001b[0m\n\u001b[1;32m   1530\u001b[0m                                          \u001b[0;34m'(x, y, sample_weight) '\u001b[0m\u001b[0;34m\u001b[0m\u001b[0m\n\u001b[1;32m   1531\u001b[0m                                          \u001b[0;34m'or (x, y). Found: '\u001b[0m \u001b[0;34m+\u001b[0m\u001b[0;34m\u001b[0m\u001b[0m\n\u001b[0;32m-> 1532\u001b[0;31m                                          str(generator_output))\n\u001b[0m\u001b[1;32m   1533\u001b[0m                     \u001b[0;32mif\u001b[0m \u001b[0mlen\u001b[0m\u001b[0;34m(\u001b[0m\u001b[0mgenerator_output\u001b[0m\u001b[0;34m)\u001b[0m \u001b[0;34m==\u001b[0m \u001b[0;36m2\u001b[0m\u001b[0;34m:\u001b[0m\u001b[0;34m\u001b[0m\u001b[0m\n\u001b[1;32m   1534\u001b[0m                         \u001b[0mx\u001b[0m\u001b[0;34m,\u001b[0m \u001b[0my\u001b[0m \u001b[0;34m=\u001b[0m \u001b[0mgenerator_output\u001b[0m\u001b[0;34m\u001b[0m\u001b[0m\n",
      "\u001b[0;31mValueError\u001b[0m: output of generator should be a tuple (x, y, sample_weight) or (x, y). Found: None"
     ]
    }
   ],
   "source": [
    "train_valid(angles = angles, labels = images, model_name='default', lr = 0.001, data= 'default', load_stored= False, load_model_path = './model/test.h5', save_best = False, no_epoch=2)"
   ]
  },
  {
   "cell_type": "code",
   "execution_count": null,
   "metadata": {
    "collapsed": false,
    "deletable": true,
    "editable": true
   },
   "outputs": [],
   "source": [
    "#train_valid(angles = y_merge, labels = X_merge, model_name='default', lr = 0.001,  data= 'default', load_stored= True, load_model_path = './model/model_v4.h5', save_best = False, no_epoch=2)"
   ]
  },
  {
   "cell_type": "code",
   "execution_count": null,
   "metadata": {
    "collapsed": false,
    "deletable": true,
    "editable": true
   },
   "outputs": [],
   "source": [
    "#train_valid(model_name='default_rgb',load_stored= False, load_model_path = './model/model_rgb.h5', save_best = False, no_epoch=15)"
   ]
  }
 ],
 "metadata": {
  "kernelspec": {
   "display_name": "Python 3",
   "language": "python",
   "name": "python3"
  },
  "language_info": {
   "codemirror_mode": {
    "name": "ipython",
    "version": 3
   },
   "file_extension": ".py",
   "mimetype": "text/x-python",
   "name": "python",
   "nbconvert_exporter": "python",
   "pygments_lexer": "ipython3",
   "version": "3.5.2"
  },
  "widgets": {
   "state": {},
   "version": "1.1.2"
  }
 },
 "nbformat": 4,
 "nbformat_minor": 2
}
