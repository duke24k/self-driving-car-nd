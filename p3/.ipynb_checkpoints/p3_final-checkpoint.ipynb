{
 "cells": [
  {
   "cell_type": "code",
   "execution_count": 1,
   "metadata": {
    "collapsed": false,
    "deletable": true,
    "editable": true
   },
   "outputs": [
    {
     "name": "stderr",
     "output_type": "stream",
     "text": [
      "Using TensorFlow backend.\n"
     ]
    }
   ],
   "source": [
    "%matplotlib inline\n",
    "\n",
    "import csv, random, numpy as np\n",
    "from keras.models import load_model, Sequential,model_from_json\n",
    "from keras.layers import Dense, Dropout, Flatten, Lambda\n",
    "from keras.layers.convolutional import Convolution2D, MaxPooling2D, Cropping2D\n",
    "from keras.preprocessing.image import img_to_array, load_img, flip_axis, random_shift\n",
    "from keras.layers.advanced_activations import ELU\n",
    "from keras.regularizers import l2, activity_l2\n",
    "from keras import optimizers\n",
    "\n",
    "from keras.callbacks import Callback,ModelCheckpoint\n",
    "\n",
    "from sklearn.model_selection import train_test_split\n",
    "from sklearn.utils import shuffle\n",
    "from math import floor\n",
    "\n",
    "import cv2\n",
    "from PIL import Image\n",
    "import json\n",
    "import matplotlib.pyplot as plt"
   ]
  },
  {
   "cell_type": "markdown",
   "metadata": {
    "deletable": true,
    "editable": true
   },
   "source": [
    "Define Model Architecture\n",
    "adam optimizer configuration is default on Keras document."
   ]
  },
  {
   "cell_type": "code",
   "execution_count": 2,
   "metadata": {
    "collapsed": false,
    "deletable": true,
    "editable": true
   },
   "outputs": [],
   "source": [
    "def model(load, shape, lr = 0.001, checkpoint=None):\n",
    "    \"\"\"Return a model from file or to train on.\"\"\"\n",
    "    \n",
    "   \n",
    "    \n",
    "    if load and checkpoint: return load_model(checkpoint)\n",
    "\n",
    "#    conv_layers1, conv_layers2, dense_layers = [24, 36, 48], [64, 64], [1024, 512]\n",
    "    dense_layers = [1024, 512]\n",
    "    \n",
    "    model = Sequential()\n",
    "    \n",
    "    model.add(Cropping2D(cropping=((40,20), (20,20)), input_shape=shape))\n",
    "    model.add(Lambda(lambda x: x / 255.0 - 0.5))\n",
    "\n",
    "    model.add(Convolution2D(24,5, 5,  border_mode = 'same',subsample=(1, 1)))\n",
    "    model.add(ELU())\n",
    "    model.add(MaxPooling2D(pool_size=(2, 2)))\n",
    "      \n",
    "    model.add(Convolution2D(32,5, 5,  border_mode = 'same', subsample=(1, 1),activation='elu'))\n",
    "    model.add(MaxPooling2D(pool_size=(2, 2)))\n",
    "\n",
    "    model.add(Convolution2D(48,3, 3, border_mode = 'same', subsample=(1, 1),activation='elu'))\n",
    "    model.add(MaxPooling2D(pool_size=(2, 2)))\n",
    "\n",
    "\n",
    "    model.add(Convolution2D(64, 3, 3,  border_mode = 'same', subsample=(1, 1), activation='elu'))\n",
    "    model.add(MaxPooling2D(pool_size=(2, 2)))\n",
    "\n",
    "    \n",
    "    model.add(Flatten())\n",
    "    for dl in dense_layers:\n",
    "        model.add(Dense(dl, activation='elu'))\n",
    "        model.add(Dropout(0.5))\n",
    "    model.add(Dense(1, activation='linear'))\n",
    "    \n",
    "    adam = optimizers.Adam(lr=lr, beta_1=0.9, beta_2=0.999, epsilon=1e-08, decay=0.0)\n",
    "    \n",
    "    model.compile(loss='mse', optimizer=adam)\n",
    "    \n",
    "    print(\"adam optimizer, lr is %s\" % lr)\n",
    "    \n",
    "    return model"
   ]
  },
  {
   "cell_type": "markdown",
   "metadata": {
    "deletable": true,
    "editable": true
   },
   "source": [
    "Define how to downsample \n",
    "Define steering angle offset for left and right side camera images.\n",
    "- 0.35"
   ]
  },
  {
   "cell_type": "code",
   "execution_count": 3,
   "metadata": {
    "collapsed": true,
    "deletable": true,
    "editable": true
   },
   "outputs": [],
   "source": [
    "def get_X_y(labels, device='linux', desc='left'):\n",
    "  \n",
    "    X, y = [], []\n",
    "    base = []\n",
    "\n",
    "    steering_offset = 0.35\n",
    "    with open(labels) as fin:\n",
    "        for center_img, left_img, right_img, steering_angle, _, _, speed in csv.reader(fin):\n",
    "            \n",
    "      \n",
    "                        left_img = left_img.split('/')[-1]\n",
    "                        right_img = right_img.split('/')[-1]\n",
    "                        center_img = center_img.split('/')[-1]\n",
    "        \n",
    "                        X += [left_img.strip()]\n",
    "                        y += [float(steering_angle) + steering_offset]\n",
    "                \n",
    "                        X += [right_img.strip()]\n",
    "                        y += [float(steering_angle) - steering_offset]\n",
    "                        \n",
    "                   \n",
    "                        X += [center_img.strip()]\n",
    "                        y += [float(steering_angle)]\n",
    "                        \n",
    "        \n",
    "                        shuffle(X, y)\n",
    "\n",
    "    return X, y"
   ]
  },
  {
   "cell_type": "markdown",
   "metadata": {
    "deletable": true,
    "editable": true
   },
   "source": [
    "Data\n",
    "- data_dir1 : data udacity provides for the project\n",
    "- t1_re : recovery data for the problem part of track1 on left turn. recored on linux\n",
    "- t1_rer : recovery data for the problem part of track1  on reverse, right, turn. recored on linux"
   ]
  },
  {
   "cell_type": "code",
   "execution_count": 4,
   "metadata": {
    "collapsed": true,
    "deletable": true,
    "editable": true
   },
   "outputs": [],
   "source": [
    "data_dir1 = ('../data2/driving_log.csv','linux','left')\n",
    "#t1_re=('../t1_re/driving_log.csv','linux','re_left')\n",
    "#t1_rer=('../t1_rer/driving_log.csv','linux','re_right')"
   ]
  },
  {
   "cell_type": "code",
   "execution_count": 5,
   "metadata": {
    "collapsed": true,
    "deletable": true,
    "editable": true
   },
   "outputs": [],
   "source": [
    "def merge_data(dir1, dir2, dir3):\n",
    "\n",
    "    X1, y1 = get_X_y(dir1[0], device=dir1[1], desc=dir1[2])\n",
    "    \n",
    "    X2, y2 = get_X_y(dir2[0], device=dir2[1], desc=dir2[2])\n",
    "    \n",
    "    X3, y3 = get_X_y(dir3[0], device=dir3[1], desc=dir3[2])\n",
    "    \n",
    "   \n",
    "    X = X1 + X2 + X3\n",
    "    y =  y1 + y2 + y3\n",
    "    \n",
    "\n",
    "    return X,y\n",
    "\n",
    "def merge_udacity_data(dir1):\n",
    "\n",
    "    X1, y1 = get_X_y(dir1[0], device=dir1[1], desc=dir1[2])\n",
    "      \n",
    "    X = X1 \n",
    "    y =  y1 \n",
    "    \n",
    "\n",
    "    return X,y"
   ]
  },
  {
   "cell_type": "code",
   "execution_count": 6,
   "metadata": {
    "collapsed": false,
    "deletable": true,
    "editable": true
   },
   "outputs": [
    {
     "name": "stdout",
     "output_type": "stream",
     "text": [
      "total data points 24108 \n",
      "mean value of the data 0.00406964406483 \n"
     ]
    }
   ],
   "source": [
    "#X_raw, y_raw = merge_data(data_dir1, t1_re, t1_rer)\n",
    "\n",
    "X_raw, y_raw = merge_udacity_data(data_dir1)\n",
    "    \n",
    "print(\"total data points %s \" % len(y_raw))\n",
    "\n",
    "print(\"mean value of the data %s \" %  np.mean(np.array(y_raw)))"
   ]
  },
  {
   "cell_type": "markdown",
   "metadata": {
    "deletable": true,
    "editable": true
   },
   "source": [
    "subsampling data.\n",
    "https://github.com/jeremy-shannon/CarND-Behavioral-Cloning-Project/blob/master/model.py"
   ]
  },
  {
   "cell_type": "code",
   "execution_count": 7,
   "metadata": {
    "collapsed": false,
    "deletable": true,
    "editable": true
   },
   "outputs": [
    {
     "data": {
      "text/plain": [
       "<matplotlib.text.Text at 0x7fa7cad8e780>"
      ]
     },
     "execution_count": 7,
     "metadata": {},
     "output_type": "execute_result"
    },
    {
     "data": {
      "image/png": "[encoded data removed]",
      "text/plain": [
       "<matplotlib.figure.Figure at 0x7fa830884240>"
      ]
     },
     "metadata": {},
     "output_type": "display_data"
    }
   ],
   "source": [
    "y_np = np.array(y_raw)\n",
    "num_bins = 23\n",
    "avg_samples_per_bin = len(y_np)/num_bins\n",
    "\n",
    "hist, bins = np.histogram(y_np, num_bins)\n",
    "width = 0.7 * (bins[1] - bins[0])\n",
    "center = (bins[:-1] + bins[1:]) / 2\n",
    "plt.bar(center, hist, align='center', width=width)\n",
    "plt.plot((np.min(y_np), np.max(y_np)), (avg_samples_per_bin, avg_samples_per_bin), 'k-')\n",
    "\n",
    "plt.title('total data distribution, 23bins')"
   ]
  },
  {
   "cell_type": "code",
   "execution_count": 8,
   "metadata": {
    "collapsed": false,
    "deletable": true,
    "editable": true
   },
   "outputs": [
    {
     "name": "stdout",
     "output_type": "stream",
     "text": [
      "[1.0, 1.0, 1.0, 1.0, 1.0, 1.0, 1.0, 0.5690412122928763, 0.0961980463512737, 0.40880417825408666, 0.46215780998389688, 0.097305413390593967, 0.40976306217493286, 0.43277205327971852, 0.10039980009995003, 0.53369343841317629, 1.0, 1.0, 1.0, 1.0, 1.0, 1.0, 1.0]\n"
     ]
    }
   ],
   "source": [
    "def make_keep_probs(target):\n",
    "    \n",
    "    keep_probs = []\n",
    "    \n",
    "    for i in range(num_bins):\n",
    "        if hist[i] < target:\n",
    "            keep_probs.append(1.)\n",
    "        else:\n",
    "            keep_probs.append(1./(hist[i]/target))\n",
    "            \n",
    "    return keep_probs\n",
    "\n",
    "keep_probs = make_keep_probs(avg_samples_per_bin * .5)\n",
    "\n",
    "print(keep_probs)"
   ]
  },
  {
   "cell_type": "code",
   "execution_count": 9,
   "metadata": {
    "collapsed": true,
    "deletable": true,
    "editable": true
   },
   "outputs": [],
   "source": [
    "def make_remove_list(angles, keep_probs, left_cut = 2.5, right_cut = 2.5, center_cut= 0.7):\n",
    "    \n",
    "    remove_list = []\n",
    "    for i in range(len(angles)):\n",
    "        for j in range(num_bins):\n",
    "            if angles[i] > bins[j] and angles[i] <= bins[j+1]:\n",
    "            # delete from X and y with probability 1 - keep_probs[j]\n",
    "            \n",
    "                if j > (num_bins/2 - left_cut) and j < (num_bins/2 + right_cut):\n",
    "                \n",
    "                    if np.random.rand() > (keep_probs[j] * center_cut) :\n",
    "                    \n",
    "                        remove_list.append(i)\n",
    "            \n",
    "                else:\n",
    "            \n",
    "                    if np.random.rand() > keep_probs[j]:\n",
    "                        remove_list.append(i)\n",
    "    \n",
    "    return remove_list"
   ]
  },
  {
   "cell_type": "code",
   "execution_count": 10,
   "metadata": {
    "collapsed": false,
    "deletable": true,
    "editable": true
   },
   "outputs": [
    {
     "name": "stdout",
     "output_type": "stream",
     "text": [
      "0.00406964406483\n",
      "0.313471474417\n"
     ]
    },
    {
     "data": {
      "image/png": "[encoded data removed]",
      "text/plain": [
       "<matplotlib.figure.Figure at 0x7fa7cace4b00>"
      ]
     },
     "metadata": {},
     "output_type": "display_data"
    }
   ],
   "source": [
    "num_bins = 23\n",
    "avg_samples_per_bin = len(y_np)/num_bins\n",
    "hist, bins = np.histogram(y_np, num_bins)\n",
    "width = 0.7 * (bins[1] - bins[0])\n",
    "center = (bins[:-1] + bins[1:]) / 2\n",
    "plt.bar(center, hist, align='center', width=width)\n",
    "plt.plot((np.min(y_np), np.max(y_np)), (avg_samples_per_bin, avg_samples_per_bin), 'k-')\n",
    "\n",
    "print(np.mean(y_np))\n",
    "print(np.std(y_np))"
   ]
  },
  {
   "cell_type": "code",
   "execution_count": 11,
   "metadata": {
    "collapsed": false,
    "deletable": true,
    "editable": true
   },
   "outputs": [],
   "source": [
    "keep_probs = make_keep_probs(avg_samples_per_bin * .5)\n",
    "remove_list = make_remove_list(angles = y_np, keep_probs= keep_probs, left_cut = 2.5, right_cut = 2.5)\n",
    "\n",
    "angles_np = np.delete(y_np, remove_list)\n",
    "\n",
    "X_np = np.array(X_raw)\n",
    "images_np = np.delete(X_np, remove_list)"
   ]
  },
  {
   "cell_type": "code",
   "execution_count": 12,
   "metadata": {
    "collapsed": true,
    "deletable": true,
    "editable": true
   },
   "outputs": [],
   "source": [
    "angles = angles_np.tolist()\n",
    "images = images_np.tolist()"
   ]
  },
  {
   "cell_type": "markdown",
   "metadata": {
    "deletable": true,
    "editable": true
   },
   "source": [
    "Define how to do data augmentation\n",
    "- random_darken\n",
    "- vertical shift\n",
    "- horizontal flip"
   ]
  },
  {
   "cell_type": "code",
   "execution_count": 13,
   "metadata": {
    "collapsed": true,
    "deletable": true,
    "editable": true
   },
   "outputs": [],
   "source": [
    "def random_darken(image):\n",
    "    \"\"\"Given an image (from Image.open), randomly darken a part of it.\"\"\"\n",
    "    w, h = image.size\n",
    "\n",
    "    # Make a random box.\n",
    "    x1, y1 = random.randint(0, w), random.randint(0, h)\n",
    "    x2, y2 = random.randint(x1, w), random.randint(y1, h)\n",
    "\n",
    "    # Loop through every pixel of our box (*GASP*) and darken.\n",
    "    for i in range(x1, x2):\n",
    "        for j in range(y1, y2):\n",
    "            new_value = tuple([int(x * 0.5) for x in image.getpixel((i, j))])\n",
    "            image.putpixel((i, j), new_value)\n",
    "    return image"
   ]
  },
  {
   "cell_type": "code",
   "execution_count": 14,
   "metadata": {
    "collapsed": false,
    "deletable": true,
    "editable": true
   },
   "outputs": [],
   "source": [
    "def split_data(data, label, split = 0.3):\n",
    "    \n",
    "    train_samples, validation_samples, train_labels, validation_labels = train_test_split(\n",
    "    data,\n",
    "    label,\n",
    "    test_size=split,\n",
    "    random_state=832289)\n",
    "    \n",
    "    return train_samples, validation_samples, train_labels, validation_labels"
   ]
  },
  {
   "cell_type": "code",
   "execution_count": 15,
   "metadata": {
    "collapsed": true,
    "deletable": true,
    "editable": true
   },
   "outputs": [],
   "source": [
    "def process_image_test(image, steering_angle, augment=True, shape=(160,320)):\n",
    "    \"\"\"Process and augment an image.\"\"\"\n",
    "\n",
    "    pil_image = Image.fromarray(image)\n",
    "\n",
    "    if augment and random.random() < 0.5:\n",
    "        pil_image = random_darken(pil_image)  # before numpy'd\n",
    "\n",
    "    image = img_to_array(pil_image)\n",
    "        \n",
    "    if augment:\n",
    "        image = random_shift(image, 0.0, 0.2, 0, 1, 2)  # only vertical\n",
    "        if random.random() < 0.5:\n",
    "            image = flip_axis(image, 1)\n",
    "            steering_angle = -steering_angle\n",
    "\n",
    "    return image, steering_angle"
   ]
  },
  {
   "cell_type": "markdown",
   "metadata": {
    "deletable": true,
    "editable": true
   },
   "source": [
    "Define generator \n",
    "\n",
    "- generator : train generator\n",
    "- generator_valid : validation generator"
   ]
  },
  {
   "cell_type": "code",
   "execution_count": 16,
   "metadata": {
    "collapsed": false,
    "deletable": true,
    "editable": true
   },
   "outputs": [],
   "source": [
    "# image directory, path = '../merge_image/image/' "
   ]
  },
  {
   "cell_type": "code",
   "execution_count": 17,
   "metadata": {
    "collapsed": false,
    "deletable": true,
    "editable": true
   },
   "outputs": [],
   "source": [
    "def generator(samples, labels, batch_size=128, model='default'):\n",
    "    num_samples = len(samples)\n",
    "    while 1: # Loop forever so the generator never terminates\n",
    "        shuffle(samples, labels)\n",
    "        \n",
    "        print('\\n training batch shuffled')\n",
    "        \n",
    "        for offset in range(0, num_samples, batch_size):\n",
    "           \n",
    "        #    print(type(samples))\n",
    "        #    print(len(samples))\n",
    "            batch_samples = samples[offset:offset+batch_size]\n",
    "            batch_labels = labels[offset:offset+batch_size]\n",
    "\n",
    "            images = []\n",
    "            angles = []\n",
    "            for idx, val in enumerate(batch_samples):\n",
    "\n",
    "        \n",
    "                name = batch_samples[idx]\n",
    "                \n",
    "                path = '../merge_image/image/' + name \n",
    "            \n",
    "          #      raw_image = cv2.imread(path)\n",
    "        \n",
    "                srcBGR = cv2.imread(path)\n",
    "          #      destRGB = cv2.cvtColor(srcBGR, cv2.COLOR_BGR2RGB)\n",
    "               \n",
    "                new_img = cv2.cvtColor(srcBGR , cv2.COLOR_BGR2YUV)\n",
    "                    \n",
    "                raw_angle = float(batch_labels[idx])\n",
    "                \n",
    "                input_image, input_angle = process_image_test(new_img, raw_angle)\n",
    "                \n",
    "                images.append(input_image)\n",
    "                angles.append(input_angle)\n",
    "                \n",
    "               \n",
    "            # trim image to only see section with road\n",
    "            X_train = np.array(images)\n",
    "            y_train = np.array(angles)\n",
    "            yield shuffle(X_train, y_train)\n",
    "            \n",
    "def generator_valid(samples, labels, batch_size=128, model='default'):\n",
    "    num_samples = len(samples)\n",
    "    while 1: # Loop forever so the generator never terminates\n",
    "        shuffle(samples, labels)\n",
    "        for offset in range(0, num_samples, batch_size):\n",
    "            batch_samples = samples[offset:offset+batch_size]\n",
    "            batch_labels = labels[offset:offset+batch_size]\n",
    "\n",
    "            images = []\n",
    "            angles = []\n",
    "            for idx, val in enumerate(batch_samples):\n",
    "        \n",
    "                name = batch_samples[idx]\n",
    "                \n",
    "                path = '../merge_image/image/' + name \n",
    "            \n",
    "                srcBGR = cv2.imread(path)\n",
    "        #        destRGB = cv2.cvtColor(srcBGR, cv2.COLOR_BGR2RGB)\n",
    "                \n",
    "                new_img = cv2.cvtColor(srcBGR , cv2.COLOR_BGR2YUV)\n",
    "                          \n",
    "                raw_angle = float(batch_labels[idx])\n",
    "                \n",
    "                input_image, input_angle = process_image_test(new_img, raw_angle)\n",
    "                \n",
    "                images.append(input_image)\n",
    "                angles.append(input_angle)\n",
    "                \n",
    "            # trim image to only see section with road\n",
    "            X_train = np.array(images)\n",
    "            y_train = np.array(angles)\n",
    "            yield shuffle(X_train, y_train)"
   ]
  },
  {
   "cell_type": "markdown",
   "metadata": {
    "deletable": true,
    "editable": true
   },
   "source": [
    "train_valid \n",
    "- angles : streering angles, list \n",
    "- labels : image file names, list\n",
    "- model_name : model name\n",
    "  ,String\n",
    "- load_stored : whether to restore saved model or not\n",
    "  ,True or False\n",
    "- load_model_path : file path to save model\n",
    "  ,String\n",
    "- save_best : whether to save model based on Keras, ModelCheckpoint class, monitor parameter value. \n",
    "  ,True or False\n",
    "- no_epoch : number of epochs"
   ]
  },
  {
   "cell_type": "code",
   "execution_count": 18,
   "metadata": {
    "collapsed": true,
    "deletable": true,
    "editable": true
   },
   "outputs": [],
   "source": [
    "def train_valid(angles, labels, model_name='default', data='default', lr=0.001, load_stored= False, load_model_path = None, save_best = False, no_epoch=5):\n",
    "    \"\"\"Load our network and our data, fit the model, save it.\"\"\"\n",
    "    \n",
    "    # select 'load model' or just 'new model'\n",
    "    \n",
    "    print(\"load_model_path is %s \" % load_model_path)\n",
    "    \n",
    "   \n",
    "    if(load_stored):\n",
    "        \n",
    "        net = load_model(load_model_path)\n",
    "        \n",
    "    else:\n",
    "        \n",
    "        if(model_name=='nvidia'):\n",
    "            net = nvidia(load=False, shape=(160, 320, 3), lr=lr)\n",
    "        \n",
    "        elif(model_name=='default'):\n",
    "            net = model(load=False, shape=(160, 320, 3), lr=lr)\n",
    "\n",
    "    \n",
    "    # select path to save model based on each model\n",
    "    if(model_name=='default'):\n",
    "        \n",
    "        save_path = load_model_path\n",
    "\n",
    "    if(model_name=='nvidia'):\n",
    "        \n",
    "        save_path = load_model_path\n",
    "    \n",
    "        \n",
    "    # select data directory \n",
    "    if(data=='default'):\n",
    "\n",
    "        X_merge = labels\n",
    "        y_merge = angles\n",
    "        pass\n",
    "    \n",
    "\n",
    "    elif(data=='recovery'):    \n",
    "        pass\n",
    "#        X_merge, y_merge = merge_data3(data_dir1,t1_re,t1_rer)\n",
    " \n",
    "\n",
    "    \n",
    "    # shuffle labels\n",
    "    X_merge,y_merge = shuffle(X_merge, y_merge)\n",
    "    \n",
    "\n",
    "    # split data\n",
    "    train_samples, validation_samples, train_labels, validation_labels = split_data(X_merge,y_merge,split = 0.1)\n",
    "  \n",
    "    \n",
    "    # define generators for training and validation\n",
    "    # image label should not be dupilcated in the label file for thread safety.\n",
    "    \n",
    "    train_generator = generator(train_samples, train_labels, batch_size=256, model=model_name)\n",
    "    validation_generator = generator_valid(validation_samples, validation_labels, batch_size=256, model=model_name)\n",
    "    \n",
    "    \n",
    "    # define whether to use checkpointer or not\n",
    "    \n",
    "    if(save_best):\n",
    "    \n",
    "        checkpointer = ModelCheckpoint(filepath=load_model_path, monitor='loss', verbose=1, \n",
    "                                   save_best_only=True,save_weights_only=False)\n",
    "        callbacks_list = [checkpointer]\n",
    "        \n",
    "        net.fit_generator(train_generator, samples_per_epoch=len(train_samples), validation_data=validation_generator, \n",
    "            nb_val_samples=len(validation_samples), nb_epoch= no_epoch,callbacks=callbacks_list)\n",
    "        \n",
    "    else:\n",
    "        \n",
    "        net.fit_generator(train_generator, samples_per_epoch=len(train_samples), validation_data=validation_generator, \n",
    "            nb_val_samples=len(validation_samples), nb_epoch= no_epoch)\n",
    "        \n",
    "        net.save(load_model_path)\n",
    "        print(\"Saved model to disk\")\n",
    "       \n",
    "    \n",
    "    # model summary for debugging\n",
    "    net.summary()\n",
    "    \n",
    "    # print weights for debugging\n",
    "    weights_test = net.get_weights()\n",
    "    \n",
    "    print(len(weights_test))\n",
    "    print((np.array(weights_test))[0])"
   ]
  },
  {
   "cell_type": "code",
   "execution_count": 19,
   "metadata": {
    "collapsed": false,
    "deletable": true,
    "editable": true,
    "scrolled": true
   },
   "outputs": [
    {
     "name": "stdout",
     "output_type": "stream",
     "text": [
      "load_model_path is ./model/test.h5 \n",
      "adam optimizer, lr is 0.001\n",
      "Epoch 1/2\n",
      "\n",
      " training batch shuffled\n",
      "4608/4757 [============================>.] - ETA: 1s - loss: 1.0891 \b\b\b\b\b\b\b\b\b\b\b\b\b\b\b\b\b\b\b\b\b\b\b\b\b\b\b\b\b\b\b\b\b\b\b\b\b\b\b\b\b\b\b\b\b\b\b\b\b\b\b\b\b\b\b\b\b\b\b\b\b\b\b\b\b\b\b\b\b\b\b\b\b\b\b\b\b\b\b\b\b\b\b\b\b\b\b\b\b\b\b\b\b\b\b\b\b\b\b\b\b\b\b\b\b\b\b\b\b\b\b\b\b\b\b\b\b\b\b\b\b\b\b\b\b\b\b\b\b\b\b\b\b\b\b\b\b\b\b\b\b\b\b\b\b\b\b\b\b\b\b\b\b\b\b\b\b\b\b\b\b\b\b\b\b\b\b\b\b\b\b\b\b\b\b\b\b\b\b\b\b\b\b\b\b\b\b\b\b\b\b\b\b\b\b\b\b\b\b\b\b\b\b\b\b\b\b\b\b\b\b\b\b\b\b\b\b\b\b\b\b\b\b\b\b\b\b\b\b\b\b\b\b\b\b\b\b\b\b\b\b\b\b\b\b\b\b\b\b\b\b\b\b\b\b\b\b\b\b\b\b\b\b\b\b\b\b\b\b\b\b\b\b\b\b\b\b\b\b\b\b\b\b\b\b\b\b\b\b\b\b\b\b\b\b\b\b\b\b\b\b\b\b\b\b\b\b\b\b\b\b\b\b\b\b\b\b\b\b\b\b\b\b\b\b\b\b\b\b\b\b\b\b\b\b\b\b\b\b\b\b\b\b\b\b\b\b\b\b\b\b\b\b\b\b\b\b\b\b\b\b\b\b\b\b\b\b\b\b\b\b\b\b\b\b\b\b\b\b\b\b\b\b\b\b\b\b\b\b\b\b\b\b\b\b\b\b\b\b\b\b\b\b\b\b\b\b\b\b\b\b\b\b\b\b\b\b\b\b\b\b\b\b\b\b\b\b\b\b\b\b\b\b\b\b\b\b\b\b\b\b\b\b\b\b\b\b\b\b\b\b\b\b\b\b\b\b\b\b\b\b\b\b\b\b\b\b\b\b\b\b\b\b\b\b\b\b\b\b\b\b\b\b\b\b\b\b\b\b\b\b\b\b\b\b\b\b\b\b\b\b\b\b\b\b\b\b\b\b\b\b\b\b\b\b\b\b\b\b\b\b\b\b\b\b\b\b\b\b\b\b\b\b\b\b\b\b\b\b\b\b\b\b\b\b\b\b\b\b\b\b\b\b\b\b\b\b\b\b\b\b\b\b\b\b\b\b\b\b\b\b\b\b\b\b\b\b\b\b\b\b\b\b\b\b\b\b\b\b\b\b\b\b\b\b\b\b\b\b\b\b\b\b\b\b\b\b\b\b\b\b\b\b\b\b\b\b\b\b\b\b\b\b\b\b\b\b\b\b\b\b\b\b\b\b\b\b\b\b\b\b\b\b\b\b\b\b\b\b\b\b\b\b\b\b\b\b\b\b\b\b\b\b\b\b\b\b\b\b\b\b\b\b\b\b\b\b\b\b\b\b\b\b\b\b\b\b\b\b\b\b\b\b\b\b\b\b\b\b\b\b\b\b\b\b\b\b\b\b\b\b\b\b\b\b\b\b\b\b\b\b\b\b\b\b\b\b\b\b\b\b\b\b\b\b\b\b\b\b\b\b\b\b\b\b\b\b\b\b\b\b\b\b\b\b\b\b\b\b\b\b\b\b\b\b\b\b\b\b\b\b\b\b\b\b\b\b\b\b\b\b\b\b\b\b\b\b\b\b\b\b\b\b\b\b\b\b\b\b\b\b\b\b\b\b\b\b\b\b\b\b\b\b\b\b\b\b\b\b\b\b\b\b\b\b\b\b\b\b\b\b\b\b\b\b\b\b\b\b\b\b\b\b\b\b\b\b\b\b\b\b\b\b\b\b\b\b\b\b\b\b\b\b\b\b\b\b\b\b\b\b\b\b\b\b\b\b\b\b\b\b\b\b\b\b\b\b\b\b\b\b\b\b\b\b\b\b\b\b\b\b\b\b\b\b\b\b\b\b\b\b\b\b\b\b\b\b\b\b\b\b\b\b\b\b\b\b\b\b\b\b\b\b\b\b\b\b\b\b\b\b\b\b\b\b\b\b\b\b\b\b\b\b\b\b\b\b\b\b\b\b\b\b\b\b\b\b\b\b\b\b\b\b\b\b\b\b\b\b\b\b\b\b\b\b\b\b\b\b\b\b\b\b\b\b\b\b\b\b\b\b\b\b\b\b\b\b\b\b\b\b\b\b\b\b\b\b\b\b\b\b\b\b\b\b\b\b\b\b\b\b\b\b\b\b\b\b\b\b\b\b\b\b\b\b\b\b\b\b\b\b\b\b\b\b\b\b\b\b\b\b\b\b\b\b\b\b\b\b\b\b\b\b\b\b\b\b\b\b\b\b\b\b\b\b\b\b\b\b\b\b\b\b\b\b\b\b\b\b\b\b\b\b\b\b\b\b\b\b\b\b\b\b\b\b\b\b\b\b\b\b\b\b\b\b\b\b\b\b\b\b\b\b\b\b\b\b\b\b\b\b\b\b\b\b\b\b\b\b\b\b\b\b\n",
      " training batch shuffled\n",
      "4757/4757 [==============================] - 60s - loss: 1.0623 - val_loss: 0.1591\n",
      "Epoch 2/2\n",
      "4608/4757 [============================>.] - ETA: 1s - loss: 0.1612 \b\b\b\b\b\b\b\b\b\b\b\b\b\b\b\b\b\b\b\b\b\b\b\b\b\b\b\b\b\b\b\b\b\b\b\b\b\b\b\b\b\b\b\b\b\b\b\b\b\b\b\b\b\b\b\b\b\b\b\b\b\b\b\b\b\b\b\b\b\b\b\b\b\b\b\b\b\b\b\b\b\b\b\b\b\b\b\b\b\b\b\b\b\b\b\b\b\b\b\b\b\b\b\b\b\b\b\b\b\b\b\b\b\b\b\b\b\b\b\b\b\b\b\b\b\b\b\b\b\b\b\b\b\b\b\b\b\b\b\b\b\b\b\b\b\b\b\b\b\b\b\b\b\b\b\b\b\b\b\b\b\b\b\b\b\b\b\b\b\b\b\b\b\b\b\b\b\b\b\b\b\b\b\b\b\b\b\b\b\b\b\b\b\b\b\b\b\b\b\b\b\b\b\b\b\b\b\b\b\b\b\b\b\b\b\b\b\b\b\b\b\b\b\b\b\b\b\b\b\b\b\b\b\b\b\b\b\b\b\b\b\b\b\b\b\b\b\b\b\b\b\b\b\b\b\b\b\b\b\b\b\b\b\b\b\b\b\b\b\b\b\b\b\b\b\b\b\b\b\b\b\b\b\b\b\b\b\b\b\b\b\b\b\b\b\b\b\b\b\b\b\b\b\b\b\b\b\b\b\b\b\b\b\b\b\b\b\b\b\b\b\b\b\b\b\b\b\b\b\b\b\b\b\b\b\b\b\b\b\b\b\b\b\b\b\b\b\b\b\b\b\b\b\b\b\b\b\b\b\b\b\b\b\b\b\b\b\b\b\b\b\b\b\b\b\b\b\b\b\b\b\b\b\b\b\b\b\b\b\b\b\b\b\b\b\b\b\b\b\b\b\b\b\b\b\b\b\b\b\b\b\b\b\b\b\b\b\b\b\b\b\b\b\b\b\b\b\b\b\b\b\b\b\b\b\b\b\b\b\b\b\b\b\b\b\b\b\b\b\b\b\b\b\b\b\b\b\b\b\b\b\b\b\b\b\b\b\b\b\b\b\b\b\b\b\b\b\b\b\b\b\b\b\b\b\b\b\b\b\b\b\b\b\b\b\b\b\b\b\b\b\b\b\b\b\b\b\b\b\b\b\b\b\b\b\b\b\b\b\b\b\b\b\b\b\b\b\b\b\b\b\b\b\b\b\b\b\b\b\b\b\b\b\b\b\b\b\b\b\b\b\b\b\b\b\b\b\b\b\b\b\b\b\b\b\b\b\b\b\b\b\b\b\b\b\b\b\b\b\b\b\b\b\b\b\b\b\b\b\b\b\b\b\b\b\b\b\b\b\b\b\b\b\b\b\b\b\b\b\b\b\b\b\b\b\b\b\b\b\b\b\b\b\b\b\b\b\b\b\b\b\b\b\b\b\b\b\b\b\b\b\b\b\b\b\b\b\b\b\b\b\b\b\b\b\b\b\b\b\b\b\b\b\b\b\b\b\b\b\b\b\b\b\b\b\b\b\b\b\b\b\b\b\b\b\b\b\b\b\b\b\b\b\b\b\b\b\b\b\b\b\b\b\b\b\b\b\b\b\b\b\b\b\b\b\b\b\b\b\b\b\b\b\b\b\b\b\b\b\b\b\b\b\b\b\b\b\b\b\b\b\b\b\b\b\b\b\b\b\b\b\b\b\b\b\b\b\b\b\b\b\b\b\b\b\b\b\b\b\b\b\b\b\b\b\b\b\b\b\b\b\b\b\b\b\b\b\b\b\b\b\b\b\b\b\b\b\b\b\b\b\b\b\b\b\b\b\b\b\b\b\b\b\b\b\b\b\b\b\b\b\b\b\b\b\b\b\b\b\b\b\b\b\b\b\b\b\b\b\b\b\b\b\b\b\b\b\b\b\b\b\b\b\b\b\b\b\b\b\b\b\b\b\b\b\b\b\b\b\b\b\b\b\b\b\b\b\b\b\b\b\b\b\b\b\b\b\b\b\b\b\b\b\b\b\b\b\b\b\b\b\b\b\b\b\b\b\b\b\b\b\b\b\b\b\b\b\b\b\b\b\b\b\b\b\b\b\b\b\b\b\b\b\b\b\b\b\b\b\b\b\b\b\b\b\b\b\b\b\b\b\b\b\b\b\b\b\b\b\b\b\b\b\b\b\b\b\b\b\b\b\b\b\b\b\b\b\b\b\b\b\b\b\b\b\b\b\b\b\b\b\b\b\b\b\b\b\b\b\b\b\b\b\b\b\b\b\b\b\b\b\b\b\b\b\b\b\b\b\b\b\b\b\b\b\b\b\b\b\b\b\b\b\b\b\b\b\b\b\b\b\b\b\b\b\b\b\b\b\b\b\b\b\b\b\b\b\b\b\b\b\b\b\b\b\b\b\b\b\b\b\b\b\b\b\b\b\b\b\b\b\b\b\b\b\b\b\b\b\b\b\b\b\b\b\b\b\b\b\b\b\b\b\b\b\b\b\b\b\b\b\b\b\b\b\b\b\b\b\b\b\b\b\b\b\b\b\b\b\b\b\b\b\b\b\b\b\b\b\b\b\b\b\b\b\b\b\n",
      " training batch shuffled\n",
      "4757/4757 [==============================] - 50s - loss: 0.1603 - val_loss: 0.1225\n",
      "Saved model to disk\n",
      "____________________________________________________________________________________________________\n",
      "Layer (type)                     Output Shape          Param #     Connected to                     \n",
      "====================================================================================================\n",
      "cropping2d_1 (Cropping2D)        (None, 100, 280, 3)   0           cropping2d_input_1[0][0]         \n",
      "____________________________________________________________________________________________________\n",
      "lambda_1 (Lambda)                (None, 100, 280, 3)   0           cropping2d_1[0][0]               \n",
      "____________________________________________________________________________________________________\n",
      "convolution2d_1 (Convolution2D)  (None, 100, 280, 24)  1824        lambda_1[0][0]                   \n",
      "____________________________________________________________________________________________________\n",
      "elu_1 (ELU)                      (None, 100, 280, 24)  0           convolution2d_1[0][0]            \n",
      "____________________________________________________________________________________________________\n",
      "maxpooling2d_1 (MaxPooling2D)    (None, 50, 140, 24)   0           elu_1[0][0]                      \n",
      "____________________________________________________________________________________________________\n",
      "convolution2d_2 (Convolution2D)  (None, 50, 140, 32)   19232       maxpooling2d_1[0][0]             \n",
      "____________________________________________________________________________________________________\n",
      "maxpooling2d_2 (MaxPooling2D)    (None, 25, 70, 32)    0           convolution2d_2[0][0]            \n",
      "____________________________________________________________________________________________________\n",
      "convolution2d_3 (Convolution2D)  (None, 25, 70, 48)    13872       maxpooling2d_2[0][0]             \n",
      "____________________________________________________________________________________________________\n",
      "maxpooling2d_3 (MaxPooling2D)    (None, 12, 35, 48)    0           convolution2d_3[0][0]            \n",
      "____________________________________________________________________________________________________\n",
      "convolution2d_4 (Convolution2D)  (None, 12, 35, 64)    27712       maxpooling2d_3[0][0]             \n",
      "____________________________________________________________________________________________________\n",
      "maxpooling2d_4 (MaxPooling2D)    (None, 6, 17, 64)     0           convolution2d_4[0][0]            \n",
      "____________________________________________________________________________________________________\n",
      "flatten_1 (Flatten)              (None, 6528)          0           maxpooling2d_4[0][0]             \n",
      "____________________________________________________________________________________________________\n",
      "dense_1 (Dense)                  (None, 1024)          6685696     flatten_1[0][0]                  \n",
      "____________________________________________________________________________________________________\n",
      "dropout_1 (Dropout)              (None, 1024)          0           dense_1[0][0]                    \n",
      "____________________________________________________________________________________________________\n",
      "dense_2 (Dense)                  (None, 512)           524800      dropout_1[0][0]                  \n",
      "____________________________________________________________________________________________________\n",
      "dropout_2 (Dropout)              (None, 512)           0           dense_2[0][0]                    \n",
      "____________________________________________________________________________________________________\n",
      "dense_3 (Dense)                  (None, 1)             513         dropout_2[0][0]                  \n",
      "====================================================================================================\n",
      "Total params: 7,273,649\n",
      "Trainable params: 7,273,649\n",
      "Non-trainable params: 0\n",
      "____________________________________________________________________________________________________\n",
      "14\n",
      "[[[[  6.87556900e-03  -7.94578120e-02  -5.42698689e-02 ...,\n",
      "      3.13177332e-02   1.97718292e-02   2.31572576e-02]\n",
      "   [  8.09262991e-02   7.38593265e-02  -4.46680672e-02 ...,\n",
      "      6.37680590e-02   2.51602829e-02   5.17814187e-05]\n",
      "   [  7.95717612e-02  -7.43759945e-02  -3.74431312e-02 ...,\n",
      "      4.74224091e-02  -2.60895323e-02  -2.96759754e-02]]\n",
      "\n",
      "  [[ -6.34004697e-02  -8.24576691e-02  -7.83813447e-02 ...,\n",
      "     -4.94214520e-02   6.05878569e-02   5.34536317e-02]\n",
      "   [  7.51014426e-02   4.49518412e-02  -4.23878878e-02 ...,\n",
      "      7.31785744e-02  -1.44443093e-02  -2.25526243e-02]\n",
      "   [ -6.45658821e-02   8.99025053e-02   1.92006573e-03 ...,\n",
      "      1.24392919e-02   3.96194756e-02   5.81389219e-02]]\n",
      "\n",
      "  [[ -5.73301613e-02   7.74368644e-02  -7.39308074e-02 ...,\n",
      "      8.95576552e-02   6.85118288e-02   5.81201650e-02]\n",
      "   [  4.33731042e-02  -1.08598638e-03  -7.50018656e-02 ...,\n",
      "      6.15598112e-02   5.70140034e-02  -1.24392807e-02]\n",
      "   [ -6.76071346e-02  -2.46505644e-02   9.02173892e-02 ...,\n",
      "     -3.46729234e-02   2.29379591e-02  -6.19206689e-02]]\n",
      "\n",
      "  [[ -6.49682879e-02  -2.64860727e-02  -4.84997369e-02 ...,\n",
      "     -1.03451880e-02  -5.92813268e-02  -2.30026897e-02]\n",
      "   [ -7.34472126e-02  -3.47747542e-02  -6.30752966e-02 ...,\n",
      "      6.66658655e-02  -4.00056206e-02  -5.71240075e-02]\n",
      "   [  3.31492499e-02   6.44163287e-04  -2.07242984e-02 ...,\n",
      "      2.07636245e-02  -9.13582519e-02  -8.18396360e-02]]\n",
      "\n",
      "  [[ -7.67277367e-03   1.58191584e-02  -1.11975670e-02 ...,\n",
      "     -4.99566905e-02  -6.71021342e-02   5.09807989e-02]\n",
      "   [  7.50676244e-02   4.24412563e-02   2.96396445e-02 ...,\n",
      "     -7.61959702e-03   2.54895422e-03  -7.42197484e-02]\n",
      "   [  2.06108168e-02   1.78764164e-02   3.66189443e-02 ...,\n",
      "      5.39759174e-02  -9.11723077e-02   2.79071815e-02]]]\n",
      "\n",
      "\n",
      " [[[ -7.86471888e-02   3.30650732e-02  -4.66766907e-03 ...,\n",
      "     -3.50848660e-02   2.65644770e-02  -5.41787036e-02]\n",
      "   [ -7.74887875e-02  -1.60202272e-02   1.79757234e-02 ...,\n",
      "     -7.07032531e-02   8.08089525e-02  -7.53416400e-03]\n",
      "   [  1.31232198e-02  -1.11602200e-02   8.93690530e-03 ...,\n",
      "      8.09762180e-02  -3.22556719e-02  -1.24383029e-02]]\n",
      "\n",
      "  [[ -5.84616996e-02   6.18941300e-02   3.96013781e-02 ...,\n",
      "      2.88075153e-02  -6.51997477e-02   3.01272776e-02]\n",
      "   [  7.76485652e-02   7.64421672e-02   6.52394444e-02 ...,\n",
      "     -4.34783585e-02   7.48848403e-03   7.29030445e-02]\n",
      "   [ -1.92425661e-02  -2.71753911e-02  -4.81159091e-02 ...,\n",
      "     -8.14443827e-02  -2.14651804e-02   2.48514041e-02]]\n",
      "\n",
      "  [[  6.89082444e-02  -7.87336230e-02   5.33340089e-02 ...,\n",
      "      2.14270968e-02  -9.18095559e-02  -8.32164437e-02]\n",
      "   [  7.90672004e-02  -8.95846263e-02   3.35939303e-02 ...,\n",
      "     -3.70252319e-02   9.21509787e-03   6.84681907e-03]\n",
      "   [  1.19719412e-02  -2.55602151e-02  -8.12920406e-02 ...,\n",
      "     -3.66879404e-02   5.92403412e-02   3.41455378e-02]]\n",
      "\n",
      "  [[  7.74165541e-02   8.32005739e-02  -4.69223298e-02 ...,\n",
      "      5.17544299e-02  -3.85544188e-02  -2.19253302e-02]\n",
      "   [ -8.79672393e-02  -5.85349537e-02  -1.51195647e-02 ...,\n",
      "     -8.53343308e-02   1.37140574e-02   8.02977011e-02]\n",
      "   [  5.46180420e-02  -6.98810294e-02  -6.30660430e-02 ...,\n",
      "     -1.58173870e-02   1.51237687e-02   3.69093977e-02]]\n",
      "\n",
      "  [[  5.33158593e-02   3.74644771e-02  -3.11188716e-02 ...,\n",
      "     -7.67430812e-02  -6.60043210e-02   8.76869634e-03]\n",
      "   [  1.36499880e-02  -8.21426064e-02   6.85466379e-02 ...,\n",
      "      3.20241340e-02  -2.64816154e-02   8.76711756e-02]\n",
      "   [ -6.21809512e-02   9.32427049e-02  -4.20936123e-02 ...,\n",
      "     -7.69820958e-02   7.84341171e-02   6.57255948e-02]]]\n",
      "\n",
      "\n",
      " [[[ -7.77368993e-02   6.54949248e-02  -5.68791069e-02 ...,\n",
      "      6.45761490e-02   3.56826074e-02   8.68802741e-02]\n",
      "   [  4.57858704e-02  -3.03817373e-02   4.45336103e-02 ...,\n",
      "      6.62967563e-02  -4.82307151e-02  -5.79246553e-04]\n",
      "   [  4.78455573e-02   5.88058531e-02   3.15350778e-02 ...,\n",
      "      4.60089967e-02   8.21842179e-02   7.50241205e-02]]\n",
      "\n",
      "  [[ -1.87396165e-02  -1.64863653e-02   3.45484801e-02 ...,\n",
      "      3.73172909e-02  -8.17298219e-02   2.69395746e-02]\n",
      "   [ -7.42476508e-02  -3.96683179e-02  -7.60329217e-02 ...,\n",
      "     -9.13611278e-02  -1.52401943e-02  -2.10206099e-02]\n",
      "   [ -6.15092628e-02  -4.18953523e-02   8.23326223e-03 ...,\n",
      "      6.47661090e-02   6.62288517e-02   3.63009865e-03]]\n",
      "\n",
      "  [[  5.57551906e-02   2.35632043e-02   4.57186252e-02 ...,\n",
      "     -1.18983956e-02   6.06834926e-02  -4.99807522e-02]\n",
      "   [ -4.22075245e-04  -7.80690229e-03  -4.52628657e-02 ...,\n",
      "     -1.86235067e-02   6.51114732e-02   5.23950020e-03]\n",
      "   [ -9.13386233e-03  -7.88550749e-02  -4.34085950e-02 ...,\n",
      "     -3.46609652e-02  -5.17670289e-02   7.90493116e-02]]\n",
      "\n",
      "  [[ -4.10333499e-02  -8.20019767e-02   4.13025171e-02 ...,\n",
      "      7.59847611e-02  -4.05140221e-02   7.04553351e-02]\n",
      "   [ -6.94193840e-02   5.77046489e-03  -7.22578689e-02 ...,\n",
      "     -7.11476654e-02  -4.89363726e-03  -3.13074552e-02]\n",
      "   [ -1.57428421e-02   2.25550383e-02   5.08514009e-02 ...,\n",
      "      7.07541183e-02  -7.16783106e-02  -6.26896173e-02]]\n",
      "\n",
      "  [[ -6.28168285e-02   7.52567127e-02   2.67639779e-03 ...,\n",
      "     -5.62076233e-02  -5.63991927e-02   2.12728865e-02]\n",
      "   [  1.99593976e-02   2.29244530e-02  -3.19244899e-03 ...,\n",
      "     -8.17286521e-02   9.03339535e-02   9.05091763e-02]\n",
      "   [ -4.37874906e-03   8.12526643e-02   5.53213842e-02 ...,\n",
      "      7.00401515e-02   7.55136013e-02  -3.30396667e-02]]]\n",
      "\n",
      "\n",
      " [[[ -6.47960603e-02   2.01063114e-03   4.13597897e-02 ...,\n",
      "     -7.73382559e-03   9.33575723e-03  -8.68256576e-03]\n",
      "   [ -8.34523588e-02   7.27733374e-02  -6.88629001e-02 ...,\n",
      "      8.43690112e-02  -2.59479992e-02  -6.35302886e-02]\n",
      "   [ -4.14421558e-02  -5.64819723e-02   8.89570341e-02 ...,\n",
      "     -5.03469557e-02   5.01311757e-02   5.69203915e-03]]\n",
      "\n",
      "  [[  1.99370682e-02  -7.79617578e-02   1.35723269e-03 ...,\n",
      "     -2.10218485e-02   5.71238473e-02   8.38711411e-02]\n",
      "   [ -2.48016790e-02   5.12737632e-02  -6.02802671e-02 ...,\n",
      "      5.03739603e-02   8.47162306e-02  -2.41662730e-02]\n",
      "   [  6.44502863e-02  -8.00861567e-02   7.83407539e-02 ...,\n",
      "      2.34257225e-02   7.63282031e-02   8.25041607e-02]]\n",
      "\n",
      "  [[ -7.48746023e-02  -5.41115515e-02   1.05829835e-02 ...,\n",
      "      4.94186953e-02  -5.63050359e-02  -6.00429364e-02]\n",
      "   [ -4.56565954e-02  -3.14822942e-02  -7.82238618e-02 ...,\n",
      "      5.42206876e-02  -6.83995187e-02  -6.90544844e-02]\n",
      "   [ -4.93313707e-02   3.75422562e-04  -7.70992637e-02 ...,\n",
      "     -7.89624751e-02   3.47261280e-02  -1.15065547e-02]]\n",
      "\n",
      "  [[  4.56144288e-02   1.86802428e-02   7.44377449e-03 ...,\n",
      "     -5.20561747e-02   8.75889510e-02   4.98205163e-02]\n",
      "   [  4.40517887e-02   7.12689087e-02  -2.08819043e-02 ...,\n",
      "      3.80806066e-02   9.56692621e-02   4.11398849e-03]\n",
      "   [  2.08134297e-02   9.68354493e-02   4.88987565e-02 ...,\n",
      "     -6.53111860e-02   2.24577542e-02  -7.28068575e-02]]\n",
      "\n",
      "  [[  2.12348513e-02  -7.34579861e-02   7.29405209e-02 ...,\n",
      "     -2.31568441e-02   3.91344763e-02   1.67023651e-02]\n",
      "   [  1.57853961e-02   7.21193179e-02   3.90748195e-02 ...,\n",
      "      5.61025664e-02   7.82651920e-03   1.43369446e-02]\n",
      "   [  2.60307658e-02  -7.00496882e-02  -5.11711203e-02 ...,\n",
      "      5.44507056e-02  -6.69202954e-03  -1.93730071e-02]]]\n",
      "\n",
      "\n",
      " [[[ -2.90944483e-02   5.74408323e-02  -7.95009022e-04 ...,\n",
      "     -8.51961821e-02  -2.02438105e-02   8.84349421e-02]\n",
      "   [ -1.79087855e-02   5.10796458e-02   2.67619845e-02 ...,\n",
      "     -8.05294439e-02  -8.78435150e-02   7.08858147e-02]\n",
      "   [ -7.27703720e-02  -2.50304770e-02   6.00883588e-02 ...,\n",
      "      5.76995953e-04  -3.64401750e-02  -7.31815919e-02]]\n",
      "\n",
      "  [[  9.41935256e-02   6.05968125e-02   5.66610359e-02 ...,\n",
      "      3.00977360e-02  -3.06215901e-02  -6.30785152e-02]\n",
      "   [  1.71969328e-02   8.06691274e-02   1.84210222e-02 ...,\n",
      "     -9.81921516e-03  -3.54895033e-02  -7.56416544e-02]\n",
      "   [  1.69172101e-02   3.22286859e-02   5.46979643e-02 ...,\n",
      "     -4.27761637e-02   3.22190039e-02   6.19858243e-02]]\n",
      "\n",
      "  [[ -7.30334073e-02  -3.24394293e-02   3.61185707e-02 ...,\n",
      "      1.71675452e-03  -7.90332854e-02  -4.93873022e-02]\n",
      "   [  2.14789826e-02  -2.62601767e-02  -1.97607651e-02 ...,\n",
      "      4.08476070e-02   6.96021616e-02   6.27156571e-02]\n",
      "   [ -5.88901006e-02   6.39283434e-02   9.76690277e-03 ...,\n",
      "      7.58295059e-02  -4.85500246e-02  -3.31358016e-02]]\n",
      "\n",
      "  [[  6.22627921e-02  -1.15441820e-02   2.31709108e-02 ...,\n",
      "      7.55476058e-02  -6.85306042e-02   6.84591830e-02]\n",
      "   [ -7.53467306e-02  -7.63930082e-02  -8.78594220e-02 ...,\n",
      "     -7.81644359e-02  -5.61240986e-02  -7.52863884e-02]\n",
      "   [ -5.30819632e-02   5.97391129e-02   1.60057452e-02 ...,\n",
      "     -1.83110349e-02   5.62204644e-02  -3.41840759e-02]]\n",
      "\n",
      "  [[ -3.33731738e-03   8.55738372e-02   8.41130689e-02 ...,\n",
      "     -7.66338632e-02  -7.46597424e-02   2.20758989e-02]\n",
      "   [ -7.97823295e-02  -5.27642295e-02  -8.54903385e-02 ...,\n",
      "      6.38137236e-02   1.58268623e-02   2.94656027e-02]\n",
      "   [ -5.71010336e-02  -4.06873673e-02  -6.86131790e-02 ...,\n",
      "      2.17435397e-02   3.57001573e-02  -8.51979107e-02]]]]\n"
     ]
    }
   ],
   "source": [
    "train_valid(angles = angles, labels = images, model_name='default', lr = 0.001, data= 'default', load_stored= False, load_model_path = './model/test.h5', save_best = False, no_epoch=2)"
   ]
  },
  {
   "cell_type": "code",
   "execution_count": 20,
   "metadata": {
    "collapsed": false,
    "deletable": true,
    "editable": true
   },
   "outputs": [],
   "source": [
    "#train_valid(angles = y_merge, labels = X_merge, model_name='default', lr = 0.001,  data= 'default', load_stored= True, load_model_path = './model/model_v4.h5', save_best = False, no_epoch=2)"
   ]
  },
  {
   "cell_type": "code",
   "execution_count": 21,
   "metadata": {
    "collapsed": false,
    "deletable": true,
    "editable": true
   },
   "outputs": [],
   "source": [
    "#train_valid(model_name='default_rgb',load_stored= False, load_model_path = './model/model_rgb.h5', save_best = False, no_epoch=15)"
   ]
  }
 ],
 "metadata": {
  "kernelspec": {
   "display_name": "Python 3",
   "language": "python",
   "name": "python3"
  },
  "language_info": {
   "codemirror_mode": {
    "name": "ipython",
    "version": 3
   },
   "file_extension": ".py",
   "mimetype": "text/x-python",
   "name": "python",
   "nbconvert_exporter": "python",
   "pygments_lexer": "ipython3",
   "version": "3.5.2"
  },
  "widgets": {
   "state": {},
   "version": "1.1.2"
  }
 },
 "nbformat": 4,
 "nbformat_minor": 2
}
