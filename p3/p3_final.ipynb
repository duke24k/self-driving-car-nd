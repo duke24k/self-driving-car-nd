{
 "cells": [
  {
   "cell_type": "code",
   "execution_count": 1,
   "metadata": {
    "collapsed": false,
    "deletable": true,
    "editable": true
   },
   "outputs": [
    {
     "name": "stderr",
     "output_type": "stream",
     "text": [
      "Using TensorFlow backend.\n"
     ]
    }
   ],
   "source": [
    "%matplotlib inline\n",
    "\n",
    "import csv, random, numpy as np\n",
    "from keras.models import load_model, Sequential,model_from_json\n",
    "from keras.layers import Dense, Dropout, Flatten, Lambda\n",
    "from keras.layers.convolutional import Convolution2D, MaxPooling2D, Cropping2D\n",
    "from keras.preprocessing.image import img_to_array, load_img, flip_axis, random_shift\n",
    "from keras.layers.advanced_activations import ELU\n",
    "from keras.regularizers import l2, activity_l2\n",
    "from keras import optimizers\n",
    "\n",
    "from keras.callbacks import Callback,ModelCheckpoint\n",
    "\n",
    "from sklearn.model_selection import train_test_split\n",
    "from sklearn.utils import shuffle\n",
    "from math import floor\n",
    "\n",
    "import cv2\n",
    "from PIL import Image\n",
    "import json\n",
    "import matplotlib.pyplot as plt"
   ]
  },
  {
   "cell_type": "markdown",
   "metadata": {
    "deletable": true,
    "editable": true
   },
   "source": [
    "Define Model Architecture\n",
    "adam optimizer configuration is default on Keras document."
   ]
  },
  {
   "cell_type": "code",
   "execution_count": 2,
   "metadata": {
    "collapsed": false,
    "deletable": true,
    "editable": true
   },
   "outputs": [],
   "source": [
    "def model(load, shape, lr = 0.001, checkpoint=None):\n",
    "    \"\"\"Return a model from file or to train on.\"\"\"\n",
    "    \n",
    "   \n",
    "    \n",
    "    if load and checkpoint: return load_model(checkpoint)\n",
    "\n",
    "#    conv_layers1, conv_layers2, dense_layers = [24, 36, 48], [64, 64], [1024, 512]\n",
    "    dense_layers = [1024, 512]\n",
    "    \n",
    "    model = Sequential()\n",
    "    \n",
    "    model.add(Cropping2D(cropping=((40,20), (20,20)), input_shape=shape))\n",
    "    model.add(Lambda(lambda x: x / 255.0 - 0.5))\n",
    "\n",
    "    model.add(Convolution2D(24,5, 5,  border_mode = 'same',subsample=(1, 1)))\n",
    "    model.add(ELU())\n",
    "    model.add(MaxPooling2D(pool_size=(2, 2)))\n",
    "      \n",
    "    model.add(Convolution2D(32,5, 5,  border_mode = 'same', subsample=(1, 1),activation='elu'))\n",
    "    model.add(MaxPooling2D(pool_size=(2, 2)))\n",
    "\n",
    "    model.add(Convolution2D(48,3, 3, border_mode = 'same', subsample=(1, 1),activation='elu'))\n",
    "    model.add(MaxPooling2D(pool_size=(2, 2)))\n",
    "\n",
    "\n",
    "    model.add(Convolution2D(64, 3, 3,  border_mode = 'same', subsample=(1, 1), activation='elu'))\n",
    "    model.add(MaxPooling2D(pool_size=(2, 2)))\n",
    "\n",
    "    \n",
    "    model.add(Flatten())\n",
    "    for dl in dense_layers:\n",
    "        model.add(Dense(dl, activation='elu'))\n",
    "        model.add(Dropout(0.5))\n",
    "    model.add(Dense(1, activation='linear'))\n",
    "    \n",
    "    adam = optimizers.Adam(lr=lr, beta_1=0.9, beta_2=0.999, epsilon=1e-08, decay=0.0)\n",
    "    \n",
    "    model.compile(loss='mse', optimizer=adam)\n",
    "    \n",
    "    print(\"adam optimizer, lr is %s\" % lr)\n",
    "    \n",
    "    return model"
   ]
  },
  {
   "cell_type": "markdown",
   "metadata": {
    "deletable": true,
    "editable": true
   },
   "source": [
    "Define how to downsample \n",
    "Define steering angle offset for left and right side camera images.\n",
    "- 0.35"
   ]
  },
  {
   "cell_type": "code",
   "execution_count": 3,
   "metadata": {
    "collapsed": true,
    "deletable": true,
    "editable": true
   },
   "outputs": [],
   "source": [
    "def get_X_y(labels, device='linux', desc='left'):\n",
    "  \n",
    "    X, y = [], []\n",
    "    base = []\n",
    "\n",
    "    steering_offset = 0.35\n",
    "    with open(labels) as fin:\n",
    "        for center_img, left_img, right_img, steering_angle, _, _, speed in csv.reader(fin):\n",
    "            \n",
    "      \n",
    "                        left_img = left_img.split('/')[-1]\n",
    "                        right_img = right_img.split('/')[-1]\n",
    "                        center_img = center_img.split('/')[-1]\n",
    "        \n",
    "                        X += [left_img.strip()]\n",
    "                        y += [float(steering_angle) + steering_offset]\n",
    "                \n",
    "                        X += [right_img.strip()]\n",
    "                        y += [float(steering_angle) - steering_offset]\n",
    "                        \n",
    "                   \n",
    "                        X += [center_img.strip()]\n",
    "                        y += [float(steering_angle)]\n",
    "                        \n",
    "        \n",
    "                        shuffle(X, y)\n",
    "\n",
    "    return X, y"
   ]
  },
  {
   "cell_type": "markdown",
   "metadata": {
    "deletable": true,
    "editable": true
   },
   "source": [
    "Data\n",
    "- data_dir1 : data udacity provides for the project\n",
    "- t1_re : recovery data for the problem part of track1 on left turn. recored on linux\n",
    "- t1_rer : recovery data for the problem part of track1  on reverse, right, turn. recored on linux"
   ]
  },
  {
   "cell_type": "code",
   "execution_count": 4,
   "metadata": {
    "collapsed": true,
    "deletable": true,
    "editable": true
   },
   "outputs": [],
   "source": [
    "data_dir1 = ('../../../data2/driving_log.csv','linux','left')\n",
    "#t1_re=('../t1_re/driving_log.csv','linux','re_left')\n",
    "#t1_rer=('../t1_rer/driving_log.csv','linux','re_right')"
   ]
  },
  {
   "cell_type": "code",
   "execution_count": 5,
   "metadata": {
    "collapsed": true,
    "deletable": true,
    "editable": true
   },
   "outputs": [],
   "source": [
    "def merge_data(dir1, dir2, dir3):\n",
    "\n",
    "    X1, y1 = get_X_y(dir1[0], device=dir1[1], desc=dir1[2])\n",
    "    \n",
    "    X2, y2 = get_X_y(dir2[0], device=dir2[1], desc=dir2[2])\n",
    "    \n",
    "    X3, y3 = get_X_y(dir3[0], device=dir3[1], desc=dir3[2])\n",
    "    \n",
    "   \n",
    "    X = X1 + X2 + X3\n",
    "    y =  y1 + y2 + y3\n",
    "    \n",
    "\n",
    "    return X,y\n",
    "\n",
    "def merge_udacity_data(dir1):\n",
    "\n",
    "    X1, y1 = get_X_y(dir1[0], device=dir1[1], desc=dir1[2])\n",
    "      \n",
    "    X = X1 \n",
    "    y =  y1 \n",
    "    \n",
    "\n",
    "    return X,y"
   ]
  },
  {
   "cell_type": "code",
   "execution_count": 6,
   "metadata": {
    "collapsed": false,
    "deletable": true,
    "editable": true
   },
   "outputs": [
    {
     "name": "stdout",
     "output_type": "stream",
     "text": [
      "total data points 24108 \n",
      "mean value of the data 0.00406964406483 \n"
     ]
    }
   ],
   "source": [
    "#X_raw, y_raw = merge_data(data_dir1, t1_re, t1_rer)\n",
    "\n",
    "X_raw, y_raw = merge_udacity_data(data_dir1)\n",
    "    \n",
    "print(\"total data points %s \" % len(y_raw))\n",
    "\n",
    "print(\"mean value of the data %s \" %  np.mean(np.array(y_raw)))"
   ]
  },
  {
   "cell_type": "markdown",
   "metadata": {
    "deletable": true,
    "editable": true
   },
   "source": [
    "subsampling data.\n",
    "https://github.com/jeremy-shannon/CarND-Behavioral-Cloning-Project/blob/master/model.py"
   ]
  },
  {
   "cell_type": "code",
   "execution_count": 7,
   "metadata": {
    "collapsed": false,
    "deletable": true,
    "editable": true
   },
   "outputs": [
    {
     "data": {
      "text/plain": [
       "<matplotlib.text.Text at 0x7ff6d30644e0>"
      ]
     },
     "execution_count": 7,
     "metadata": {},
     "output_type": "execute_result"
    },
    {
     "data": {
      "image/png": "[encoded data removed]",
      "text/plain": [
       "<matplotlib.figure.Figure at 0x7ff738b20518>"
      ]
     },
     "metadata": {},
     "output_type": "display_data"
    }
   ],
   "source": [
    "y_np = np.array(y_raw)\n",
    "num_bins = 23\n",
    "avg_samples_per_bin = len(y_np)/num_bins\n",
    "\n",
    "hist, bins = np.histogram(y_np, num_bins)\n",
    "width = 0.7 * (bins[1] - bins[0])\n",
    "center = (bins[:-1] + bins[1:]) / 2\n",
    "plt.bar(center, hist, align='center', width=width)\n",
    "plt.plot((np.min(y_np), np.max(y_np)), (avg_samples_per_bin, avg_samples_per_bin), 'k-')\n",
    "\n",
    "plt.title('total data distribution, 23bins')"
   ]
  },
  {
   "cell_type": "code",
   "execution_count": 8,
   "metadata": {
    "collapsed": false,
    "deletable": true,
    "editable": true
   },
   "outputs": [
    {
     "name": "stdout",
     "output_type": "stream",
     "text": [
      "[1.0, 1.0, 1.0, 1.0, 1.0, 1.0, 1.0, 0.5690412122928763, 0.0961980463512737, 0.40880417825408666, 0.46215780998389688, 0.097305413390593967, 0.40976306217493286, 0.43277205327971852, 0.10039980009995003, 0.53369343841317629, 1.0, 1.0, 1.0, 1.0, 1.0, 1.0, 1.0]\n"
     ]
    }
   ],
   "source": [
    "def make_keep_probs(target):\n",
    "    \n",
    "    keep_probs = []\n",
    "    \n",
    "    for i in range(num_bins):\n",
    "        if hist[i] < target:\n",
    "            keep_probs.append(1.)\n",
    "        else:\n",
    "            keep_probs.append(1./(hist[i]/target))\n",
    "            \n",
    "    return keep_probs\n",
    "\n",
    "keep_probs = make_keep_probs(avg_samples_per_bin * .5)\n",
    "\n",
    "print(keep_probs)"
   ]
  },
  {
   "cell_type": "code",
   "execution_count": 9,
   "metadata": {
    "collapsed": true,
    "deletable": true,
    "editable": true
   },
   "outputs": [],
   "source": [
    "def make_remove_list(angles, keep_probs, left_cut = 2.5, right_cut = 2.5, center_cut= 0.7):\n",
    "    \n",
    "    remove_list = []\n",
    "    for i in range(len(angles)):\n",
    "        for j in range(num_bins):\n",
    "            if angles[i] > bins[j] and angles[i] <= bins[j+1]:\n",
    "            # delete from X and y with probability 1 - keep_probs[j]\n",
    "            \n",
    "                if j > (num_bins/2 - left_cut) and j < (num_bins/2 + right_cut):\n",
    "                \n",
    "                    if np.random.rand() > (keep_probs[j] * center_cut) :\n",
    "                    \n",
    "                        remove_list.append(i)\n",
    "            \n",
    "                else:\n",
    "            \n",
    "                    if np.random.rand() > keep_probs[j]:\n",
    "                        remove_list.append(i)\n",
    "    \n",
    "    return remove_list"
   ]
  },
  {
   "cell_type": "code",
   "execution_count": 10,
   "metadata": {
    "collapsed": false,
    "deletable": true,
    "editable": true
   },
   "outputs": [
    {
     "name": "stdout",
     "output_type": "stream",
     "text": [
      "0.00406964406483\n",
      "0.313471474417\n"
     ]
    },
    {
     "data": {
      "image/png": "[encoded data removed]",
      "text/plain": [
       "<matplotlib.figure.Figure at 0x7ff6d3035be0>"
      ]
     },
     "metadata": {},
     "output_type": "display_data"
    }
   ],
   "source": [
    "num_bins = 23\n",
    "avg_samples_per_bin = len(y_np)/num_bins\n",
    "hist, bins = np.histogram(y_np, num_bins)\n",
    "width = 0.7 * (bins[1] - bins[0])\n",
    "center = (bins[:-1] + bins[1:]) / 2\n",
    "plt.bar(center, hist, align='center', width=width)\n",
    "plt.plot((np.min(y_np), np.max(y_np)), (avg_samples_per_bin, avg_samples_per_bin), 'k-')\n",
    "\n",
    "print(np.mean(y_np))\n",
    "print(np.std(y_np))"
   ]
  },
  {
   "cell_type": "code",
   "execution_count": 11,
   "metadata": {
    "collapsed": false,
    "deletable": true,
    "editable": true
   },
   "outputs": [],
   "source": [
    "keep_probs = make_keep_probs(avg_samples_per_bin * .5)\n",
    "remove_list = make_remove_list(angles = y_np, keep_probs= keep_probs, left_cut = 2.5, right_cut = 2.5)\n",
    "\n",
    "angles_np = np.delete(y_np, remove_list)\n",
    "\n",
    "X_np = np.array(X_raw)\n",
    "images_np = np.delete(X_np, remove_list)"
   ]
  },
  {
   "cell_type": "code",
   "execution_count": 12,
   "metadata": {
    "collapsed": true,
    "deletable": true,
    "editable": true
   },
   "outputs": [],
   "source": [
    "angles = angles_np.tolist()\n",
    "images = images_np.tolist()"
   ]
  },
  {
   "cell_type": "code",
   "execution_count": 13,
   "metadata": {
    "collapsed": false
   },
   "outputs": [
    {
     "name": "stdout",
     "output_type": "stream",
     "text": [
      "-0.0231935715967\n"
     ]
    },
    {
     "data": {
      "image/png": "[encoded data removed]",
      "text/plain": [
       "<matplotlib.figure.Figure at 0x7ff6d2f92828>"
      ]
     },
     "metadata": {},
     "output_type": "display_data"
    }
   ],
   "source": [
    "num_bins = 23\n",
    "\n",
    "hist, bins = np.histogram(angles, num_bins)\n",
    "width = 0.7 * (bins[1] - bins[0])\n",
    "center = (bins[:-1] + bins[1:]) / 2\n",
    "plt.bar(center, hist, align='center', width=width)\n",
    "\n",
    "\n",
    "print(np.mean(angles))"
   ]
  },
  {
   "cell_type": "markdown",
   "metadata": {
    "deletable": true,
    "editable": true
   },
   "source": [
    "Define how to do data augmentation\n",
    "- random_darken\n",
    "- vertical shift\n",
    "- horizontal flip"
   ]
  },
  {
   "cell_type": "code",
   "execution_count": 14,
   "metadata": {
    "collapsed": true,
    "deletable": true,
    "editable": true
   },
   "outputs": [],
   "source": [
    "def random_darken(image):\n",
    "    \"\"\"Given an image (from Image.open), randomly darken a part of it.\"\"\"\n",
    "    w, h = image.size\n",
    "\n",
    "    # Make a random box.\n",
    "    x1, y1 = random.randint(0, w), random.randint(0, h)\n",
    "    x2, y2 = random.randint(x1, w), random.randint(y1, h)\n",
    "\n",
    "    # Loop through every pixel of our box (*GASP*) and darken.\n",
    "    for i in range(x1, x2):\n",
    "        for j in range(y1, y2):\n",
    "            new_value = tuple([int(x * 0.5) for x in image.getpixel((i, j))])\n",
    "            image.putpixel((i, j), new_value)\n",
    "    return image"
   ]
  },
  {
   "cell_type": "code",
   "execution_count": 15,
   "metadata": {
    "collapsed": false,
    "deletable": true,
    "editable": true
   },
   "outputs": [],
   "source": [
    "def split_data(data, label, split = 0.3):\n",
    "    \n",
    "    train_samples, validation_samples, train_labels, validation_labels = train_test_split(\n",
    "    data,\n",
    "    label,\n",
    "    test_size=split,\n",
    "    random_state=832289)\n",
    "    \n",
    "    return train_samples, validation_samples, train_labels, validation_labels"
   ]
  },
  {
   "cell_type": "code",
   "execution_count": 16,
   "metadata": {
    "collapsed": true,
    "deletable": true,
    "editable": true
   },
   "outputs": [],
   "source": [
    "def process_image_test(image, steering_angle, augment=True, shape=(160,320)):\n",
    "    \"\"\"Process and augment an image.\"\"\"\n",
    "\n",
    "    pil_image = Image.fromarray(image)\n",
    "\n",
    "    if augment and random.random() < 0.5:\n",
    "        pil_image = random_darken(pil_image)  # before numpy'd\n",
    "\n",
    "    image = img_to_array(pil_image)\n",
    "        \n",
    "    if augment:\n",
    "        image = random_shift(image, 0.0, 0.2, 0, 1, 2)  # only vertical\n",
    "        if random.random() < 0.5:\n",
    "            image = flip_axis(image, 1)\n",
    "            steering_angle = -steering_angle\n",
    "\n",
    "    return image, steering_angle"
   ]
  },
  {
   "cell_type": "markdown",
   "metadata": {
    "deletable": true,
    "editable": true
   },
   "source": [
    "Define generator \n",
    "\n",
    "- generator : train generator\n",
    "- generator_valid : validation generator"
   ]
  },
  {
   "cell_type": "code",
   "execution_count": 17,
   "metadata": {
    "collapsed": false,
    "deletable": true,
    "editable": true
   },
   "outputs": [],
   "source": [
    "# image directory, path = '../merge_image/image/' "
   ]
  },
  {
   "cell_type": "code",
   "execution_count": 18,
   "metadata": {
    "collapsed": false,
    "deletable": true,
    "editable": true
   },
   "outputs": [],
   "source": [
    "image_path = '../../../merge_image/image/'\n",
    "\n",
    "def generator(samples, labels, batch_size=128, model='default'):\n",
    "    num_samples = len(samples)\n",
    "    while 1: # Loop forever so the generator never terminates\n",
    "        shuffle(samples, labels)\n",
    "        \n",
    "        print('\\n training batch shuffled')\n",
    "        \n",
    "        for offset in range(0, num_samples, batch_size):\n",
    "           \n",
    "        #    print(type(samples))\n",
    "        #    print(len(samples))\n",
    "            batch_samples = samples[offset:offset+batch_size]\n",
    "            batch_labels = labels[offset:offset+batch_size]\n",
    "\n",
    "            images = []\n",
    "            angles = []\n",
    "            for idx, val in enumerate(batch_samples):\n",
    "\n",
    "        \n",
    "                name = batch_samples[idx]\n",
    "                \n",
    "                path = image_path + name \n",
    "            \n",
    "          #      raw_image = cv2.imread(path)\n",
    "        \n",
    "                srcBGR = cv2.imread(path)\n",
    "          #      destRGB = cv2.cvtColor(srcBGR, cv2.COLOR_BGR2RGB)\n",
    "               \n",
    "                new_img = cv2.cvtColor(srcBGR , cv2.COLOR_BGR2YUV)\n",
    "                    \n",
    "                raw_angle = float(batch_labels[idx])\n",
    "                \n",
    "                input_image, input_angle = process_image_test(new_img, raw_angle)\n",
    "                \n",
    "                images.append(input_image)\n",
    "                angles.append(input_angle)\n",
    "                \n",
    "               \n",
    "            # trim image to only see section with road\n",
    "            X_train = np.array(images)\n",
    "            y_train = np.array(angles)\n",
    "            yield shuffle(X_train, y_train)\n",
    "            \n",
    "def generator_valid(samples, labels, batch_size=128, model='default'):\n",
    "    num_samples = len(samples)\n",
    "    while 1: # Loop forever so the generator never terminates\n",
    "        shuffle(samples, labels)\n",
    "        for offset in range(0, num_samples, batch_size):\n",
    "            batch_samples = samples[offset:offset+batch_size]\n",
    "            batch_labels = labels[offset:offset+batch_size]\n",
    "\n",
    "            images = []\n",
    "            angles = []\n",
    "            for idx, val in enumerate(batch_samples):\n",
    "        \n",
    "                name = batch_samples[idx]\n",
    "                \n",
    "                path = image_path + name \n",
    "            \n",
    "                srcBGR = cv2.imread(path)\n",
    "        #        destRGB = cv2.cvtColor(srcBGR, cv2.COLOR_BGR2RGB)\n",
    "                \n",
    "                new_img = cv2.cvtColor(srcBGR , cv2.COLOR_BGR2YUV)\n",
    "                          \n",
    "                raw_angle = float(batch_labels[idx])\n",
    "                \n",
    "                input_image, input_angle = process_image_test(new_img, raw_angle)\n",
    "                \n",
    "                images.append(input_image)\n",
    "                angles.append(input_angle)\n",
    "                \n",
    "            # trim image to only see section with road\n",
    "            X_train = np.array(images)\n",
    "            y_train = np.array(angles)\n",
    "            yield shuffle(X_train, y_train)"
   ]
  },
  {
   "cell_type": "markdown",
   "metadata": {
    "deletable": true,
    "editable": true
   },
   "source": [
    "train_valid \n",
    "- angles : streering angles, list \n",
    "- labels : image file names, list\n",
    "- model_name : model name\n",
    "  ,String\n",
    "- load_stored : whether to restore saved model or not\n",
    "  ,True or False\n",
    "- load_model_path : file path to save model\n",
    "  ,String\n",
    "- save_best : whether to save model based on Keras, ModelCheckpoint class, monitor parameter value. \n",
    "  ,True or False\n",
    "- no_epoch : number of epochs"
   ]
  },
  {
   "cell_type": "code",
   "execution_count": 19,
   "metadata": {
    "collapsed": true,
    "deletable": true,
    "editable": true
   },
   "outputs": [],
   "source": [
    "def train_valid(angles, labels, model_name='default', data='default', lr=0.001, load_stored= False, load_model_path = None, save_best = False, no_epoch=5):\n",
    "    \"\"\"Load our network and our data, fit the model, save it.\"\"\"\n",
    "    \n",
    "    # select 'load model' or just 'new model'\n",
    "    \n",
    "    print(\"load_model_path is %s \" % load_model_path)\n",
    "    \n",
    "   \n",
    "    if(load_stored):\n",
    "        \n",
    "        net = load_model(load_model_path)\n",
    "        \n",
    "    else:\n",
    "        \n",
    "        if(model_name=='nvidia'):\n",
    "            net = nvidia(load=False, shape=(160, 320, 3), lr=lr)\n",
    "        \n",
    "        elif(model_name=='default'):\n",
    "            net = model(load=False, shape=(160, 320, 3), lr=lr)\n",
    "\n",
    "    \n",
    "    # select path to save model based on each model\n",
    "    if(model_name=='default'):\n",
    "        \n",
    "        save_path = load_model_path\n",
    "\n",
    "    if(model_name=='nvidia'):\n",
    "        \n",
    "        save_path = load_model_path\n",
    "    \n",
    "        \n",
    "    # select data directory \n",
    "    if(data=='default'):\n",
    "\n",
    "        X_merge = labels\n",
    "        y_merge = angles\n",
    "        pass\n",
    "    \n",
    "\n",
    "    elif(data=='recovery'):    \n",
    "        pass\n",
    "#        X_merge, y_merge = merge_data3(data_dir1,t1_re,t1_rer)\n",
    " \n",
    "\n",
    "    \n",
    "    # shuffle labels\n",
    "    X_merge,y_merge = shuffle(X_merge, y_merge)\n",
    "    \n",
    "\n",
    "    # split data\n",
    "    train_samples, validation_samples, train_labels, validation_labels = split_data(X_merge,y_merge,split = 0.1)\n",
    "  \n",
    "    \n",
    "    # define generators for training and validation\n",
    "    # image label should not be dupilcated in the label file for thread safety.\n",
    "    \n",
    "    train_generator = generator(train_samples, train_labels, batch_size=256, model=model_name)\n",
    "    validation_generator = generator_valid(validation_samples, validation_labels, batch_size=256, model=model_name)\n",
    "    \n",
    "    \n",
    "    # define whether to use checkpointer or not\n",
    "    \n",
    "    if(save_best):\n",
    "    \n",
    "        checkpointer = ModelCheckpoint(filepath=load_model_path, monitor='loss', verbose=1, \n",
    "                                   save_best_only=True,save_weights_only=False)\n",
    "        callbacks_list = [checkpointer]\n",
    "        \n",
    "        net.fit_generator(train_generator, samples_per_epoch=len(train_samples), validation_data=validation_generator, \n",
    "            nb_val_samples=len(validation_samples), nb_epoch= no_epoch,callbacks=callbacks_list)\n",
    "        \n",
    "    else:\n",
    "        \n",
    "        net.fit_generator(train_generator, samples_per_epoch=len(train_samples), validation_data=validation_generator, \n",
    "            nb_val_samples=len(validation_samples), nb_epoch= no_epoch)\n",
    "        \n",
    "        net.save(load_model_path)\n",
    "        print(\"Saved model to disk\")\n",
    "       \n",
    "    \n",
    "    # model summary for debugging\n",
    "    net.summary()\n",
    "    \n",
    "    # print weights for debugging\n",
    "    weights_test = net.get_weights()\n",
    "    \n",
    "    print(len(weights_test))\n",
    "    print((np.array(weights_test))[0])"
   ]
  },
  {
   "cell_type": "code",
   "execution_count": 20,
   "metadata": {
    "collapsed": false,
    "deletable": true,
    "editable": true,
    "scrolled": true
   },
   "outputs": [
    {
     "name": "stdout",
     "output_type": "stream",
     "text": [
      "load_model_path is ./model/test.h5 \n",
      "adam optimizer, lr is 0.001\n",
      "Epoch 1/2\n",
      " training batch shuffled\n",
      "\n",
      "4608/4860 [===========================>..] - ETA: 2s - loss: 0.7730 \b\b\b\b\b\b\b\b\b\b\b\b\b\b\b\b\b\b\b\b\b\b\b\b\b\b\b\b\b\b\b\b\b\b\b\b\b\b\b\b\b\b\b\b\b\b\b\b\b\b\b\b\b\b\b\b\b\b\b\b\b\b\b\b\b\b\b\b\b\b\b\b\b\b\b\b\b\b\b\b\b\b\b\b\b\b\b\b\b\b\b\b\b\b\b\b\b\b\b\b\b\b\b\b\b\b\b\b\b\b\b\b\b\b\b\b\b\b\b\b\b\b\b\b\b\b\b\b\b\b\b\b\b\b\b\b\b\b\b\b\b\b\b\b\b\b\b\b\b\b\b\b\b\b\b\b\b\b\b\b\b\b\b\b\b\b\b\b\b\b\b\b\b\b\b\b\b\b\b\b\b\b\b\b\b\b\b\b\b\b\b\b\b\b\b\b\b\b\b\b\b\b\b\b\b\b\b\b\b\b\b\b\b\b\b\b\b\b\b\b\b\b\b\b\b\b\b\b\b\b\b\b\b\b\b\b\b\b\b\b\b\b\b\b\b\b\b\b\b\b\b\b\b\b\b\b\b\b\b\b\b\b\b\b\b\b\b\b\b\b\b\b\b\b\b\b\b\b\b\b\b\b\b\b\b\b\b\b\b\b\b\b\b\b\b\b\b\b\b\b\b\b\b\b\b\b\b\b\b\b\b\b\b\b\b\b\b\b\b\b\b\b\b\b\b\b\b\b\b\b\b\b\b\b\b\b\b\b\b\b\b\b\b\b\b\b\b\b\b\b\b\b\b\b\b\b\b\b\b\b\b\b\b\b\b\b\b\b\b\b\b\b\b\b\b\b\b\b\b\b\b\b\b\b\b\b\b\b\b\b\b\b\b\b\b\b\b\b\b\b\b\b\b\b\b\b\b\b\b\b\b\b\b\b\b\b\b\b\b\b\b\b\b\b\b\b\b\b\b\b\b\b\b\b\b\b\b\b\b\b\b\b\b\b\b\b\b\b\b\b\b\b\b\b\b\b\b\b\b\b\b\b\b\b\b\b\b\b\b\b\b\b\b\b\b\b\b\b\b\b\b\b\b\b\b\b\b\b\b\b\b\b\b\b\b\b\b\b\b\b\b\b\b\b\b\b\b\b\b\b\b\b\b\b\b\b\b\b\b\b\b\b\b\b\b\b\b\b\b\b\b\b\b\b\b\b\b\b\b\b\b\b\b\b\b\b\b\b\b\b\b\b\b\b\b\b\b\b\b\b\b\b\b\b\b\b\b\b\b\b\b\b\b\b\b\b\b\b\b\b\b\b\b\b\b\b\b\b\b\b\b\b\b\b\b\b\b\b\b\b\b\b\b\b\b\b\b\b\b\b\b\b\b\b\b\b\b\b\b\b\b\b\b\b\b\b\b\b\b\b\b\b\b\b\b\b\b\b\b\b\b\b\b\b\b\b\b\b\b\b\b\b\b\b\b\b\b\b\b\b\b\b\b\b\b\b\b\b\b\b\b\b\b\b\b\b\b\b\b\b\b\b\b\b\b\b\b\b\b\b\b\b\b\b\b\b\b\b\b\b\b\b\b\b\b\b\b\b\b\b\b\b\b\b\b\b\b\b\b\b\b\b\b\b\b\b\b\b\b\b\b\b\b\b\b\b\b\b\b\b\b\b\b\b\b\b\b\b\b\b\b\b\b\b\b\b\b\b\b\b\b\b\b\b\b\b\b\b\b\b\b\b\b\b\b\b\b\b\b\b\b\b\b\b\b\b\b\b\b\b\b\b\b\b\b\b\b\b\b\b\b\b\b\b\b\b\b\b\b\b\b\b\b\b\b\b\b\b\b\b\b\b\b\b\b\b\b\b\b\b\b\b\b\b\b\b\b\b\b\b\b\b\b\b\b\b\b\b\b\b\b\b\b\b\b\b\b\b\b\b\b\b\b\b\b\b\b\b\b\b\b\b\b\b\b\b\b\b\b\b\b\b\b\b\b\b\b\b\b\b\b\b\b\b\b\b\b\b\b\b\b\b\b\b\b\b\b\b\b\b\b\b\b\b\b\b\b\b\b\b\b\b\b\b\b\b\b\b\b\b\b\b\b\b\b\b\b\b\b\b\b\b\b\b\b\b\b\b\b\b\b\b\b\b\b\b\b\b\b\b\b\b\b\b\b\b\b\b\b\b\b\b\b\b\b\b\b\b\b\b\b\b\b\b\b\b\b\b\b\b\b\b\b\b\b\b\b\b\b\b\b\b\b\b\b\b\b\b\b\b\b\b\b\b\b\b\b\b\b\b\b\b\b\b\b\b\b\b\b\b\b\b\b\b\b\b\b\b\b\b\b\b\b\b\b\b\b\b\b\b\b\b\b\b\b\b\b\b\b\b\b\b\b\b\b\b\b\b\b\b\b\b\b\b\b\b\b\b\b\b\b\b\b\b\b\b\b\b\b\b\b\b\b\b\b\b\b\b\b\b\b\b\b\b\b\b\b\b\b\b\b\b\b\b\b\b\b\b\b\b\b\b\b\b\b\b\b\b\b\b\b\b\b\b\b\b\b\b\b\b\b\b\b\b\b\b\b\b\b\b\b\b\b\b\n",
      " training batch shuffled\n",
      "4860/4860 [==============================] - 62s - loss: 0.7417 - val_loss: 0.1629\n",
      "Epoch 2/2\n",
      "4608/4860 [===========================>..] - ETA: 2s - loss: 0.1657 \b\b\b\b\b\b\b\b\b\b\b\b\b\b\b\b\b\b\b\b\b\b\b\b\b\b\b\b\b\b\b\b\b\b\b\b\b\b\b\b\b\b\b\b\b\b\b\b\b\b\b\b\b\b\b\b\b\b\b\b\b\b\b\b\b\b\b\b\b\b\b\b\b\b\b\b\b\b\b\b\b\b\b\b\b\b\b\b\b\b\b\b\b\b\b\b\b\b\b\b\b\b\b\b\b\b\b\b\b\b\b\b\b\b\b\b\b\b\b\b\b\b\b\b\b\b\b\b\b\b\b\b\b\b\b\b\b\b\b\b\b\b\b\b\b\b\b\b\b\b\b\b\b\b\b\b\b\b\b\b\b\b\b\b\b\b\b\b\b\b\b\b\b\b\b\b\b\b\b\b\b\b\b\b\b\b\b\b\b\b\b\b\b\b\b\b\b\b\b\b\b\b\b\b\b\b\b\b\b\b\b\b\b\b\b\b\b\b\b\b\b\b\b\b\b\b\b\b\b\b\b\b\b\b\b\b\b\b\b\b\b\b\b\b\b\b\b\b\b\b\b\b\b\b\b\b\b\b\b\b\b\b\b\b\b\b\b\b\b\b\b\b\b\b\b\b\b\b\b\b\b\b\b\b\b\b\b\b\b\b\b\b\b\b\b\b\b\b\b\b\b\b\b\b\b\b\b\b\b\b\b\b\b\b\b\b\b\b\b\b\b\b\b\b\b\b\b\b\b\b\b\b\b\b\b\b\b\b\b\b\b\b\b\b\b\b\b\b\b\b\b\b\b\b\b\b\b\b\b\b\b\b\b\b\b\b\b\b\b\b\b\b\b\b\b\b\b\b\b\b\b\b\b\b\b\b\b\b\b\b\b\b\b\b\b\b\b\b\b\b\b\b\b\b\b\b\b\b\b\b\b\b\b\b\b\b\b\b\b\b\b\b\b\b\b\b\b\b\b\b\b\b\b\b\b\b\b\b\b\b\b\b\b\b\b\b\b\b\b\b\b\b\b\b\b\b\b\b\b\b\b\b\b\b\b\b\b\b\b\b\b\b\b\b\b\b\b\b\b\b\b\b\b\b\b\b\b\b\b\b\b\b\b\b\b\b\b\b\b\b\b\b\b\b\b\b\b\b\b\b\b\b\b\b\b\b\b\b\b\b\b\b\b\b\b\b\b\b\b\b\b\b\b\b\b\b\b\b\b\b\b\b\b\b\b\b\b\b\b\b\b\b\b\b\b\b\b\b\b\b\b\b\b\b\b\b\b\b\b\b\b\b\b\b\b\b\b\b\b\b\b\b\b\b\b\b\b\b\b\b\b\b\b\b\b\b\b\b\b\b\b\b\b\b\b\b\b\b\b\b\b\b\b\b\b\b\b\b\b\b\b\b\b\b\b\b\b\b\b\b\b\b\b\b\b\b\b\b\b\b\b\b\b\b\b\b\b\b\b\b\b\b\b\b\b\b\b\b\b\b\b\b\b\b\b\b\b\b\b\b\b\b\b\b\b\b\b\b\b\b\b\b\b\b\b\b\b\b\b\b\b\b\b\b\b\b\b\b\b\b\b\b\b\b\b\b\b\b\b\b\b\b\b\b\b\b\b\b\b\b\b\b\b\b\b\b\b\b\b\b\b\b\b\b\b\b\b\b\b\b\b\b\b\b\b\b\b\b\b\b\b\b\b\b\b\b\b\b\b\b\b\b\b\b\b\b\b\b\b\b\b\b\b\b\b\b\b\b\b\b\b\b\b\b\b\b\b\b\b\b\b\b\b\b\b\b\b\b\b\b\b\b\b\b\b\b\b\b\b\b\b\b\b\b\b\b\b\b\b\b\b\b\b\b\b\b\b\b\b\b\b\b\b\b\b\b\b\b\b\b\b\b\b\b\b\b\b\b\b\b\b\b\b\b\b\b\b\b\b\b\b\b\b\b\b\b\b\b\b\b\b\b\b\b\b\b\b\b\b\b\b\b\b\b\b\b\b\b\b\b\b\b\b\b\b\b\b\b\b\b\b\b\b\b\b\b\b\b\b\b\b\b\b\b\b\b\b\b\b\b\b\b\b\b\b\b\b\b\b\b\b\b\b\b\b\b\b\b\b\b\b\b\b\b\b\b\b\b\b\b\b\b\b\b\b\b\b\b\b\b\b\b\b\b\b\b\b\b\b\b\b\b\b\b\b\b\b\b\b\b\b\b\b\b\b\b\b\b\b\b\b\b\b\b\b\b\b\b\b\b\b\b\b\b\b\b\b\b\b\b\b\b\b\b\b\b\b\b\b\b\b\b\b\b\b\b\b\b\b\b\b\b\b\b\b\b\b\b\b\b\b\b\b\b\b\b\b\b\b\b\b\b\b\b\b\b\b\b\b\b\b\b\b\b\b\b\b\b\b\b\b\b\b\b\b\b\b\b\b\b\b\b\b\b\b\b\b\b\b\b\b\b\b\b\b\b\b\b\b\b\b\b\b\b\b\b\b\b\b\b\b\b\b\b\b\b\b\b\b\b\b\b\b\b\b\b\b\b\b\b\b\b\b\b\b\b\b\b\b\b\b\b\b\b\b\b\b\b\n",
      " training batch shuffled\n",
      "4860/4860 [==============================] - 52s - loss: 0.1642 - val_loss: 0.1222\n",
      "Saved model to disk\n",
      "____________________________________________________________________________________________________\n",
      "Layer (type)                     Output Shape          Param #     Connected to                     \n",
      "====================================================================================================\n",
      "cropping2d_1 (Cropping2D)        (None, 100, 280, 3)   0           cropping2d_input_1[0][0]         \n",
      "____________________________________________________________________________________________________\n",
      "lambda_1 (Lambda)                (None, 100, 280, 3)   0           cropping2d_1[0][0]               \n",
      "____________________________________________________________________________________________________\n",
      "convolution2d_1 (Convolution2D)  (None, 100, 280, 24)  1824        lambda_1[0][0]                   \n",
      "____________________________________________________________________________________________________\n",
      "elu_1 (ELU)                      (None, 100, 280, 24)  0           convolution2d_1[0][0]            \n",
      "____________________________________________________________________________________________________\n",
      "maxpooling2d_1 (MaxPooling2D)    (None, 50, 140, 24)   0           elu_1[0][0]                      \n",
      "____________________________________________________________________________________________________\n",
      "convolution2d_2 (Convolution2D)  (None, 50, 140, 32)   19232       maxpooling2d_1[0][0]             \n",
      "____________________________________________________________________________________________________\n",
      "maxpooling2d_2 (MaxPooling2D)    (None, 25, 70, 32)    0           convolution2d_2[0][0]            \n",
      "____________________________________________________________________________________________________\n",
      "convolution2d_3 (Convolution2D)  (None, 25, 70, 48)    13872       maxpooling2d_2[0][0]             \n",
      "____________________________________________________________________________________________________\n",
      "maxpooling2d_3 (MaxPooling2D)    (None, 12, 35, 48)    0           convolution2d_3[0][0]            \n",
      "____________________________________________________________________________________________________\n",
      "convolution2d_4 (Convolution2D)  (None, 12, 35, 64)    27712       maxpooling2d_3[0][0]             \n",
      "____________________________________________________________________________________________________\n",
      "maxpooling2d_4 (MaxPooling2D)    (None, 6, 17, 64)     0           convolution2d_4[0][0]            \n",
      "____________________________________________________________________________________________________\n",
      "flatten_1 (Flatten)              (None, 6528)          0           maxpooling2d_4[0][0]             \n",
      "____________________________________________________________________________________________________\n",
      "dense_1 (Dense)                  (None, 1024)          6685696     flatten_1[0][0]                  \n",
      "____________________________________________________________________________________________________\n",
      "dropout_1 (Dropout)              (None, 1024)          0           dense_1[0][0]                    \n",
      "____________________________________________________________________________________________________\n",
      "dense_2 (Dense)                  (None, 512)           524800      dropout_1[0][0]                  \n",
      "____________________________________________________________________________________________________\n",
      "dropout_2 (Dropout)              (None, 512)           0           dense_2[0][0]                    \n",
      "____________________________________________________________________________________________________\n",
      "dense_3 (Dense)                  (None, 1)             513         dropout_2[0][0]                  \n",
      "====================================================================================================\n",
      "Total params: 7,273,649\n",
      "Trainable params: 7,273,649\n",
      "Non-trainable params: 0\n",
      "____________________________________________________________________________________________________\n",
      "14\n",
      "[[[[-0.05423623  0.02277057  0.00699461 ..., -0.0858916   0.05219255\n",
      "     0.0621669 ]\n",
      "   [ 0.07051767  0.04480537 -0.04188412 ..., -0.01653063 -0.06993768\n",
      "     0.00915262]\n",
      "   [-0.05476783 -0.00566198 -0.03096558 ...,  0.06544802  0.00594355\n",
      "     0.01432162]]\n",
      "\n",
      "  [[ 0.06324415  0.05747118  0.03907357 ..., -0.01706257  0.03167376\n",
      "     0.05996665]\n",
      "   [ 0.05124052  0.0231219   0.01007822 ..., -0.01794503 -0.00831615\n",
      "     0.00435524]\n",
      "   [ 0.07098996  0.0498684   0.0121037  ..., -0.03029672  0.06989149\n",
      "     0.00793007]]\n",
      "\n",
      "  [[ 0.07742441 -0.03302806 -0.03073471 ..., -0.04868535 -0.01754611\n",
      "     0.07601912]\n",
      "   [ 0.04023156  0.03016406  0.04067108 ...,  0.03833647  0.07865282\n",
      "    -0.06569208]\n",
      "   [ 0.02145358  0.00663669  0.05119231 ..., -0.05974362 -0.00937628\n",
      "    -0.08204088]]\n",
      "\n",
      "  [[-0.08763374 -0.04085835  0.00885631 ...,  0.00468481  0.04753763\n",
      "    -0.09613307]\n",
      "   [-0.05335271 -0.09178568 -0.06467462 ..., -0.09393267 -0.08647668\n",
      "    -0.08483091]\n",
      "   [ 0.02228479 -0.02241896  0.07662874 ...,  0.06148376 -0.10057573\n",
      "    -0.00470745]]\n",
      "\n",
      "  [[ 0.03812999 -0.08679204 -0.00398119 ..., -0.01975773 -0.01684752\n",
      "    -0.02234641]\n",
      "   [-0.00409559  0.01231135  0.02578424 ...,  0.04924447 -0.07457165\n",
      "     0.00726895]\n",
      "   [ 0.07116387 -0.00949502 -0.06903575 ..., -0.0135886   0.05777786\n",
      "     0.02828928]]]\n",
      "\n",
      "\n",
      " [[[ 0.04848413  0.08223462 -0.02562376 ...,  0.07122485  0.01550703\n",
      "    -0.03436636]\n",
      "   [-0.02150479  0.01672516  0.07470346 ...,  0.06211574  0.04751046\n",
      "     0.07740364]\n",
      "   [ 0.06564131 -0.04152609 -0.08149741 ...,  0.03093526  0.03784585\n",
      "     0.05835606]]\n",
      "\n",
      "  [[-0.09527948  0.02325244  0.06822293 ...,  0.00091849  0.08414867\n",
      "     0.00163834]\n",
      "   [-0.04549634 -0.07568981 -0.02449572 ...,  0.08058815  0.02870791\n",
      "     0.03636502]\n",
      "   [ 0.0176541   0.0550513   0.01247121 ...,  0.01198454  0.06377701\n",
      "    -0.03213745]]\n",
      "\n",
      "  [[ 0.06310982 -0.01922098  0.0297324  ..., -0.02151967  0.08455451\n",
      "     0.07293577]\n",
      "   [-0.00378977  0.07702594  0.02620966 ...,  0.07141499 -0.01379416\n",
      "    -0.00917462]\n",
      "   [-0.01455492  0.0951943   0.02661674 ..., -0.02371774 -0.07384533\n",
      "     0.04572726]]\n",
      "\n",
      "  [[-0.02689688 -0.050539   -0.06040532 ...,  0.04750928 -0.10045476\n",
      "     0.08158413]\n",
      "   [-0.00232751  0.01479518 -0.08209927 ..., -0.09521373 -0.01089467\n",
      "     0.0098696 ]\n",
      "   [-0.06841937 -0.04847935 -0.0527445  ..., -0.00495513 -0.03731063\n",
      "     0.0723927 ]]\n",
      "\n",
      "  [[ 0.06864058  0.05107215 -0.06749691 ..., -0.01800468 -0.01170809\n",
      "     0.03818051]\n",
      "   [-0.08632368 -0.01570979  0.04295193 ...,  0.02761233  0.01680008\n",
      "     0.02747394]\n",
      "   [ 0.05825549  0.03255386 -0.07501158 ...,  0.00338713  0.05744446\n",
      "     0.00392777]]]\n",
      "\n",
      "\n",
      " [[[-0.08133972 -0.02580421  0.07008906 ...,  0.02089281 -0.00794081\n",
      "    -0.01066628]\n",
      "   [-0.03061811 -0.06405355  0.03873104 ...,  0.05072024 -0.05870212\n",
      "     0.03525998]\n",
      "   [ 0.07672413  0.00046956  0.07812051 ...,  0.09017251  0.03518936\n",
      "     0.00731009]]\n",
      "\n",
      "  [[-0.02915574 -0.04271559  0.04789757 ...,  0.00944912  0.02495202\n",
      "     0.03196454]\n",
      "   [-0.0493148   0.01592636 -0.09235531 ..., -0.08565862  0.09080302\n",
      "     0.02814888]\n",
      "   [-0.07343986  0.06487712 -0.04693044 ..., -0.0831773   0.07799824\n",
      "     0.08646888]]\n",
      "\n",
      "  [[ 0.06728511 -0.03718998  0.00011634 ..., -0.03851854 -0.04192449\n",
      "     0.04922703]\n",
      "   [ 0.08156963  0.03178208  0.04282843 ...,  0.05257499 -0.02421521\n",
      "     0.06966706]\n",
      "   [-0.00183863 -0.06894924 -0.07454417 ...,  0.06913946  0.04845687\n",
      "     0.09085383]]\n",
      "\n",
      "  [[ 0.03399368 -0.0130113  -0.07384521 ..., -0.02889973  0.05412989\n",
      "    -0.04375198]\n",
      "   [-0.01766107 -0.07331874  0.02910418 ..., -0.02370597  0.04262919\n",
      "    -0.07534357]\n",
      "   [-0.08483911  0.07034279  0.01145616 ..., -0.02473491  0.03432967\n",
      "    -0.03304274]]\n",
      "\n",
      "  [[-0.01922508 -0.07250461  0.00313848 ...,  0.08668736 -0.07351959\n",
      "    -0.0144176 ]\n",
      "   [ 0.02776366 -0.05338038 -0.0614516  ...,  0.01775513 -0.03447937\n",
      "     0.06903113]\n",
      "   [ 0.07423596  0.08029107 -0.05857178 ..., -0.01719133  0.04431071\n",
      "     0.07986363]]]\n",
      "\n",
      "\n",
      " [[[-0.07506942 -0.01149657 -0.04578253 ...,  0.00075952  0.03072007\n",
      "    -0.05751541]\n",
      "   [-0.09867416 -0.09843045 -0.09204865 ..., -0.02425016  0.07101973\n",
      "     0.0582073 ]\n",
      "   [-0.04275375  0.0510674   0.00829316 ...,  0.03445485  0.0814158\n",
      "    -0.01268946]]\n",
      "\n",
      "  [[-0.04858571  0.01712455 -0.03945132 ..., -0.05221579  0.08046293\n",
      "     0.0401766 ]\n",
      "   [ 0.01323829  0.04026652  0.01274766 ..., -0.05311216 -0.04069732\n",
      "    -0.03870787]\n",
      "   [ 0.02598349  0.03878091  0.0786009  ..., -0.04209447 -0.01670497\n",
      "     0.05354911]]\n",
      "\n",
      "  [[ 0.06014482 -0.0258169   0.0393086  ...,  0.08113308 -0.10064964\n",
      "    -0.04572573]\n",
      "   [-0.00736381  0.00112053 -0.03627478 ...,  0.065021   -0.07070772\n",
      "     0.06051301]\n",
      "   [ 0.03240872 -0.08025227  0.02179097 ...,  0.09815012  0.02676548\n",
      "     0.08754994]]\n",
      "\n",
      "  [[ 0.0357192   0.05005061 -0.05028885 ..., -0.08620243 -0.07504734\n",
      "    -0.04187795]\n",
      "   [ 0.01393573 -0.00465701  0.0241989  ...,  0.03920345  0.04714208\n",
      "    -0.02784738]\n",
      "   [ 0.00990157 -0.05009135  0.08882578 ..., -0.08499306  0.0681314\n",
      "     0.02218318]]\n",
      "\n",
      "  [[-0.0584191   0.01762778  0.0295327  ...,  0.01531616  0.02228532\n",
      "    -0.0096728 ]\n",
      "   [ 0.00307438  0.07129285  0.01231864 ..., -0.07233204  0.08397315\n",
      "    -0.04654812]\n",
      "   [-0.01722037 -0.02462295  0.02693024 ...,  0.09536796  0.03780286\n",
      "    -0.05790585]]]\n",
      "\n",
      "\n",
      " [[[-0.01754624  0.0775523  -0.01040014 ..., -0.05184423  0.0209637\n",
      "    -0.02180632]\n",
      "   [-0.0634203  -0.02350955  0.05157036 ..., -0.07638887  0.03120775\n",
      "     0.05466795]\n",
      "   [ 0.06947494 -0.07768111  0.0785048  ...,  0.01993216 -0.05051252\n",
      "     0.00475882]]\n",
      "\n",
      "  [[-0.04062053  0.06939483 -0.04670738 ...,  0.07071473 -0.01600262\n",
      "    -0.01931413]\n",
      "   [-0.06883696  0.00369894 -0.04659446 ...,  0.03889987  0.01925119\n",
      "    -0.004737  ]\n",
      "   [-0.03691353  0.09705316  0.01339794 ...,  0.03506891 -0.00801735\n",
      "    -0.07152601]]\n",
      "\n",
      "  [[-0.02669317  0.04239951 -0.02315071 ..., -0.08515581 -0.0397062\n",
      "    -0.05767838]\n",
      "   [-0.06400184 -0.03214599  0.0229184  ...,  0.01341363  0.07799423\n",
      "    -0.06712855]\n",
      "   [ 0.04134474 -0.02138808  0.03662983 ..., -0.00509622 -0.01796059\n",
      "    -0.06845045]]\n",
      "\n",
      "  [[ 0.05379123  0.07778882  0.07690071 ...,  0.08249409  0.07415891\n",
      "    -0.07063018]\n",
      "   [ 0.04577405  0.06694054 -0.05604091 ...,  0.0079945  -0.08229685\n",
      "     0.00031734]\n",
      "   [-0.05762633 -0.07969736 -0.07159495 ..., -0.05435761  0.02731464\n",
      "     0.06103339]]\n",
      "\n",
      "  [[ 0.08400349  0.06412753  0.04395733 ...,  0.04678227  0.07512304\n",
      "    -0.06684966]\n",
      "   [-0.0550979   0.03227243 -0.0189225  ..., -0.02596435 -0.05059199\n",
      "     0.01848483]\n",
      "   [ 0.00268928  0.04885996 -0.00199558 ..., -0.05449526  0.0105687\n",
      "    -0.0233077 ]]]]\n"
     ]
    }
   ],
   "source": [
    "train_valid(angles = angles, labels = images, model_name='default', lr = 0.001, data= 'default', load_stored= False, load_model_path = './model/test.h5', save_best = False, no_epoch=2)"
   ]
  },
  {
   "cell_type": "code",
   "execution_count": 21,
   "metadata": {
    "collapsed": false,
    "deletable": true,
    "editable": true
   },
   "outputs": [],
   "source": [
    "#train_valid(angles = y_merge, labels = X_merge, model_name='default', lr = 0.001,  data= 'default', load_stored= True, load_model_path = './model/model_v4.h5', save_best = False, no_epoch=2)"
   ]
  },
  {
   "cell_type": "code",
   "execution_count": 22,
   "metadata": {
    "collapsed": false,
    "deletable": true,
    "editable": true
   },
   "outputs": [],
   "source": [
    "#train_valid(model_name='default_rgb',load_stored= False, load_model_path = './model/model_rgb.h5', save_best = False, no_epoch=15)"
   ]
  }
 ],
 "metadata": {
  "kernelspec": {
   "display_name": "Python 3",
   "language": "python",
   "name": "python3"
  },
  "language_info": {
   "codemirror_mode": {
    "name": "ipython",
    "version": 3
   },
   "file_extension": ".py",
   "mimetype": "text/x-python",
   "name": "python",
   "nbconvert_exporter": "python",
   "pygments_lexer": "ipython3",
   "version": "3.5.2"
  },
  "widgets": {
   "state": {},
   "version": "1.1.2"
  }
 },
 "nbformat": 4,
 "nbformat_minor": 2
}
