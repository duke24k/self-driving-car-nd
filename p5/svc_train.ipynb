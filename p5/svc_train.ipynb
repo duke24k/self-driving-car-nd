{
 "cells": [
  {
   "cell_type": "code",
   "execution_count": 1,
   "metadata": {
    "collapsed": false,
    "deletable": true,
    "editable": true
   },
   "outputs": [
    {
     "name": "stderr",
     "output_type": "stream",
     "text": [
      "/root/miniconda3/envs/carnd-term1/lib/python3.5/site-packages/sklearn/cross_validation.py:44: DeprecationWarning: This module was deprecated in version 0.18 in favor of the model_selection module into which all the refactored classes and functions are moved. Also note that the interface of the new CV iterators are different from that of this module. This module will be removed in 0.20.\n",
      "  \"This module will be removed in 0.20.\", DeprecationWarning)\n"
     ]
    }
   ],
   "source": [
    "%matplotlib inline\n",
    "\n",
    "import matplotlib.image as mpimg\n",
    "import matplotlib.pyplot as plt\n",
    "import numpy as np\n",
    "import cv2\n",
    "import glob\n",
    "import time\n",
    "from sklearn.svm import LinearSVC\n",
    "from sklearn.preprocessing import StandardScaler\n",
    "from sklearn.calibration import CalibratedClassifierCV\n",
    "from skimage.feature import hog\n",
    "# NOTE: the next import is only valid \n",
    "# for scikit-learn version <= 0.17\n",
    "# if you are using scikit-learn >= 0.18 then use this:\n",
    "# from sklearn.model_selection import train_test_split\n",
    "from sklearn.cross_validation import train_test_split\n",
    "from scipy.ndimage.measurements import label\n",
    "\n",
    "import pickle\n",
    "import random\n",
    "\n",
    "from utils import *"
   ]
  },
  {
   "cell_type": "code",
   "execution_count": 2,
   "metadata": {
    "collapsed": true,
    "deletable": true,
    "editable": true
   },
   "outputs": [],
   "source": [
    "# SVM SVC parameters\n",
    "\n",
    "cspace='YCrCb'\n",
    "#cspace='HLS'\n",
    "\n",
    "spatial = 32\n",
    "histbin = 32\n",
    "spatial_size = (spatial,spatial)\n",
    "hist_bins = histbin\n",
    "\n",
    "orient=12\n",
    "pix_per_cell=8\n",
    "cell_per_block=2\n",
    "\n",
    "hog_channel = 0"
   ]
  },
  {
   "cell_type": "code",
   "execution_count": null,
   "metadata": {
    "collapsed": false,
    "deletable": true,
    "editable": true
   },
   "outputs": [
    {
     "name": "stdout",
     "output_type": "stream",
     "text": [
      "8968\n",
      "8792\n"
     ]
    }
   ],
   "source": [
    "# Read in cars and notcars\n",
    "# Read in our vehicles and non-vehicles\n",
    "dir = '../../../CarND-Vehicle-Detection/non-vehicles/**/*.png'\n",
    "\n",
    "#images = glob.glob('*.jpeg')\n",
    "images = glob.glob(dir)\n",
    "cars = []\n",
    "notcars = []\n",
    "\n",
    "\n",
    "for image in images:\n",
    "    if 'image' in image or 'extra' in image:\n",
    "        notcars.append(image)\n",
    "#    else:\n",
    "#        cars.append(image)\n",
    "\n",
    "print(len(notcars))\n",
    "\n",
    "cardir = '../../../CarND-Vehicle-Detection/vehicles/**/*.png'\n",
    "\n",
    "#images = glob.glob('*.jpeg')\n",
    "carimages = glob.glob(cardir)\n",
    "\n",
    "for image in carimages:\n",
    "    cars.append(image)\n",
    "    \n",
    "print(len(cars))"
   ]
  },
  {
   "cell_type": "code",
   "execution_count": null,
   "metadata": {
    "collapsed": false,
    "deletable": true,
    "editable": true
   },
   "outputs": [],
   "source": [
    "car_features = extract_features(cars, cspace=cspace, spatial_size=(spatial, spatial),\n",
    "                        hist_bins=histbin, hist_range=(0, 256), hog_channel = hog_channel,orient=orient,\n",
    "                        pix_per_cell=pix_per_cell, cell_per_block=cell_per_block)\n",
    "notcar_features = extract_features(notcars, cspace=cspace, spatial_size=(spatial, spatial),\n",
    "                        hist_bins=histbin, hist_range=(0, 256),hog_channel = hog_channel,\n",
    "                                   orient=orient, pix_per_cell=pix_per_cell, cell_per_block=cell_per_block)\n",
    "\n",
    "# Create an array stack of feature vectors\n",
    "X = np.vstack((car_features, notcar_features)).astype(np.float64)                        \n",
    "# Fit a per-column scaler\n",
    "X_scaler = StandardScaler().fit(X)\n",
    "# Apply the scaler to X\n",
    "scaled_X = X_scaler.transform(X)\n",
    "\n",
    "# Define the labels vector\n",
    "y = np.hstack((np.ones(len(car_features)), np.zeros(len(notcar_features))))\n",
    "\n",
    "\n",
    "# Split up data into randomized training and test sets\n",
    "rand_state = np.random.randint(0, 100)\n",
    "X_train, X_test, y_train, y_test = train_test_split(\n",
    "    scaled_X, y, test_size=0.2, random_state=rand_state)\n",
    "\n",
    "print('Using spatial binning of:',spatial,\n",
    "    'and', histbin,'histogram bins')\n",
    "print('Feature vector length:', len(X_train[0]))\n",
    "# Use a linear SVC \n",
    "svc = LinearSVC()\n",
    "# Check the training time for the SVC\n",
    "t=time.time()\n",
    "svc.fit(X_train, y_train)\n",
    "t2 = time.time()\n",
    "print(round(t2-t, 2), 'Seconds to train SVC...')\n",
    "# Check the score of the SVC\n",
    "print('Test Accuracy of SVC = ', round(svc.score(X_test, y_test), 4))\n",
    "# Check the prediction time for a single sample\n",
    "t=time.time()\n",
    "n_predict = 10\n",
    "print('My SVC predicts: ', svc.predict(X_test[0:n_predict]))\n",
    "print('For these',n_predict, 'labels: ', y_test[0:n_predict])\n",
    "t2 = time.time()\n",
    "print(round(t2-t, 5), 'Seconds to predict', n_predict,'labels with SVC')"
   ]
  },
  {
   "cell_type": "code",
   "execution_count": null,
   "metadata": {
    "collapsed": false,
    "deletable": true,
    "editable": true
   },
   "outputs": [],
   "source": [
    "pyramid = [((64, 64),  [400, 500]),\n",
    "           ((96, 96),  [400, 500]),\n",
    "           ((128, 128),[450, 578]),\n",
    "           ((192, 192),[450, None]),\n",
    "#             ((256, 256),[450, None])\n",
    "      ]\n",
    "image_size = (720, 1280)\n",
    "windows = create_windows(pyramid, image_size)"
   ]
  },
  {
   "cell_type": "code",
   "execution_count": null,
   "metadata": {
    "collapsed": false,
    "deletable": true,
    "editable": true
   },
   "outputs": [],
   "source": [
    "images_box = []\n",
    "all_dist = []\n",
    "\n",
    "for image in range(6):\n",
    "    \n",
    "    prefix = 'test_images/test'\n",
    "    \n",
    "    test_img = mpimg.imread( prefix + str(image+1) + '.jpg')\n",
    "\n",
    "\n",
    "    test, box_list, pred_dist = find_cars(test_img, windows, svc, image_size= (64,64), cutoff=0, \n",
    "                            cspace=cspace, spatial_size=spatial_size,  hist_bins=hist_bins, \n",
    "                            hog_channel=hog_channel,  orient=orient, pix_per_cell=pix_per_cell, \n",
    "                            cell_per_block=cell_per_block,car_image=True)\n",
    "    images_box.append(test)\n",
    "    all_dist.append(pred_dist)\n",
    "\n",
    "f, ((ax1, ax2), (ax3, ax4), (ax5, ax6)) = plt.subplots(3, 2, figsize=(20,18))\n",
    "ax1.imshow(images_box[0])\n",
    "ax1.set_title('0', fontsize=10)\n",
    "#ax2.imshow(image)\n",
    "ax2.imshow(images_box[1])\n",
    "ax2.set_title('1', fontsize=10)\n",
    "\n",
    "ax3.imshow(images_box[2])\n",
    "ax3.set_title('2', fontsize=10)\n",
    "\n",
    "ax4.imshow(images_box[3])\n",
    "ax4.set_title('3', fontsize=10)\n",
    "\n",
    "ax5.imshow(images_box[4])\n",
    "ax5.set_title('4', fontsize=10)\n",
    "\n",
    "ax6.imshow(images_box[5])\n",
    "ax6.set_title('5', fontsize=10)"
   ]
  },
  {
   "cell_type": "code",
   "execution_count": null,
   "metadata": {
    "collapsed": false,
    "deletable": true,
    "editable": true
   },
   "outputs": [],
   "source": [
    "#print(np.array(all_dist))\n",
    "#print((np.array(all_dist)).reshape(1,-1))\n",
    "\n",
    "reshaped =(np.array(all_dist)).reshape(1,-1)\n",
    "plt.plot(reshaped.T)"
   ]
  },
  {
   "cell_type": "code",
   "execution_count": null,
   "metadata": {
    "collapsed": true,
    "deletable": true,
    "editable": true
   },
   "outputs": [],
   "source": []
  }
 ],
 "metadata": {
  "kernelspec": {
   "display_name": "Python 3",
   "language": "python",
   "name": "python3"
  },
  "language_info": {
   "codemirror_mode": {
    "name": "ipython",
    "version": 3
   },
   "file_extension": ".py",
   "mimetype": "text/x-python",
   "name": "python",
   "nbconvert_exporter": "python",
   "pygments_lexer": "ipython3",
   "version": "3.5.2"
  },
  "widgets": {
   "state": {},
   "version": "1.1.2"
  }
 },
 "nbformat": 4,
 "nbformat_minor": 2
}
